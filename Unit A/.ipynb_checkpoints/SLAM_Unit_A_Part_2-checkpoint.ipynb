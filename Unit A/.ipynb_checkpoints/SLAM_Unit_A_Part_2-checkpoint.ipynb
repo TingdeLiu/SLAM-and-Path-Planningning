{
 "cells": [
  {
   "cell_type": "markdown",
   "metadata": {
    "deletable": false,
    "editable": false,
    "nbgrader": {
     "cell_type": "markdown",
     "checksum": "bd0e76cb3238ba58f3829de2a2bc7180",
     "grade": false,
     "grade_id": "cell-aa83106e43b11bd8",
     "locked": true,
     "schema_version": 3,
     "solution": false,
     "task": false
    }
   },
   "source": [
    "# SLAM Unit A - Part 2\n",
    "In this part of Unit A, we will work on the motion model."
   ]
  },
  {
   "cell_type": "code",
   "execution_count": 1,
   "metadata": {},
   "outputs": [],
   "source": [
    "# You can modify the following to adjust the (width, height) of the plots (supposed to be in inches).\n",
    "from pylab import *\n",
    "plt.rcParams['figure.figsize'] = (12, 6)\n",
    "# YouTube = True  # Uncomment to get YouTube videos instead of TIB AV."
   ]
  },
  {
   "cell_type": "markdown",
   "metadata": {
    "deletable": false,
    "editable": false,
    "nbgrader": {
     "cell_type": "markdown",
     "checksum": "9acee2fe1c730757c60cb4f2a51167a9",
     "grade": false,
     "grade_id": "cell-7edaa7c72e853f6d",
     "locked": true,
     "schema_version": 3,
     "solution": false,
     "task": false
    }
   },
   "source": [
    "## The motion model\n",
    "The motion model lets us convert the left and right motor movements into a progression of poses (positions and orientations) of the robot."
   ]
  },
  {
   "cell_type": "code",
   "execution_count": 2,
   "metadata": {
    "deletable": false,
    "editable": false,
    "nbgrader": {
     "cell_type": "code",
     "checksum": "0fb8ca9c58fae736587a1a9a41fbd665",
     "grade": false,
     "grade_id": "cell-878033285583999e",
     "locked": true,
     "schema_version": 3,
     "solution": false,
     "task": false
    }
   },
   "outputs": [
    {
     "data": {
      "text/html": [
       "\n",
       "        <iframe\n",
       "            width=\"560\"\n",
       "            height=\"315\"\n",
       "            src=\"//av.tib.eu/player/49051\"\n",
       "            frameborder=\"0\"\n",
       "            allowfullscreen\n",
       "        ></iframe>\n",
       "        "
      ],
      "text/plain": [
       "<IPython.lib.display.IFrame at 0x7fde9a805650>"
      ]
     },
     "execution_count": 2,
     "metadata": {},
     "output_type": "execute_result"
    }
   ],
   "source": [
    "# If you don't see a video below, run this cell.\n",
    "from IPython.display import IFrame\n",
    "IFrame(\"https://www.youtube.com/embed/HPeBhArNpzY\" if \"YouTube\" in globals() else \"//av.tib.eu/player/49051\",\n",
    "       width=560, height=315)"
   ]
  },
  {
   "cell_type": "markdown",
   "metadata": {
    "deletable": false,
    "editable": false,
    "nbgrader": {
     "cell_type": "markdown",
     "checksum": "349998942955c754089fa0220b211351",
     "grade": false,
     "grade_id": "cell-d4a12694665d08d2",
     "locked": true,
     "schema_version": 3,
     "solution": false,
     "task": false
    }
   },
   "source": [
    "### After viewing the video, it is easy to answer the following question (1 point).\n",
    "In our motion model, we guarantee that the heading angle $\\theta$ is always in the range:\n",
    "- A: from $0$ to $\\pi$\n",
    "- B: from $-\\pi$ to $\\pi$\n",
    "- C: from $0$ to $2 \\pi$."
   ]
  },
  {
   "cell_type": "code",
   "execution_count": 5,
   "metadata": {
    "deletable": false,
    "nbgrader": {
     "cell_type": "code",
     "checksum": "2725c6950178fd621b036a1dec886179",
     "grade": false,
     "grade_id": "cell-dbebfbb6be43e2cd",
     "locked": false,
     "schema_version": 3,
     "solution": true,
     "task": false
    },
    "scrolled": true
   },
   "outputs": [],
   "source": [
    "# Enter your selection as a string, i.e., \"A\", \"B\", or \"C\". Then delete any lines below.\n",
    "the_theta_range = \"C\"\n",
    "# YOUR CODE HERE"
   ]
  },
  {
   "cell_type": "code",
   "execution_count": 9,
   "metadata": {
    "deletable": false,
    "editable": false,
    "nbgrader": {
     "cell_type": "code",
     "checksum": "bd9b147961c54773d0e5b92d37a705b3",
     "grade": true,
     "grade_id": "cell-63247ba2b705daa8",
     "locked": true,
     "points": 1,
     "schema_version": 3,
     "solution": false,
     "task": false
    }
   },
   "outputs": [],
   "source": [
    "# Let us test this.\n",
    "assert(the_theta_range in \"ABC\")  # Needs to be one of the proposed solutions."
   ]
  },
  {
   "cell_type": "code",
   "execution_count": 8,
   "metadata": {
    "deletable": false,
    "editable": false,
    "nbgrader": {
     "cell_type": "code",
     "checksum": "9bdf406a115a5bd8938db511864a1076",
     "grade": false,
     "grade_id": "cell-d0748692f3765238",
     "locked": true,
     "schema_version": 3,
     "solution": false,
     "task": false
    }
   },
   "outputs": [
    {
     "data": {
      "text/html": [
       "\n",
       "        <iframe\n",
       "            width=\"560\"\n",
       "            height=\"315\"\n",
       "            src=\"//av.tib.eu/player/49052\"\n",
       "            frameborder=\"0\"\n",
       "            allowfullscreen\n",
       "        ></iframe>\n",
       "        "
      ],
      "text/plain": [
       "<IPython.lib.display.IFrame at 0x7fde9a49c810>"
      ]
     },
     "execution_count": 8,
     "metadata": {},
     "output_type": "execute_result"
    }
   ],
   "source": [
    "# If you don't see a video below, run this cell.\n",
    "from IPython.display import IFrame\n",
    "IFrame(\"https://www.youtube.com/embed/7zpz7f73MOU\" if \"YouTube\" in globals() else \"//av.tib.eu/player/49052\",\n",
    "       width=560, height=315)"
   ]
  },
  {
   "cell_type": "markdown",
   "metadata": {
    "deletable": false,
    "editable": false,
    "nbgrader": {
     "cell_type": "markdown",
     "checksum": "dd8766fa423a702e4d720ad38b849f8a",
     "grade": false,
     "grade_id": "cell-b51c2ac1a9c88a0d",
     "locked": true,
     "schema_version": 3,
     "solution": false,
     "task": false
    }
   },
   "source": [
    "### Your first programming assignment: implement the motion model (20 points).\n",
    "Carefully watch the video above and implement the shown equations as Python3 code. Insert them into the indicated sections below.\n",
    "After you run this, a list of poses should be output in the cell, followed by a plot of the positions."
   ]
  },
  {
   "cell_type": "code",
   "execution_count": 3,
   "metadata": {
    "deletable": false,
    "nbgrader": {
     "cell_type": "code",
     "checksum": "5ec862ba9557e724dbe3e34ec570ddd0",
     "grade": false,
     "grade_id": "cell-e31226ad0dc4ed26",
     "locked": false,
     "schema_version": 3,
     "solution": true,
     "task": false
    }
   },
   "outputs": [
    {
     "ename": "NotImplementedError",
     "evalue": "",
     "output_type": "error",
     "traceback": [
      "\u001b[0;31m---------------------------------------------------------------------------\u001b[0m",
      "\u001b[0;31mNotImplementedError\u001b[0m                       Traceback (most recent call last)",
      "\u001b[0;32m<ipython-input-3-4605bb9b0c15>\u001b[0m in \u001b[0;36m<module>\u001b[0;34m()\u001b[0m\n\u001b[1;32m     39\u001b[0m     \u001b[0mfiltered\u001b[0m \u001b[0;34m=\u001b[0m \u001b[0;34m[\u001b[0m\u001b[0;34m]\u001b[0m\u001b[0;34m\u001b[0m\u001b[0;34m\u001b[0m\u001b[0m\n\u001b[1;32m     40\u001b[0m     \u001b[0;32mfor\u001b[0m \u001b[0mticks\u001b[0m \u001b[0;32min\u001b[0m \u001b[0mlogfile\u001b[0m\u001b[0;34m.\u001b[0m\u001b[0mmotor_ticks\u001b[0m\u001b[0;34m:\u001b[0m\u001b[0;34m\u001b[0m\u001b[0;34m\u001b[0m\u001b[0m\n\u001b[0;32m---> 41\u001b[0;31m         \u001b[0mpose\u001b[0m \u001b[0;34m=\u001b[0m \u001b[0mfilter_step\u001b[0m\u001b[0;34m(\u001b[0m\u001b[0mpose\u001b[0m\u001b[0;34m,\u001b[0m \u001b[0mticks\u001b[0m\u001b[0;34m,\u001b[0m \u001b[0mticks_to_mm\u001b[0m\u001b[0;34m,\u001b[0m \u001b[0mrobot_width\u001b[0m\u001b[0;34m)\u001b[0m\u001b[0;34m\u001b[0m\u001b[0;34m\u001b[0m\u001b[0m\n\u001b[0m\u001b[1;32m     42\u001b[0m         \u001b[0mfiltered\u001b[0m\u001b[0;34m.\u001b[0m\u001b[0mappend\u001b[0m\u001b[0;34m(\u001b[0m\u001b[0mpose\u001b[0m\u001b[0;34m)\u001b[0m\u001b[0;34m\u001b[0m\u001b[0;34m\u001b[0m\u001b[0m\n\u001b[1;32m     43\u001b[0m \u001b[0;34m\u001b[0m\u001b[0m\n",
      "\u001b[0;32m<ipython-input-3-4605bb9b0c15>\u001b[0m in \u001b[0;36mfilter_step\u001b[0;34m(old_pose, motor_ticks, ticks_to_mm, robot_width)\u001b[0m\n\u001b[1;32m     13\u001b[0m         \u001b[0;31m# No turn. Just drive straight.\u001b[0m\u001b[0;34m\u001b[0m\u001b[0;34m\u001b[0m\u001b[0;34m\u001b[0m\u001b[0m\n\u001b[1;32m     14\u001b[0m         \u001b[0;31m# YOUR CODE HERE\u001b[0m\u001b[0;34m\u001b[0m\u001b[0;34m\u001b[0m\u001b[0;34m\u001b[0m\u001b[0m\n\u001b[0;32m---> 15\u001b[0;31m         \u001b[0;32mraise\u001b[0m \u001b[0mNotImplementedError\u001b[0m\u001b[0;34m(\u001b[0m\u001b[0;34m)\u001b[0m\u001b[0;34m\u001b[0m\u001b[0;34m\u001b[0m\u001b[0m\n\u001b[0m\u001b[1;32m     16\u001b[0m         \u001b[0;32mreturn\u001b[0m \u001b[0;34m(\u001b[0m\u001b[0mnew_x\u001b[0m\u001b[0;34m,\u001b[0m \u001b[0mnew_y\u001b[0m\u001b[0;34m,\u001b[0m \u001b[0mnew_theta\u001b[0m\u001b[0;34m)\u001b[0m\u001b[0;34m\u001b[0m\u001b[0;34m\u001b[0m\u001b[0m\n\u001b[1;32m     17\u001b[0m \u001b[0;34m\u001b[0m\u001b[0m\n",
      "\u001b[0;31mNotImplementedError\u001b[0m: "
     ]
    }
   ],
   "source": [
    "# Implement the first move model for the Lego robot.\n",
    "# 02_a_filter_motor\n",
    "from math import sin, cos, pi\n",
    "from pylab import *\n",
    "from lego_robot import *\n",
    "\n",
    "# This function takes the old (x, y, heading) pose and the motor ticks\n",
    "# (ticks_left, ticks_right) and returns the new (x, y, heading).\n",
    "def filter_step(old_pose, motor_ticks, ticks_to_mm, robot_width):\n",
    "\n",
    "    # Find out if there is a turn at all.\n",
    "    if motor_ticks[0] == motor_ticks[1]:\n",
    "        # No turn. Just drive straight.\n",
    "        # YOUR CODE HERE\n",
    "        raise NotImplementedError()\n",
    "        return (new_x, new_y, new_theta)\n",
    "\n",
    "    else:\n",
    "        # Turn. Compute alpha, R, etc.\n",
    "        # YOUR CODE HERE\n",
    "        raise NotImplementedError()\n",
    "        return (new_x, new_y, new_theta)\n",
    "\n",
    "if __name__ == '__main__':\n",
    "    # Empirically derived conversion from ticks to mm.\n",
    "    ticks_to_mm = 0.349\n",
    "\n",
    "    # Measured width of the robot (wheel gauge), in mm.\n",
    "    robot_width = 150.0\n",
    "\n",
    "    # Read data.\n",
    "    logfile = LegoLogfile()\n",
    "    logfile.read(\"robot4_motors.txt\")\n",
    "\n",
    "    # Start at origin (0,0), looking along x axis (alpha = 0).\n",
    "    pose = (0.0, 0.0, 0.0)\n",
    "\n",
    "    # Loop over all motor tick records generate filtered position list.\n",
    "    filtered = []\n",
    "    for ticks in logfile.motor_ticks:\n",
    "        pose = filter_step(pose, ticks, ticks_to_mm, robot_width)\n",
    "        filtered.append(pose)\n",
    "\n",
    "    # Draw result.\n",
    "    for pose in filtered:\n",
    "        print(pose)\n",
    "        plot([p[0] for p in filtered], [p[1] for p in filtered], 'bo')\n",
    "    show()"
   ]
  },
  {
   "cell_type": "code",
   "execution_count": null,
   "metadata": {
    "deletable": false,
    "editable": false,
    "nbgrader": {
     "cell_type": "code",
     "checksum": "c12e0cd3b556dd92b0c77db262caaa3b",
     "grade": true,
     "grade_id": "cell-0de56220b95dd8b5",
     "locked": true,
     "points": 20,
     "schema_version": 3,
     "solution": false,
     "task": false
    }
   },
   "outputs": [],
   "source": [
    "# Let us test two simple cases.\n",
    "from math import isclose, sqrt\n",
    "\n",
    "def public_test(the_filter_step):\n",
    "    # Check what happens if we go straight.\n",
    "    # Say the robot sits at (10,12), looks to the upper right\n",
    "    # (45 degrees = pi/4), then runs for 5 ticks where each tick corresponds\n",
    "    # to two millimetres.\n",
    "    # The width should play no role in this case, so we set it to 1.\n",
    "    # Then, the robot should keep its heading, and should move straight by a\n",
    "    # distance of 10 * sqrt(1/2).\n",
    "    new_x, new_y, new_theta = the_filter_step((10, 12, pi/4.0), (5,5), 2, 1)\n",
    "    if new_x != 10 + 10.0 * sqrt(0.5) or \\\n",
    "       new_y != 12 + 10.0 * sqrt(0.5) or \\\n",
    "       new_theta != pi/4.0:\n",
    "        print(\"The test case for going straight went wrong.\")\n",
    "        return False\n",
    "\n",
    "    # Check a simple arc.\n",
    "    # Say the robot turns, with a radius of 10, by pi/4.\n",
    "    # Say it has a width of 2, so the left wheel travels 9/4 pi, and the right wheel 11/4 pi.\n",
    "    # To make it easier, we put it at (10,0) in the beginning, looking upward.\n",
    "    # Then, after the move, it should be at x = y = 10 * sqrt(1/2), and\n",
    "    # look towards the upper left (at 135 degrees heading).\n",
    "    new_x, new_y, new_theta = the_filter_step(\n",
    "        (10, 0, pi/2.0), (9, 11), pi/4.0, 2)\n",
    "    if not isclose(new_x, 10.0 * sqrt(0.5)) or \\\n",
    "       not isclose(new_y, 10.0 * sqrt(0.5)) or \\\n",
    "       not isclose(new_theta, 3*pi/4.0):\n",
    "        print(\"The test case for a turn went wrong.\")\n",
    "        return False\n",
    "\n",
    "    return True\n",
    "\n",
    "assert(public_test(filter_step))"
   ]
  },
  {
   "cell_type": "markdown",
   "metadata": {
    "deletable": false,
    "editable": false,
    "nbgrader": {
     "cell_type": "markdown",
     "checksum": "3164a0194a050beb3dd0b3233933f4d2",
     "grade": false,
     "grade_id": "cell-2197696599fcbada",
     "locked": true,
     "schema_version": 3,
     "solution": false,
     "task": false
    }
   },
   "source": [
    "## Modifying the motion model and generating file output"
   ]
  },
  {
   "cell_type": "code",
   "execution_count": null,
   "metadata": {
    "deletable": false,
    "editable": false,
    "nbgrader": {
     "cell_type": "code",
     "checksum": "45dc3a955824d786fd6bef8d219e6742",
     "grade": false,
     "grade_id": "cell-a1787b18312986fc",
     "locked": true,
     "schema_version": 3,
     "solution": false,
     "task": false
    }
   },
   "outputs": [],
   "source": [
    "# If you don't see a video below, run this cell.\n",
    "from IPython.display import IFrame\n",
    "IFrame(\"https://www.youtube.com/embed/wNmCSF0Pk4w\" if \"YouTube\" in globals() else \"//av.tib.eu/player/49053\",\n",
    "       width=560, height=315)"
   ]
  },
  {
   "cell_type": "markdown",
   "metadata": {
    "deletable": false,
    "editable": false,
    "nbgrader": {
     "cell_type": "markdown",
     "checksum": "c55afbee010c2d571436e7a27f8eb3e1",
     "grade": false,
     "grade_id": "cell-fb45f6ba258a126c",
     "locked": true,
     "schema_version": 3,
     "solution": false,
     "task": false
    }
   },
   "source": [
    "### Your second programming assignment: modify the motion model (5 points):\n",
    "Carefully watch the video above and implement the shown equations as Python3 code. Insert them into the indicated sections below."
   ]
  },
  {
   "cell_type": "code",
   "execution_count": null,
   "metadata": {
    "deletable": false,
    "nbgrader": {
     "cell_type": "code",
     "checksum": "f77b55dae7cef5c75a9425418f9342e5",
     "grade": false,
     "grade_id": "cell-35ce00c180c976b2",
     "locked": false,
     "schema_version": 3,
     "solution": true,
     "task": false
    }
   },
   "outputs": [],
   "source": [
    "# Implement the second move model for the Lego robot.\n",
    "# The difference to the first implementation is:\n",
    "# - added a scanner displacement\n",
    "# - added a different start pose (measured in the real world)\n",
    "# - result is now output to a file, as \"F\" (\"filtered\") records.\n",
    "#\n",
    "# 02_b_filter_motor_file\n",
    "from math import sin, cos, pi\n",
    "from lego_robot import *\n",
    "\n",
    "# This function takes the old (x, y, heading) pose and the motor ticks\n",
    "# (ticks_left, ticks_right) and returns the new (x, y, heading).\n",
    "def filter_step(old_pose, motor_ticks, ticks_to_mm, robot_width,\n",
    "                scanner_displacement):\n",
    "\n",
    "    # Find out if there is a turn at all.\n",
    "    if motor_ticks[0] == motor_ticks[1]:\n",
    "        # No turn. Just drive straight.\n",
    "        # --->>> Use your previous implementation.\n",
    "        # Think about how you need to modify your old code due to the\n",
    "        # scanner displacement?\n",
    "        # YOUR CODE HERE\n",
    "        raise NotImplementedError()\n",
    "        return (new_x, new_y, new_theta)\n",
    "\n",
    "    else:\n",
    "        # Turn. Compute alpha, R, etc.\n",
    "        # --->>> Modify your previous implementation.\n",
    "        # First modify the the old pose to get the center (because the\n",
    "        #   old pose is the LiDAR's pose, not the robot's center pose).\n",
    "        # Second, execute your old code, which implements the motion model\n",
    "        #   for the center of the robot.\n",
    "        # Third, modify the result to get back the LiDAR pose from\n",
    "        #   your computed center. This is the value you have to return.\n",
    "        # YOUR CODE HERE\n",
    "        raise NotImplementedError()\n",
    "        return (new_x, new_y, new_theta)\n",
    "\n",
    "if __name__ == '__main__':\n",
    "    # Empirically derived distance between scanner and assumed\n",
    "    # center of robot.\n",
    "    scanner_displacement = 30.0\n",
    "\n",
    "    # Empirically derived conversion from ticks to mm.\n",
    "    ticks_to_mm = 0.349\n",
    "\n",
    "    # Measured width of the robot (wheel gauge), in mm.\n",
    "    robot_width = 150.0\n",
    "\n",
    "    # Measured start position.\n",
    "    pose = (1850.0, 1897.0, 213.0 / 180.0 * pi)\n",
    "\n",
    "    # Read data.\n",
    "    logfile = LegoLogfile()\n",
    "    logfile.read(\"robot4_motors.txt\")\n",
    "\n",
    "    # Loop over all motor tick records generate filtered position list.\n",
    "    filtered = []\n",
    "    for ticks in logfile.motor_ticks:\n",
    "        pose = filter_step(pose, ticks, ticks_to_mm, robot_width,\n",
    "                           scanner_displacement)\n",
    "        filtered.append(pose)\n",
    "\n",
    "    # Write all filtered positions to file.\n",
    "    f = open(\"poses_from_ticks.txt\", \"w\")\n",
    "    for pose in filtered:\n",
    "        print(\"F %f %f %f\" % pose, file=f)\n",
    "    f.close()"
   ]
  },
  {
   "cell_type": "markdown",
   "metadata": {
    "deletable": false,
    "editable": false,
    "nbgrader": {
     "cell_type": "markdown",
     "checksum": "fbbbedbc765daa1995a755636e5c5035",
     "grade": false,
     "grade_id": "cell-f1fa9255c3ee7457",
     "locked": true,
     "schema_version": 3,
     "solution": false,
     "task": false
    }
   },
   "source": [
    "### Use the logfile viewer to evaluate your result: introducing the notebook version of the viewer.\n",
    "- In the previous video, the logfile_viewer.py was presented, which you can use on your computer to look at the generated result file, \"poses_from_ticks.txt\". The logfile_viewer.py is a stand-alone Python program.\n",
    "- To make things easier, there is a ipy_logfile_viewer, which can be run interactively, in this notebook. It has a quite similar visualization and interface.\n",
    "- To use it, just run the following cell.\n",
    "- Note that, in contrast to the logfile_viewer shown in the video, there is no file selector in the notebook version (ipy_logfile_viewer). Just enter the names of all the files you want to view using the \"files\" parameter.\n",
    "- Note also that the graphics will be updated only after you release the slider. Alternatively, use the **cursor-left** and **cursor-right** keys on your keyboard. Also see the comments in the cell below."
   ]
  },
  {
   "cell_type": "code",
   "execution_count": null,
   "metadata": {},
   "outputs": [],
   "source": [
    "# To run the logfile viewer, we import it and instantiate it, specifying all files we want to view.\n",
    "import ipy_logfile_viewer as lfv\n",
    "v = lfv.IPYLogfileViewer(files=[\"poses_from_ticks.txt\", \"robot4_motors.txt\"])\n",
    "# You may also try out the following options (by adding them to the list of arguments):\n",
    "# - continuous_update=True (the graphics are updated while the slider moves, default: False)\n",
    "# - matplotlib_format=\"png\" (default: \"svg\"). Vector graphics such as \"svg\" allow you to zoom into the graphics\n",
    "#   (e.g. using the zoom button in the browser) without a loss in quality. Alternatively, you can also use\n",
    "#   pixel graphics, e.g. \"png\", or \"jpg\". Example:\n",
    "#     v = lfv.IPYLogfileViewer(files=[\"poses_from_ticks.txt\"], continuous_update=True, matplotlib_format=\"png\")\n",
    "# You may also add a list of files to load after the instantiation. Example:\n",
    "#     v.load([\"robot4_reference.txt\"])\n",
    "#     v.load([\"robot_arena_landmarks.txt\"])."
   ]
  },
  {
   "cell_type": "markdown",
   "metadata": {
    "deletable": false,
    "editable": false,
    "nbgrader": {
     "cell_type": "markdown",
     "checksum": "7116d26b4c0d9a8ef1bce978fe0c32ce",
     "grade": false,
     "grade_id": "cell-975687d87697c53a",
     "locked": true,
     "schema_version": 3,
     "solution": false,
     "task": false
    }
   },
   "source": [
    "### Still missing: the test."
   ]
  },
  {
   "cell_type": "code",
   "execution_count": null,
   "metadata": {
    "deletable": false,
    "editable": false,
    "nbgrader": {
     "cell_type": "code",
     "checksum": "0cc5d9fbaf04c1c076bbd744c9207492",
     "grade": true,
     "grade_id": "cell-28b0092f0e6dff6b",
     "locked": true,
     "points": 5,
     "schema_version": 3,
     "solution": false,
     "task": false
    }
   },
   "outputs": [],
   "source": [
    "# Let us use the same two cases as above.\n",
    "from math import isclose, sqrt\n",
    "\n",
    "def public_test(the_filter_step):\n",
    "    # Check what happens if we go straight.\n",
    "    # Say the robot sits at (10,12), looks to the upper right\n",
    "    # (45 degrees = pi/4), then runs for 5 ticks where each tick corresponds\n",
    "    # to two millimetres.\n",
    "    # The width should play no role in this case, so we set it to 1.\n",
    "    # Then, the robot should keep its heading, and should move straight by a\n",
    "    # distance of 10 * sqrt(1/2).\n",
    "    # If we drive straight, there should be no difference, so we can re-use\n",
    "    # our previous test.\n",
    "    new_x, new_y, new_theta = the_filter_step(\n",
    "        (10, 12, pi/4.0), (5,5), 2, 1, 3.0)\n",
    "    if new_x != 10 + 10.0 * sqrt(0.5) or \\\n",
    "       new_y != 12 + 10.0 * sqrt(0.5) or \\\n",
    "       new_theta != pi/4.0:\n",
    "        print(\"The test case for going straight went wrong.\")\n",
    "        return False\n",
    "\n",
    "    # Check a simple arc.\n",
    "    # Say the robot turns, with a radius of 10, by pi/4.\n",
    "    # Say it has a width of 2, so the left wheel travels 9/4 pi, and the\n",
    "    # right wheel 11/4 pi. To make it easier, we put it at (10,0) in the\n",
    "    # beginning, looking upward. If we assume a displacement of 3, this means\n",
    "    # the scanner is at (10,3) instead.\n",
    "    # After the move, the body should be at x = y = 10 * sqrt(1/2), and\n",
    "    # look towards the upper left (at 135 degrees heading). Then, due to this\n",
    "    # heading, the scanner would be at the body plus the unit vector pointing\n",
    "    # towards the upper left, (-sqrt(0.5), +sqrt(0.5)), times the displacement,\n",
    "    # which is 3.\n",
    "    new_x, new_y, new_theta = the_filter_step(\n",
    "        (10, 0+3, pi/2.0), (9, 11), pi/4.0, 2, 3.0)\n",
    "    if not isclose(new_x, (10.0 - 3) * sqrt(0.5)) or \\\n",
    "       not isclose(new_y, (10.0 + 3) * sqrt(0.5)) or \\\n",
    "       not isclose(new_theta, 3*pi/4.0):\n",
    "        print(\"The test case for a turn went wrong.\")\n",
    "        return False\n",
    "\n",
    "    return True\n",
    "\n",
    "assert(public_test(filter_step))"
   ]
  }
 ],
 "metadata": {
  "copyright": "(c) Claus Brenner 2020",
  "kernelspec": {
   "display_name": "Python 3 (ipykernel)",
   "language": "python",
   "name": "python3"
  },
  "language_info": {
   "codemirror_mode": {
    "name": "ipython",
    "version": 3
   },
   "file_extension": ".py",
   "mimetype": "text/x-python",
   "name": "python",
   "nbconvert_exporter": "python",
   "pygments_lexer": "ipython3",
   "version": "3.9.13"
  }
 },
 "nbformat": 4,
 "nbformat_minor": 4
}
