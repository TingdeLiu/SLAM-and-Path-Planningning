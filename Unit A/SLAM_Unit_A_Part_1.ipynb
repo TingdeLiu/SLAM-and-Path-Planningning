{
 "cells": [
  {
   "cell_type": "markdown",
   "metadata": {
    "deletable": false,
    "editable": false,
    "nbgrader": {
     "cell_type": "markdown",
     "checksum": "bfba33a17ae038afc67ec8b3e954298d",
     "grade": false,
     "grade_id": "cell-aa83106e43b11bd8",
     "locked": true,
     "schema_version": 3,
     "solution": false,
     "task": false
    }
   },
   "source": [
    "# SLAM Unit A - Part 1\n",
    "In this first unit, Unit A, we will learn how to use the motor and the scanner.\n",
    "This is the first part of the first unit, in which we will get acquainted with the notebook and perform first experiments with the robots motor."
   ]
  },
  {
   "cell_type": "markdown",
   "metadata": {
    "deletable": false,
    "editable": false,
    "nbgrader": {
     "cell_type": "markdown",
     "checksum": "e2e293116d82ca434ad68fac2735de05",
     "grade": false,
     "grade_id": "cell-2a86d65346d0826f",
     "locked": true,
     "schema_version": 3,
     "solution": false,
     "task": false
    }
   },
   "source": [
    "## Introduction\n",
    "Here, our small robot and the overall setup of our experiment are introduced."
   ]
  },
  {
   "cell_type": "code",
   "execution_count": null,
   "metadata": {},
   "outputs": [],
   "source": [
    "# A technical note: uncomment the following line to get YouTube videos instead of TIB AV.\n",
    "# YouTube = True\n",
    "# Note: to go back to TIB AV, you will have to comment the line out again and do a Kernel --> Restart."
   ]
  },
  {
   "cell_type": "code",
   "execution_count": null,
   "metadata": {
    "deletable": false,
    "editable": false,
    "nbgrader": {
     "cell_type": "code",
     "checksum": "62dc6384cfc5530c258317cdceec015c",
     "grade": false,
     "grade_id": "cell-2aa523885b644580",
     "locked": true,
     "schema_version": 3,
     "solution": false,
     "task": false
    }
   },
   "outputs": [],
   "source": [
    "# If you don't see a video below, run this cell.\n",
    "from IPython.display import IFrame\n",
    "IFrame(\"https://www.youtube.com/embed/sxu6_YnZca8\" if \"YouTube\" in globals() else \"//av.tib.eu/player/48877\",\n",
    "       width=560, height=315)"
   ]
  },
  {
   "cell_type": "markdown",
   "metadata": {
    "deletable": false,
    "editable": false,
    "nbgrader": {
     "cell_type": "markdown",
     "checksum": "36c2d9cbe02967b6ed4f8e89c4c4b548",
     "grade": false,
     "grade_id": "cell-882dddeb40627fdf",
     "locked": true,
     "schema_version": 3,
     "solution": false,
     "task": false
    }
   },
   "source": [
    "### Here is our first question (1 Point):\n",
    "What is the number of landmarks in our arena?"
   ]
  },
  {
   "cell_type": "code",
   "execution_count": null,
   "metadata": {
    "deletable": false,
    "nbgrader": {
     "cell_type": "code",
     "checksum": "596616e23142b1a5dbbb88e1da1bf0c3",
     "grade": false,
     "grade_id": "cell-d56f6868db087500",
     "locked": false,
     "schema_version": 3,
     "solution": true,
     "task": false
    }
   },
   "outputs": [],
   "source": [
    "the_number_of_landmarks = 6  # Replace this by the correct number and delete any lines below.\n",
    "# YOUR CODE HERE\n",
    "# raise NotImplementedError()"
   ]
  },
  {
   "cell_type": "code",
   "execution_count": null,
   "metadata": {
    "deletable": false,
    "editable": false,
    "nbgrader": {
     "cell_type": "code",
     "checksum": "f3e51f85877acd5e3b9a1c805035d78a",
     "grade": true,
     "grade_id": "cell-ead953104637316e",
     "locked": true,
     "points": 1,
     "schema_version": 3,
     "solution": false,
     "task": false
    }
   },
   "outputs": [],
   "source": [
    "# This notebook will test your answer using public and hidden tests.\n",
    "# The public tests are meant to help you to develop your solution.\n",
    "# The hidden tests will check your solution for the grading.\n",
    "\n",
    "# The following lines are the public tests.\n",
    "# In this case, the tests will not make much sense, but they demonstrate how they work in general.\n",
    "\n",
    "# It does not make sense to have a negative number of landmarks, and also we will have at least one.\n",
    "assert(the_number_of_landmarks > 0)\n",
    "\n",
    "# Also, since our arena is quite small, we would be unable to place 100 or more landmarks.\n",
    "assert(the_number_of_landmarks < 100)\n"
   ]
  },
  {
   "cell_type": "markdown",
   "metadata": {
    "deletable": false,
    "editable": false,
    "nbgrader": {
     "cell_type": "markdown",
     "checksum": "2f02432d713a237bb4d12e19c1c82591",
     "grade": false,
     "grade_id": "cell-6caa7da7da5e78c8",
     "locked": true,
     "schema_version": 3,
     "solution": false,
     "task": false
    }
   },
   "source": [
    "## Motor control"
   ]
  },
  {
   "cell_type": "code",
   "execution_count": null,
   "metadata": {
    "deletable": false,
    "editable": false,
    "nbgrader": {
     "cell_type": "code",
     "checksum": "9ff17e32621bfea3979c37a5dbf4fa65",
     "grade": false,
     "grade_id": "cell-5a025e28af76fb40",
     "locked": true,
     "schema_version": 3,
     "solution": false,
     "task": false
    }
   },
   "outputs": [],
   "source": [
    "# If you don't see a video below, run this cell.\n",
    "from IPython.display import IFrame\n",
    "IFrame(\"https://www.youtube.com/embed/Wt-ivnBZsv0\" if \"YouTube\" in globals() else \"//av.tib.eu/player/49050\",\n",
    "       width=560, height=315)"
   ]
  },
  {
   "cell_type": "markdown",
   "metadata": {
    "deletable": false,
    "editable": false,
    "nbgrader": {
     "cell_type": "markdown",
     "checksum": "4e147242a7257c8855d9d2e0504907a9",
     "grade": false,
     "grade_id": "cell-e30f8c4ee94f60f9",
     "locked": true,
     "schema_version": 3,
     "solution": false,
     "task": false
    }
   },
   "source": [
    "### After viewing the video, is is easy to answer the following question (1 Point):\n",
    "What is the name of the Python class that is used to read in the log files of our robot?"
   ]
  },
  {
   "cell_type": "code",
   "execution_count": null,
   "metadata": {
    "deletable": false,
    "nbgrader": {
     "cell_type": "code",
     "checksum": "fd3d34b20cefce1f7c4cb4c68da55725",
     "grade": false,
     "grade_id": "cell-3a216bdb78b3c420",
     "locked": false,
     "schema_version": 3,
     "solution": true,
     "task": false
    }
   },
   "outputs": [],
   "source": [
    "# Write here the name of the class, keeping the quotes around it. Then, delete any lines below.\n",
    "the_name_of_the_class = \"import\"\n",
    "# YOUR CODE HERE\n",
    "# raise NotImplementedError()"
   ]
  },
  {
   "cell_type": "code",
   "execution_count": null,
   "metadata": {
    "deletable": false,
    "editable": false,
    "nbgrader": {
     "cell_type": "code",
     "checksum": "0dc82e6249e4ddb58463d7bd4fb77423",
     "grade": true,
     "grade_id": "cell-b7605756340906af",
     "locked": true,
     "points": 1,
     "schema_version": 3,
     "solution": false,
     "task": false
    }
   },
   "outputs": [],
   "source": [
    "# Now, some tests.\n",
    "assert(the_name_of_the_class != None)  # That would not be a valid answer.\n",
    "assert(the_name_of_the_class != \"\")  # That one neither.\n",
    "assert(the_name_of_the_class != \"I don't know\")  # Well, check the video...\n"
   ]
  },
  {
   "cell_type": "markdown",
   "metadata": {
    "deletable": false,
    "editable": false,
    "nbgrader": {
     "cell_type": "markdown",
     "checksum": "924e27c5e697069f3fcbb52c247dc70c",
     "grade": false,
     "grade_id": "cell-e6a766db6daa78de",
     "locked": true,
     "schema_version": 3,
     "solution": false,
     "task": false
    }
   },
   "source": [
    "### In addition, let us redo the steps from the video. First, we plot the motor outputs.\n",
    "You may play with the code below and re-execute it in order to get different visualizations.\n",
    "If you are curious about how plotting works, check out pylab, which is a part of __[matplotlib](https://matplotlib.org/)__."
   ]
  },
  {
   "cell_type": "code",
   "execution_count": null,
   "metadata": {},
   "outputs": [],
   "source": [
    "# You can modify the following to adjust the (width, height) of the plots (supposed to be in inches).\n",
    "from pylab import *\n",
    "plt.rcParams['figure.figsize'] = (12, 6)"
   ]
  },
  {
   "cell_type": "code",
   "execution_count": null,
   "metadata": {},
   "outputs": [],
   "source": [
    "# Plot the ticks from the left and right motor.\n",
    "# 01_a_plot_motor_ticks.py\n",
    "from pylab import *\n",
    "\n",
    "if __name__ == '__main__':\n",
    "    # Read all ticks of left and right motor.\n",
    "    # Format is:\n",
    "    # M timestamp[in ms] pos-left[in ticks] * * * pos-right[in ticks] ...\n",
    "    # so we are interested in field 2 (left) and 6 (right).\n",
    "    f = open(\"robot4_motors.txt\")\n",
    "    left_list = []\n",
    "    right_list = []\n",
    "    for l in f:\n",
    "        sp = l.split()\n",
    "        left_list.append(int(sp[2]))\n",
    "        right_list.append(int(sp[6]))\n",
    "\n",
    "    plot(left_list, c=\"blue\")\n",
    "    plot(right_list, c=\"green\")\n",
    "    show()"
   ]
  },
  {
   "cell_type": "markdown",
   "metadata": {
    "deletable": false,
    "editable": false,
    "nbgrader": {
     "cell_type": "markdown",
     "checksum": "96cafb9c5ba47252cc6eab959d56093f",
     "grade": false,
     "grade_id": "cell-ee95ae38ef0f72a5",
     "locked": true,
     "schema_version": 3,
     "solution": false,
     "task": false
    }
   },
   "source": [
    "### Then, we read the ticks using the provided class and output the first few of them.\n",
    "Now, these are not the absolute values, but the increments."
   ]
  },
  {
   "cell_type": "code",
   "execution_count": null,
   "metadata": {},
   "outputs": [],
   "source": [
    "# Print the increments of the left and right motor.\n",
    "# Now using the LegoLogfile class.\n",
    "# 01_b_print_motor_increments.py\n",
    "from lego_robot import LegoLogfile\n",
    "\n",
    "if __name__ == '__main__':\n",
    "\n",
    "    logfile = LegoLogfile()\n",
    "    logfile.read(\"robot4_motors.txt\")\n",
    "\n",
    "    for i in range(20):\n",
    "        print(logfile.motor_ticks[i])"
   ]
  },
  {
   "cell_type": "markdown",
   "metadata": {
    "deletable": false,
    "editable": false,
    "nbgrader": {
     "cell_type": "markdown",
     "checksum": "71a6bc50bf2ac5646b376051358191bb",
     "grade": false,
     "grade_id": "cell-c2adbcc580ec55d7",
     "locked": true,
     "schema_version": 3,
     "solution": false,
     "task": false
    }
   },
   "source": [
    "### Finally, we plot the increments."
   ]
  },
  {
   "cell_type": "code",
   "execution_count": null,
   "metadata": {},
   "outputs": [],
   "source": [
    "# Plot the increments of the left and right motor.\n",
    "# 01_c_plot_motor_increments.py\n",
    "from pylab import *\n",
    "from lego_robot import LegoLogfile\n",
    "\n",
    "if __name__ == '__main__':\n",
    "\n",
    "    logfile = LegoLogfile()\n",
    "    logfile.read(\"robot4_motors.txt\")\n",
    "\n",
    "    # Actually this statement does it: plot(logfile.motor_ticks), but in order to\n",
    "    # reproduce the colors in the video, I will make it slightly more complicated:\n",
    "    plot([t[0] for t in logfile.motor_ticks], c=\"blue\")\n",
    "    plot([t[1] for t in logfile.motor_ticks], c=\"green\")\n",
    "    show()"
   ]
  }
 ],
 "metadata": {
  "copyright": "(c) Claus Brenner 2020",
  "kernelspec": {
   "display_name": "Python 3",
   "language": "python",
   "name": "python3"
  },
  "language_info": {
   "codemirror_mode": {
    "name": "ipython",
    "version": 3
   },
   "file_extension": ".py",
   "mimetype": "text/x-python",
   "name": "python",
   "nbconvert_exporter": "python",
   "pygments_lexer": "ipython3",
   "version": "3.7.8"
  }
 },
 "nbformat": 4,
 "nbformat_minor": 4
}
