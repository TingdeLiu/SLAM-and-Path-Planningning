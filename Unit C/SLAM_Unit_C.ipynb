{
 "cells": [
  {
   "cell_type": "markdown",
   "metadata": {
    "deletable": false,
    "editable": false,
    "nbgrader": {
     "cell_type": "markdown",
     "checksum": "e40aa3eb17e154bfb267f97c6c4e8842",
     "grade": false,
     "grade_id": "cell-7d7c174835c52bc0",
     "locked": true,
     "schema_version": 3,
     "solution": false,
     "task": false
    }
   },
   "source": [
    "# SLAM Unit C\n",
    "In this unit, we will start using discrete distributions to model the uncertainty of a robot's state. We will figure out what happens to them if the robot moves, and also, what happens if the robot uses a measurement to improve the knowledge about its state.\n",
    "\n",
    "Combining movement and measurement, we will arrive at a very important *filter*, which is the basis of all filters we cover here. It is named the *Bayes filter*, because it uses *Bayesian statistics*, named after [Thomas Bayes](https://en.wikipedia.org/wiki/Thomas_Bayes).\n",
    "\n",
    "Then, we attempt to replace the storage-intensive discrete distributions by normal distributions, for which it suffices to store the first and second moments. That is, we keep the concept of the Bayes filter, but replace the discrete (histogram) distribution (requiring to specify one probability for every cell) by the normal density (requiring only two scalar numbers: the mean and the variance). By this, we arrive at the very famous *Kalman filter*, named after [Rudolf E. Kálmán](https://en.wikipedia.org/wiki/Rudolf_E._K%C3%A1lm%C3%A1n).\n",
    "\n",
    "## Discrete distributions"
   ]
  },
  {
   "cell_type": "code",
   "execution_count": 61,
   "metadata": {},
   "outputs": [
    {
     "data": {
      "text/html": [
       "\n",
       "        <iframe\n",
       "            width=\"560\"\n",
       "            height=\"315\"\n",
       "            src=\"//av.tib.eu/player/48989\"\n",
       "            frameborder=\"0\"\n",
       "            allowfullscreen\n",
       "        ></iframe>\n",
       "        "
      ],
      "text/plain": [
       "<IPython.lib.display.IFrame at 0x7f6c92603450>"
      ]
     },
     "execution_count": 61,
     "metadata": {},
     "output_type": "execute_result"
    }
   ],
   "source": [
    "# If you don't see a video below, run this cell.\n",
    "# YouTube = True  # Uncomment to get YouTube videos instead of TIB AV.\n",
    "from IPython.display import IFrame\n",
    "IFrame(\"https://www.youtube.com/embed/6JEN_5rp6bI\" if \"YouTube\" in globals() else \"//av.tib.eu/player/48989\",\n",
    "       width=560, height=315)"
   ]
  },
  {
   "cell_type": "markdown",
   "metadata": {
    "deletable": false,
    "editable": false,
    "nbgrader": {
     "cell_type": "markdown",
     "checksum": "42699b95a484c12729f2aad48359bef3",
     "grade": false,
     "grade_id": "cell-94e3653dc2f5949c",
     "locked": true,
     "schema_version": 3,
     "solution": false,
     "task": false
    }
   },
   "source": [
    "### Assignment: shift a discrete distribution (10 Points).\n",
    "As shown in the video, the task is to move the distribution, while keeping its shape."
   ]
  },
  {
   "cell_type": "code",
   "execution_count": 147,
   "metadata": {
    "deletable": false,
    "nbgrader": {
     "cell_type": "code",
     "checksum": "e97e9f9dfd198ed3d3c396827bb6b462",
     "grade": false,
     "grade_id": "cell-93b6cb6795bfc567",
     "locked": false,
     "schema_version": 3,
     "solution": true,
     "task": false
    }
   },
   "outputs": [
    {
     "data": {
      "image/png": "[encoded data removed]",
      "text/plain": [
       "<Figure size 864x432 with 1 Axes>"
      ]
     },
     "metadata": {
      "needs_background": "light"
     },
     "output_type": "display_data"
    }
   ],
   "source": [
    "# Move a distribution (in x) by a given amount (an integer). 移动分布\n",
    "# 06_a_move_distribution\n",
    "from pylab import plot, show, ylim, plt\n",
    "from distribution import *\n",
    "\n",
    "plt.rcParams['figure.figsize'] = (12, 6)  # Change this to affect the plots in this and all following cells.\n",
    "\n",
    "def move(distribution, delta):\n",
    "    \"\"\"Returns a Distribution that has been moved (x-axis) by the amount of\n",
    "       delta.\"\"\"\n",
    "    # YOUR CODE HERE\n",
    "    offset_new = distribution.offset + delta\n",
    "    values_new = distribution.values\n",
    "    distribution = Distribution(offset_new,values_new)\n",
    "    \n",
    "    #raise NotImplementedError()\n",
    "    return distribution\n",
    "\n",
    "if __name__ == '__main__':\n",
    "    # List of movements: move 3 times by 20.\n",
    "    moves = [20, 20, 20]\n",
    "\n",
    "    # Start with a known position: probability 1.0 at position 10.\n",
    "    position = Distribution.triangle(10,2)\n",
    "    plot(position.plotlists(0,100)[0], position.plotlists(0,100)[1],\n",
    "         drawstyle='steps')\n",
    "\n",
    "    # Now move and plot.\n",
    "    for m in moves:\n",
    "        position = move(position, m)\n",
    "        plot(position.plotlists(0,100)[0], position.plotlists(0,100)[1],\n",
    "             drawstyle='steps')\n",
    "    ylim(0.0, 1.1)\n",
    "    show()"
   ]
  },
  {
   "cell_type": "code",
   "execution_count": 144,
   "metadata": {
    "deletable": false,
    "editable": false,
    "nbgrader": {
     "cell_type": "code",
     "checksum": "d3ebed51769d40ade844f05139ff7885",
     "grade": true,
     "grade_id": "cell-0fc75afd20bbb8b5",
     "locked": true,
     "points": 10,
     "schema_version": 3,
     "solution": false,
     "task": false
    }
   },
   "outputs": [],
   "source": [
    "from random import randint, random\n",
    "def public_test(the_move):\n",
    "    for experiment in range(20):\n",
    "        # Invent a distribution.\n",
    "        num_values = randint(1, 10)\n",
    "        values = [ random()+0.001 for i in range(num_values) ]\n",
    "        offset = randint(-100,100)\n",
    "        # For fun, add a zero somewhere.\n",
    "        if num_values > 1 and random() > 0.5:\n",
    "            values[randint(0, num_values-1)] = 0.0\n",
    "        initial_distribution = Distribution(offset, values)\n",
    "        initial_distribution.normalize()\n",
    "\n",
    "        # Now, shift this.\n",
    "        delta = randint(-5,5)  # Random shift.\n",
    "        copy = Distribution(initial_distribution.offset,\n",
    "                            initial_distribution.values)\n",
    "        # Call the function to be tested.\n",
    "        moved_distribution = the_move(copy, delta)\n",
    "\n",
    "        # Check that the values are the same.\n",
    "        idx = None\n",
    "        for i, val in enumerate(initial_distribution.values,\n",
    "                                start=initial_distribution.offset):\n",
    "            if val != moved_distribution.value(i+delta):\n",
    "                idx = (i, i+delta)\n",
    "                break\n",
    "        if idx is None:\n",
    "            for j, val in enumerate(moved_distribution.values,\n",
    "                                    start=moved_distribution.offset):\n",
    "                if val != initial_distribution.value(j-delta):\n",
    "                    idx = (j-delta, j)\n",
    "                    break\n",
    "        if idx is not None:\n",
    "            print(\"Error for original distribution:\")\n",
    "            print(initial_distribution)\n",
    "            print(\"Move =\", delta)\n",
    "            print(\"Result of move is:\")\n",
    "            print(moved_distribution)\n",
    "            print(\"Original distribution [%d] = %f\" %\\\n",
    "                  (idx[0], initial_distribution.value(idx[0])))\n",
    "            print(\"Moved distribution    [%d] = %f\" %\\\n",
    "                  (idx[1], moved_distribution.value(idx[1])))\n",
    "            return(False)        \n",
    "    return True\n",
    "assert(public_test(move))"
   ]
  },
  {
   "cell_type": "markdown",
   "metadata": {
    "deletable": false,
    "editable": false,
    "nbgrader": {
     "cell_type": "markdown",
     "checksum": "12f45680ca29534f636f0e0231a1ad38",
     "grade": false,
     "grade_id": "cell-e5a9c9dce7653d19",
     "locked": true,
     "schema_version": 3,
     "solution": false,
     "task": false
    }
   },
   "source": [
    "### Introducing the movement error."
   ]
  },
  {
   "cell_type": "code",
   "execution_count": 64,
   "metadata": {
    "deletable": false,
    "editable": false,
    "nbgrader": {
     "cell_type": "code",
     "checksum": "340c1c06c9cd265b6821a8b01b1cf677",
     "grade": false,
     "grade_id": "cell-3cb44fc3defd811d",
     "locked": true,
     "schema_version": 3,
     "solution": false,
     "task": false
    }
   },
   "outputs": [
    {
     "data": {
      "text/html": [
       "\n",
       "        <iframe\n",
       "            width=\"560\"\n",
       "            height=\"315\"\n",
       "            src=\"//av.tib.eu/player/48990\"\n",
       "            frameborder=\"0\"\n",
       "            allowfullscreen\n",
       "        ></iframe>\n",
       "        "
      ],
      "text/plain": [
       "<IPython.lib.display.IFrame at 0x7f6c92549450>"
      ]
     },
     "execution_count": 64,
     "metadata": {},
     "output_type": "execute_result"
    }
   ],
   "source": [
    "# If you don't see a video below, run this cell.\n",
    "from IPython.display import IFrame\n",
    "IFrame(\"https://www.youtube.com/embed/mdzgKpRRd58\" if \"YouTube\" in globals() else \"//av.tib.eu/player/48990\",\n",
    "       width=560, height=315)"
   ]
  },
  {
   "cell_type": "code",
   "execution_count": 134,
   "metadata": {
    "deletable": false,
    "nbgrader": {
     "cell_type": "code",
     "checksum": "0a6b3f7e1974454adf1865d5d121bdec",
     "grade": false,
     "grade_id": "cell-069132630a78507a",
     "locked": false,
     "schema_version": 3,
     "solution": true,
     "task": false
    }
   },
   "outputs": [],
   "source": [
    "# Write here the number of possible positions on the next level of the tree,\n",
    "# in words (use \"zero\" or \"one\" or \"two\" or ... or \"one million\").\n",
    "# Hint: it's less than one million.\n",
    "number_of_positions = \"one million\"\n",
    "# YOUR CODE HERE\n",
    "\n",
    "number_of_positions = \"five\"\n",
    "#raise NotImplementedError()"
   ]
  },
  {
   "cell_type": "code",
   "execution_count": 140,
   "metadata": {
    "deletable": false,
    "editable": false,
    "nbgrader": {
     "cell_type": "code",
     "checksum": "7a070d75637e65d5d0191198f3cf4112",
     "grade": true,
     "grade_id": "cell-d184b980014dbb41",
     "locked": true,
     "points": 2,
     "schema_version": 3,
     "solution": false,
     "task": false
    }
   },
   "outputs": [],
   "source": [
    "from hashlib import shake_128\n",
    "def public_test(the_number_of_positions):\n",
    "    m = shake_128()\n",
    "    m.update(the_number_of_positions.strip().lower().encode())\n",
    "    if m.hexdigest(4)=='28ba209d':\n",
    "        return True\n",
    "    else:\n",
    "        print(\"Oh no! Your answer is wrong!\")\n",
    "        return False\n",
    "assert(public_test(number_of_positions))"
   ]
  },
  {
   "cell_type": "markdown",
   "metadata": {
    "deletable": false,
    "editable": false,
    "nbgrader": {
     "cell_type": "markdown",
     "checksum": "16f8a95fd4d7ef9a604bd8cc896ca677",
     "grade": false,
     "grade_id": "cell-8d329baa151934e3",
     "locked": true,
     "schema_version": 3,
     "solution": false,
     "task": false
    }
   },
   "source": [
    "### Programming assignment: convolution of distributions (15 Points)."
   ]
  },
  {
   "cell_type": "code",
   "execution_count": 130,
   "metadata": {
    "deletable": false,
    "editable": false,
    "nbgrader": {
     "cell_type": "code",
     "checksum": "1cc30e560621cb1e58d3cbf1371d87b6",
     "grade": false,
     "grade_id": "cell-3b1fb74cfa288aba",
     "locked": true,
     "schema_version": 3,
     "solution": false,
     "task": false
    }
   },
   "outputs": [
    {
     "data": {
      "text/html": [
       "\n",
       "        <iframe\n",
       "            width=\"560\"\n",
       "            height=\"315\"\n",
       "            src=\"//av.tib.eu/player/48991\"\n",
       "            frameborder=\"0\"\n",
       "            allowfullscreen\n",
       "        ></iframe>\n",
       "        "
      ],
      "text/plain": [
       "<IPython.lib.display.IFrame at 0x7f6c92217a10>"
      ]
     },
     "execution_count": 130,
     "metadata": {},
     "output_type": "execute_result"
    }
   ],
   "source": [
    "# If you don't see a video below, run this cell.\n",
    "from IPython.display import IFrame\n",
    "IFrame(\"https://www.youtube.com/embed/YhxdZt9rzRA\" if \"YouTube\" in globals() else \"//av.tib.eu/player/48991\",\n",
    "       width=560, height=315)"
   ]
  },
  {
   "cell_type": "code",
   "execution_count": 124,
   "metadata": {
    "deletable": false,
    "nbgrader": {
     "cell_type": "code",
     "checksum": "9704aa1c9f4c2d6654ca7797f84caa09",
     "grade": false,
     "grade_id": "cell-6a4748c37ba9a251",
     "locked": false,
     "schema_version": 3,
     "solution": true,
     "task": false
    }
   },
   "outputs": [
    {
     "data": {
      "image/png": "[encoded data removed]",
      "text/plain": [
       "<Figure size 864x432 with 1 Axes>"
      ]
     },
     "metadata": {
      "needs_background": "light"
     },
     "output_type": "display_data"
    }
   ],
   "source": [
    "# Instead of moving a distribution, move (and modify) it using a convolution.\n",
    "# 06_b_convolve_distribution\n",
    "from pylab import plot, show, ylim\n",
    "from distribution import *\n",
    "\n",
    "def convolve(a, b):\n",
    "    \"\"\"Convolve distribution a and b and return the resulting new distribution.\"\"\"\n",
    "    # YOUR CODE HERE\n",
    "    \n",
    "        \n",
    "    offset = a.offset + b.offset;\n",
    "    distri_list = []\n",
    "    \n",
    "    for i in a.values:\n",
    "        distri_value = []\n",
    "        for j in b.values:\n",
    "            distri_value.append(i*j)\n",
    "        distri_list.append(Distribution(offset, distri_value))\n",
    "        offset += 1\n",
    "    \n",
    "    result  = Distribution.sum(distri_list)\n",
    "#     raise NotImplementedError()\n",
    "    return result\n",
    "\n",
    "if __name__ == '__main__':\n",
    "    arena = (0,100)\n",
    "\n",
    "    # Move 3 times by 20.\n",
    "    moves = [20] * 3\n",
    "\n",
    "    # Start with a known position: probability 1.0 at position 10.\n",
    "    position = Distribution.unit_pulse(10)\n",
    "    plot(position.plotlists(*arena)[0], position.plotlists(*arena)[1],\n",
    "         drawstyle='steps')\n",
    "\n",
    "    # Now move and plot.\n",
    "    for m in moves:\n",
    "        move_distribution = Distribution.triangle(m, 2)\n",
    "        position = convolve(position, move_distribution)\n",
    "        plot(position.plotlists(*arena)[0], position.plotlists(*arena)[1],\n",
    "             drawstyle='steps')\n",
    "\n",
    "    ylim(0.0, 1.1)\n",
    "    show()"
   ]
  },
  {
   "cell_type": "code",
   "execution_count": 117,
   "metadata": {
    "deletable": false,
    "editable": false,
    "nbgrader": {
     "cell_type": "code",
     "checksum": "5061529c70f52a7a8ce676a169ea6f3d",
     "grade": true,
     "grade_id": "cell-37b62447a926d24b",
     "locked": true,
     "points": 15,
     "schema_version": 3,
     "solution": false,
     "task": false
    }
   },
   "outputs": [],
   "source": [
    "# Some easy test cases made by hand to help debugging.\n",
    "def public_test_1(the_convolve): \n",
    "    test_cases = [\n",
    "        (Distribution(11, [1,2,1]),\n",
    "         Distribution(-3, [1]),\n",
    "         Distribution(8, [1,2,1])),\n",
    "\n",
    "        (Distribution(-10, [1]),\n",
    "         Distribution(-3, [1,2,1]),\n",
    "         Distribution(-13, [1,2,1])),\n",
    "        \n",
    "        (Distribution(4, [1,2,1]),\n",
    "         Distribution(-1, [1,5,2]),\n",
    "         Distribution(3, [1,7,13,9,2])),\n",
    "\n",
    "        (Distribution(-4, [1,2]),\n",
    "         Distribution(1, [1,5,4,3]),\n",
    "         Distribution(-3, [1,7,14,11,6])),\n",
    "    ]\n",
    "\n",
    "    for d1, d2, ref in test_cases:\n",
    "        d1.normalize()\n",
    "        d2.normalize()\n",
    "        # Call function to be tested.\n",
    "        res = the_convolve(d1, d2)\n",
    "\n",
    "        # Check if normalized.\n",
    "        if abs(sum(res.values)-1) > 1e-6:\n",
    "            print(\"Test 1 error: distribution should sum up to 1.\")\n",
    "            return False\n",
    "\n",
    "        # Check values.\n",
    "        ref.normalize()\n",
    "        for i in range(ref.start(), ref.stop()):\n",
    "            if abs(ref.value(i)-res.value(i)) > 1e-6:\n",
    "                print(\"Test 1 error: wrong result for distribution 1:\")\n",
    "                print(d1)\n",
    "                print(\"and distribution 2:\")\n",
    "                print(d2)\n",
    "                return False\n",
    "\n",
    "    return True\n",
    "\n",
    "# Some more random test cases.\n",
    "from random import randint, random\n",
    "import numpy as np\n",
    "def public_test_2(the_convolve):\n",
    "    for experiment in range(50):\n",
    "        # Invent two distributions.\n",
    "        d1 = Distribution(randint(-20,20),\n",
    "                          [random()+0.0001 for i in range(randint(1,5))])\n",
    "        d1.normalize()\n",
    "        d2 = Distribution(randint(-20,20),\n",
    "                          [random()+0.0001 for i in range(randint(1,5))])\n",
    "        d2.normalize()\n",
    "\n",
    "        # Call function to be tested.\n",
    "        res = the_convolve(d1,d2)\n",
    "        # Check if normalized.\n",
    "        if abs(sum(res.values)-1) > 1e-6:\n",
    "            print(\"Test 2 error: distribution should sum up to 1.\")\n",
    "            return False\n",
    "\n",
    "        # Check result.\n",
    "        m = np.rot90(np.multiply(*np.meshgrid(d1.values, d2.values)),-1)\n",
    "        v = [np.trace(m,offset=k) for k in range(m.shape[1]-1,-m.shape[0],-1)]\n",
    "        for i, val in enumerate(v, d1.offset+d2.offset):\n",
    "            if abs(res.value(i)-val) > 1e-6:\n",
    "                print(\"Test 2 error: wrong result for distribution 1:\")\n",
    "                print(d1)\n",
    "                print(\"and distribution 2:\")\n",
    "                print(d2)\n",
    "                return False\n",
    "    return True\n",
    "assert(public_test_1(convolve))\n",
    "assert(public_test_2(convolve))"
   ]
  },
  {
   "cell_type": "markdown",
   "metadata": {
    "deletable": false,
    "editable": false,
    "nbgrader": {
     "cell_type": "markdown",
     "checksum": "f20bff0c16585b6bb73dfd390607e7e8",
     "grade": false,
     "grade_id": "cell-bbc1acecf1907950",
     "locked": true,
     "schema_version": 3,
     "solution": false,
     "task": false
    }
   },
   "source": [
    "### Integrating the measurement."
   ]
  },
  {
   "cell_type": "code",
   "execution_count": 70,
   "metadata": {
    "deletable": false,
    "editable": false,
    "nbgrader": {
     "cell_type": "code",
     "checksum": "50ebbc9082616fbef48b44d10f3bedbf",
     "grade": false,
     "grade_id": "cell-3c43351eeed25c3e",
     "locked": true,
     "schema_version": 3,
     "solution": false,
     "task": false
    }
   },
   "outputs": [
    {
     "data": {
      "text/html": [
       "\n",
       "        <iframe\n",
       "            width=\"560\"\n",
       "            height=\"315\"\n",
       "            src=\"//av.tib.eu/player/48992\"\n",
       "            frameborder=\"0\"\n",
       "            allowfullscreen\n",
       "        ></iframe>\n",
       "        "
      ],
      "text/plain": [
       "<IPython.lib.display.IFrame at 0x7f6c9237f610>"
      ]
     },
     "execution_count": 70,
     "metadata": {},
     "output_type": "execute_result"
    }
   ],
   "source": [
    "# If you don't see a video below, run this cell.\n",
    "from IPython.display import IFrame\n",
    "IFrame(\"https://www.youtube.com/embed/YXraP_l2g_Y\" if \"YouTube\" in globals() else \"//av.tib.eu/player/48992\",\n",
    "       width=560, height=315)"
   ]
  },
  {
   "cell_type": "code",
   "execution_count": 71,
   "metadata": {
    "deletable": false,
    "nbgrader": {
     "cell_type": "code",
     "checksum": "b37d693ac008eebd36e30b8a4377db9c",
     "grade": false,
     "grade_id": "cell-7a731053a2edf42d",
     "locked": false,
     "schema_version": 3,
     "solution": true,
     "task": false
    }
   },
   "outputs": [],
   "source": [
    "# Write here the required operation, from the choices in the video, i.e. \"Add\", or \"Subtract\", etc.\n",
    "required_operation = \"Loop\"\n",
    "# YOUR CODE HERE\n",
    "\n",
    "required_operation = \"Multiply\"\n",
    "\n",
    "# raise NotImplementedError()"
   ]
  },
  {
   "cell_type": "code",
   "execution_count": 113,
   "metadata": {
    "deletable": false,
    "editable": false,
    "nbgrader": {
     "cell_type": "code",
     "checksum": "6b93b97350015756a6f0f68d950d8dc6",
     "grade": true,
     "grade_id": "cell-f875bc1f8284f8ae",
     "locked": true,
     "points": 2,
     "schema_version": 3,
     "solution": false,
     "task": false
    }
   },
   "outputs": [],
   "source": [
    "from hashlib import shake_128\n",
    "def public_test(the_required_operation):\n",
    "    m = shake_128()\n",
    "    m.update(the_required_operation.strip().lower().encode())\n",
    "    if m.hexdigest(4)=='0708d00f':\n",
    "        return True\n",
    "    else:\n",
    "        print(\"Oh no! Your answer is wrong!\")\n",
    "        return False\n",
    "assert(public_test(required_operation))"
   ]
  },
  {
   "cell_type": "code",
   "execution_count": 114,
   "metadata": {
    "deletable": false,
    "editable": false,
    "nbgrader": {
     "cell_type": "code",
     "checksum": "176e5e727993f4d02f6774c53eb7f5a5",
     "grade": false,
     "grade_id": "cell-894d6c31e935ee9b",
     "locked": true,
     "schema_version": 3,
     "solution": false,
     "task": false
    }
   },
   "outputs": [
    {
     "data": {
      "text/html": [
       "\n",
       "        <iframe\n",
       "            width=\"560\"\n",
       "            height=\"315\"\n",
       "            src=\"//av.tib.eu/player/48993\"\n",
       "            frameborder=\"0\"\n",
       "            allowfullscreen\n",
       "        ></iframe>\n",
       "        "
      ],
      "text/plain": [
       "<IPython.lib.display.IFrame at 0x7f6c92482850>"
      ]
     },
     "execution_count": 114,
     "metadata": {},
     "output_type": "execute_result"
    }
   ],
   "source": [
    "# If you don't see a video below, run this cell.\n",
    "from IPython.display import IFrame\n",
    "IFrame(\"https://www.youtube.com/embed/olOGM0bv1BA\" if \"YouTube\" in globals() else \"//av.tib.eu/player/48993\",\n",
    "       width=560, height=315)"
   ]
  },
  {
   "cell_type": "markdown",
   "metadata": {
    "deletable": false,
    "editable": false,
    "nbgrader": {
     "cell_type": "markdown",
     "checksum": "12bb91f634f6363e92bc900af579338a",
     "grade": false,
     "grade_id": "cell-f084fe2d67ed1c60",
     "locked": true,
     "schema_version": 3,
     "solution": false,
     "task": false
    }
   },
   "source": [
    "### Programming assignment: multiplication of distributions (15 Points)."
   ]
  },
  {
   "cell_type": "code",
   "execution_count": 74,
   "metadata": {
    "deletable": false,
    "nbgrader": {
     "cell_type": "code",
     "checksum": "1b5be940836630b62d590238e6645bb1",
     "grade": false,
     "grade_id": "cell-1ae48df712ac5a8d",
     "locked": false,
     "schema_version": 3,
     "solution": true,
     "task": false
    }
   },
   "outputs": [
    {
     "data": {
      "image/png": "[encoded data removed]",
      "text/plain": [
       "<Figure size 864x432 with 1 Axes>"
      ]
     },
     "metadata": {
      "needs_background": "light"
     },
     "output_type": "display_data"
    }
   ],
   "source": [
    "# Multiply a distribution by another distribution.\n",
    "# 06_c_multiply_distribution\n",
    "from pylab import plot, show\n",
    "from distribution import *\n",
    "\n",
    "def multiply(a, b):\n",
    "    \"\"\"Multiply two distributions and return the resulting distribution.\"\"\"\n",
    "    # YOUR CODE HERE\n",
    "    \n",
    "    start = min([a.start(), b.start()])\n",
    "    stop = max([a.stop(), b.stop()])\n",
    "    values = []\n",
    "    \n",
    "    for i in range(start, stop):\n",
    "        values.append(a.value(i) * b.value(i))\n",
    "    \n",
    "    result_distri = Distribution(start, values)\n",
    "    result_distri.normalize()\n",
    "    d = result_distri\n",
    "\n",
    "\n",
    "#     raise NotImplementedError()\n",
    "    return d\n",
    "\n",
    "if __name__ == '__main__':\n",
    "    arena = (0,1000)\n",
    "\n",
    "    # Here is our assumed position. Plotted in blue.\n",
    "    position_value = 400\n",
    "    position_error = 100\n",
    "    position = Distribution.triangle(position_value, position_error)\n",
    "    plot(position.plotlists(*arena)[0], position.plotlists(*arena)[1],\n",
    "         color='b', drawstyle='steps')\n",
    "\n",
    "    # Here is our measurement. Plotted in green.\n",
    "    # That is what we read from the instrument.\n",
    "    measured_value = 410\n",
    "    measurement_error = 200\n",
    "    measurement = Distribution.triangle(measured_value, measurement_error)\n",
    "    plot(measurement.plotlists(*arena)[0], measurement.plotlists(*arena)[1],\n",
    "         color='g', drawstyle='steps')\n",
    "\n",
    "    # Now, we integrate our sensor measurement. Result is plotted in red.\n",
    "    position_after_measurement = multiply(position, measurement)\n",
    "    plot(position_after_measurement.plotlists(*arena)[0],\n",
    "         position_after_measurement.plotlists(*arena)[1],\n",
    "         color='r', drawstyle='steps')\n",
    "\n",
    "    show()"
   ]
  },
  {
   "cell_type": "code",
   "execution_count": 112,
   "metadata": {
    "deletable": false,
    "editable": false,
    "nbgrader": {
     "cell_type": "code",
     "checksum": "2e1840106528e8c0e08d057573b19341",
     "grade": true,
     "grade_id": "cell-8fe8029ee2de5e51",
     "locked": true,
     "points": 15,
     "schema_version": 3,
     "solution": false,
     "task": false
    }
   },
   "outputs": [],
   "source": [
    "# Some easy test cases made by hand to help debugging.\n",
    "def public_test_1(the_multiply):\n",
    "    test_cases = [\n",
    "        # Single element return.\n",
    "        (Distribution(7, [1,2,1]),\n",
    "         Distribution(7, [1]),\n",
    "         Distribution(7, [1])),\n",
    "        # Single element return.\n",
    "        (Distribution(7, [1,2,1]),\n",
    "         Distribution(8, [1]),\n",
    "         Distribution(8, [1])),\n",
    "        # Overlap 1.\n",
    "        (Distribution(-11, [1,2,1]),\n",
    "         Distribution(-13, [1,2,3]),\n",
    "         Distribution(-11, [1])),\n",
    "        # Overlap 2.\n",
    "        (Distribution(-11, [1,2,1]),\n",
    "         Distribution(-12, [1,2,3]),\n",
    "         Distribution(-11, [1,3])),\n",
    "        # Overlap 3.\n",
    "        (Distribution(-11, [1,2,1]),\n",
    "         Distribution(-11, [1,2,3]),\n",
    "         Distribution(-11, [1,4,3])),\n",
    "    ]\n",
    "\n",
    "    for d1, d2, ref in test_cases:\n",
    "        d1.normalize()\n",
    "        d2.normalize()\n",
    "        # Call function to be tested.\n",
    "        res = the_multiply(d1, d2)\n",
    "\n",
    "        # Check if normalized.\n",
    "        if abs(sum(res.values)-1) > 1e-6:\n",
    "            print(\"Test 1 error: distribution should sum up to 1.\")\n",
    "            return False\n",
    "\n",
    "        # Check values.\n",
    "        ref.normalize()\n",
    "        for i in range(ref.start(), ref.stop()):\n",
    "            if abs(ref.value(i)-res.value(i)) > 1e-6:\n",
    "                print(\"Test 1 error: wrong result for distribution 1:\")\n",
    "                print(d1)\n",
    "                print(\"and distribution 2:\")\n",
    "                print(d2)\n",
    "                return False\n",
    "    return True\n",
    "\n",
    "# Some more random test cases.\n",
    "from random import randint, random\n",
    "import numpy as np\n",
    "from scipy.sparse import coo_matrix\n",
    "def public_test_2(the_multiply):\n",
    "    for experiment in range(50):\n",
    "        # Invent two distributions.\n",
    "        dists = [ Distribution(randint(0,10),\n",
    "                  [random()+0.0001 for _ in range(randint(1,15))]) \\\n",
    "                  for _ in range(2) ]\n",
    "        map(lambda d: d.normalize(), dists)\n",
    "\n",
    "        # Check if there are nonzero values at all. If so, skip.\n",
    "        stop = max(d.stop() for d in dists)\n",
    "        m = [ coo_matrix((d.values, (range(d.start(),d.stop()),\n",
    "              np.zeros(len(d.values)))), shape=(stop,1)) for d in dists ]\n",
    "        v = m[0].multiply(m[1])\n",
    "        s = v.sum()\n",
    "        if s == 0: continue\n",
    "\n",
    "        # Call function to be tested.\n",
    "        res = the_multiply(*dists)\n",
    "        # Check if normalized.\n",
    "        if abs(sum(res.values)-1) > 1e-6:\n",
    "            print(\"Test 2 error: distribution should sum up to 1.\")\n",
    "            return False\n",
    "\n",
    "        # Check each element.\n",
    "        for i in range(v.shape[0]):\n",
    "            if abs(res.value(i)-v[i,0]/s) > 1e-6:\n",
    "                print(\"Test 2 error: wrong result for distribution 1:\")\n",
    "                print(dists[0])\n",
    "                print(\"and distribution 2:\")\n",
    "                print(dists[1])\n",
    "                return False\n",
    "    return True\n",
    "assert(public_test_1(multiply))\n",
    "assert(public_test_2(multiply))"
   ]
  },
  {
   "cell_type": "markdown",
   "metadata": {
    "deletable": false,
    "editable": false,
    "nbgrader": {
     "cell_type": "markdown",
     "checksum": "94bbe321866060e0a72ade266db958b8",
     "grade": false,
     "grade_id": "cell-4e7f54076f3d8939",
     "locked": true,
     "schema_version": 3,
     "solution": false,
     "task": false
    }
   },
   "source": [
    "## The Bayes filter\n",
    "Now we will combine our two operations. This is called the Bayes filter. If it is used in conjunction with our discrete distributions (having one probability for each discrete location) it is also called the **histogram filter**."
   ]
  },
  {
   "cell_type": "code",
   "execution_count": 111,
   "metadata": {
    "deletable": false,
    "editable": false,
    "nbgrader": {
     "cell_type": "code",
     "checksum": "d649260c4797503b1cde0145f93d6e6d",
     "grade": false,
     "grade_id": "cell-1e6daa044a958693",
     "locked": true,
     "schema_version": 3,
     "solution": false,
     "task": false
    }
   },
   "outputs": [
    {
     "data": {
      "text/html": [
       "\n",
       "        <iframe\n",
       "            width=\"560\"\n",
       "            height=\"315\"\n",
       "            src=\"//av.tib.eu/player/48994\"\n",
       "            frameborder=\"0\"\n",
       "            allowfullscreen\n",
       "        ></iframe>\n",
       "        "
      ],
      "text/plain": [
       "<IPython.lib.display.IFrame at 0x7f6c9242fe90>"
      ]
     },
     "execution_count": 111,
     "metadata": {},
     "output_type": "execute_result"
    }
   ],
   "source": [
    "# If you don't see a video below, run this cell.\n",
    "from IPython.display import IFrame\n",
    "IFrame(\"https://www.youtube.com/embed/yCYybXmuVEU\" if \"YouTube\" in globals() else \"//av.tib.eu/player/48994\",\n",
    "       width=560, height=315)"
   ]
  },
  {
   "cell_type": "markdown",
   "metadata": {
    "deletable": false,
    "editable": false,
    "nbgrader": {
     "cell_type": "markdown",
     "checksum": "67dcfdb21fb17b22862823d30aee9113",
     "grade": false,
     "grade_id": "cell-3385ab394192f833",
     "locked": true,
     "schema_version": 3,
     "solution": false,
     "task": false
    }
   },
   "source": [
    "### First let's reproduce the result from the video.\n",
    "You are welcome to perform the experiments shown in the video, by playing with the widths of the distributions, or commenting out the correction step."
   ]
  },
  {
   "cell_type": "code",
   "execution_count": 110,
   "metadata": {},
   "outputs": [
    {
     "data": {
      "image/png": "[encoded data removed]",
      "text/plain": [
       "<Figure size 864x432 with 1 Axes>"
      ]
     },
     "metadata": {
      "needs_background": "light"
     },
     "output_type": "display_data"
    }
   ],
   "source": [
    "# Histogram implementation of a bayes filter - combines\n",
    "# convolution and multiplication of distributions, for the\n",
    "# movement and measurement steps.\n",
    "# 06_d_histogram_filter\n",
    "from pylab import plot, show, ylim\n",
    "from distribution import *\n",
    "\n",
    "# No need to copy your previous solutions to here.\n",
    "\n",
    "if __name__ == '__main__':\n",
    "    arena = (0,220)\n",
    "\n",
    "    # Start position. Exactly known - a unit pulse.\n",
    "    start_position = 10\n",
    "    position = Distribution.unit_pulse(start_position)\n",
    "    plot(position.plotlists(*arena)[0], position.plotlists(*arena)[1],\n",
    "         drawstyle='steps')\n",
    "\n",
    "    # Movement data.\n",
    "    controls  =    [ 20 ] * 10\n",
    "\n",
    "    # Measurement data. Assume (for now) that the measurement data\n",
    "    # is correct. - This code just builds a cumulative list of the controls,\n",
    "    # plus the start position.\n",
    "    p = start_position\n",
    "    measurements = []\n",
    "    for c in controls:\n",
    "        p += c\n",
    "        measurements.append(p)\n",
    "\n",
    "    # This is the filter loop.\n",
    "    for i in range(len(controls)):\n",
    "        # Move, by convolution. Also termed \"prediction\".\n",
    "        control = Distribution.triangle(controls[i], 10)\n",
    "        position = convolve(position, control)\n",
    "        plot(position.plotlists(*arena)[0], position.plotlists(*arena)[1],\n",
    "             color='b', drawstyle='steps')\n",
    "\n",
    "        # Measure, by multiplication. Also termed \"correction\".\n",
    "        measurement = Distribution.triangle(measurements[i], 10)\n",
    "        position = multiply(position, measurement)\n",
    "        plot(position.plotlists(*arena)[0], position.plotlists(*arena)[1],\n",
    "             color='r', drawstyle='steps')\n",
    "\n",
    "    show()"
   ]
  },
  {
   "cell_type": "markdown",
   "metadata": {
    "deletable": false,
    "editable": false,
    "nbgrader": {
     "cell_type": "markdown",
     "checksum": "4091db5f4cadcae62924bb3e5381bde5",
     "grade": false,
     "grade_id": "cell-8fa892084930d168",
     "locked": true,
     "schema_version": 3,
     "solution": false,
     "task": false
    }
   },
   "source": [
    "### Here is the *cleanedup* version shown in the video.\n",
    "You are welcome to replace the `Distribution.triangle` by `Distribution.gaussian`, as demonstrated in the above video."
   ]
  },
  {
   "cell_type": "code",
   "execution_count": 109,
   "metadata": {},
   "outputs": [
    {
     "data": {
      "image/png": "[encoded data removed]",
      "text/plain": [
       "<Figure size 864x432 with 1 Axes>"
      ]
     },
     "metadata": {
      "needs_background": "light"
     },
     "output_type": "display_data"
    }
   ],
   "source": [
    "# Histogram implementation of a bayes filter - combines\n",
    "# convolution and multiplication of distributions, for the\n",
    "# movement and measurement steps.\n",
    "# 06_e_histogram_filter_cleanedup\n",
    "from distribution import *\n",
    "from pylab import plot, show, ylim\n",
    "\n",
    "# No need to copy your previous solutions to here.\n",
    "\n",
    "#\n",
    "# Helpers.\n",
    "#\n",
    "def histogram_plot(prediction, measurement, correction):\n",
    "    \"\"\"Helper to draw all curves in each filter step.\"\"\"\n",
    "    plot(prediction.plotlists(*arena)[0], prediction.plotlists(*arena)[1],\n",
    "         color='#C0C0FF', drawstyle='steps', linewidth=5)\n",
    "    plot(measurement.plotlists(*arena)[0], measurement.plotlists(*arena)[1],\n",
    "         color='#C0FFC0', drawstyle='steps', linewidth=5)    \n",
    "    plot(correction.plotlists(*arena)[0], correction.plotlists(*arena)[1],\n",
    "         color='#FFC0C0', drawstyle='steps', linewidth=5)\n",
    "\n",
    "#\n",
    "# Histogram filter step.\n",
    "#\n",
    "def histogram_filter_step(belief, control, measurement):\n",
    "    \"\"\"Bayes filter step implementation: histogram filter.\"\"\"\n",
    "    # These two lines is the entire filter!\n",
    "    prediction = convolve(belief, control)\n",
    "    correction = multiply(prediction, measurement)\n",
    "\n",
    "    # Return both prediction and corrrection. This is for plotting only.\n",
    "    # Normally, this would just return the correction.\n",
    "    return (prediction, correction)\n",
    "\n",
    "#\n",
    "# Main\n",
    "#\n",
    "if __name__ == '__main__':\n",
    "    arena = (0,200)\n",
    "    Dist = Distribution.triangle  # Distribution.triangle or Distribution.gaussian.\n",
    "\n",
    "    # Start position. Well known, so the distribution is narrow.\n",
    "    position = Dist(10, 1)\n",
    "\n",
    "    # Controls and measurements.\n",
    "    controls = [ Dist(40, 10), Dist(70, 10) ]\n",
    "    measurements = [ Dist(60, 10), Dist(140, 20) ]\n",
    "\n",
    "    # This is the filter loop.\n",
    "    for i in range(len(controls)):\n",
    "        # Call the filter step. The corrected distribution becomes the new position.\n",
    "        (prediction, position) = histogram_filter_step(position, controls[i], measurements[i])\n",
    "        histogram_plot(prediction, measurements[i], position)\n",
    "\n",
    "    ylim(0.0, 0.16)\n",
    "    show()"
   ]
  },
  {
   "cell_type": "code",
   "execution_count": 108,
   "metadata": {
    "deletable": false,
    "nbgrader": {
     "cell_type": "code",
     "checksum": "9db245b5ea14999e71403e0f8e1860b9",
     "grade": false,
     "grade_id": "cell-a68dc3f9fccb170a",
     "locked": false,
     "schema_version": 3,
     "solution": true,
     "task": false
    }
   },
   "outputs": [],
   "source": [
    "# Finally, here is the question raised at the end of the above video.\n",
    "# Is it all Gaussians? Answer with \"True\" or \"False\"\n",
    "its_all_gaussians = \"True\"\n",
    "# YOUR CODE HERE\n",
    "#raise NotImplementedError()"
   ]
  },
  {
   "cell_type": "code",
   "execution_count": 104,
   "metadata": {
    "deletable": false,
    "editable": false,
    "nbgrader": {
     "cell_type": "code",
     "checksum": "886520055fcfb3e1ddee988f224f035c",
     "grade": true,
     "grade_id": "cell-aae6aeef682f493d",
     "locked": true,
     "points": 2,
     "schema_version": 3,
     "solution": false,
     "task": false
    }
   },
   "outputs": [],
   "source": [
    "from hashlib import shake_128\n",
    "m = shake_128()\n",
    "m.update(its_all_gaussians.strip().lower().encode())\n",
    "assert(m.hexdigest(4)==\"f69a8740\")"
   ]
  },
  {
   "cell_type": "markdown",
   "metadata": {
    "deletable": false,
    "editable": false,
    "nbgrader": {
     "cell_type": "markdown",
     "checksum": "c6c4fa5137868a07bf3f5ab79820e3ae",
     "grade": false,
     "grade_id": "cell-15b75350aaabfb89",
     "locked": true,
     "schema_version": 3,
     "solution": false,
     "task": false
    }
   },
   "source": [
    "## The Gaussian distribution"
   ]
  },
  {
   "cell_type": "code",
   "execution_count": 103,
   "metadata": {
    "deletable": false,
    "editable": false,
    "nbgrader": {
     "cell_type": "code",
     "checksum": "bede839fd529221a8fe258c4022f72e5",
     "grade": false,
     "grade_id": "cell-2419a2b167f0ef09",
     "locked": true,
     "schema_version": 3,
     "solution": false,
     "task": false
    }
   },
   "outputs": [
    {
     "data": {
      "text/html": [
       "\n",
       "        <iframe\n",
       "            width=\"560\"\n",
       "            height=\"315\"\n",
       "            src=\"//av.tib.eu/player/48995\"\n",
       "            frameborder=\"0\"\n",
       "            allowfullscreen\n",
       "        ></iframe>\n",
       "        "
      ],
      "text/plain": [
       "<IPython.lib.display.IFrame at 0x7f6c9239d7d0>"
      ]
     },
     "execution_count": 103,
     "metadata": {},
     "output_type": "execute_result"
    }
   ],
   "source": [
    "# If you don't see a video below, run this cell.\n",
    "from IPython.display import IFrame\n",
    "IFrame(\"https://www.youtube.com/embed/JNCkmzec-zk\" if \"YouTube\" in globals() else \"//av.tib.eu/player/48995\",\n",
    "       width=560, height=315)"
   ]
  },
  {
   "cell_type": "code",
   "execution_count": 101,
   "metadata": {
    "deletable": false,
    "nbgrader": {
     "cell_type": "code",
     "checksum": "616134302f177335ca70ff0d8531f88d",
     "grade": false,
     "grade_id": "cell-81ff79a42817b08d",
     "locked": false,
     "schema_version": 3,
     "solution": true,
     "task": false
    }
   },
   "outputs": [],
   "source": [
    "# Please answer the question from the end of the video:\n",
    "# \"What is the value of the shown integral?\"\n",
    "# From the following lines, uncomment the correct solution.\n",
    "the_value_of_the_integral = \"depends on sigma\"\n",
    "# the_value_of_the_integral = \"is 1.0\"\n",
    "# the_value_of_the_integral = \"depends on mu\"\n",
    "# the_value_of_the_integral = \"depends on sigma\"\n",
    "# the_value_of_the_integral = \"depends on both, mu and sigma\"\n",
    "# YOUR CODE HERE\n",
    "#raise NotImplementedError()"
   ]
  },
  {
   "cell_type": "code",
   "execution_count": 102,
   "metadata": {
    "deletable": false,
    "editable": false,
    "nbgrader": {
     "cell_type": "code",
     "checksum": "d4b57dc20f26619337e396672ce7dead",
     "grade": true,
     "grade_id": "cell-c07800e4519ee0f2",
     "locked": true,
     "points": 2,
     "schema_version": 3,
     "solution": false,
     "task": false
    }
   },
   "outputs": [],
   "source": [
    "from hashlib import shake_128\n",
    "m = shake_128()\n",
    "m.update(the_value_of_the_integral.strip().lower().encode())\n",
    "assert(m.hexdigest(4)==\"ef431e7a\")"
   ]
  },
  {
   "cell_type": "markdown",
   "metadata": {
    "deletable": false,
    "editable": false,
    "nbgrader": {
     "cell_type": "markdown",
     "checksum": "5af4cdd3700dcc2ddbf1be7071d8561f",
     "grade": false,
     "grade_id": "cell-7b660c9a97b0e674",
     "locked": true,
     "schema_version": 3,
     "solution": false,
     "task": false
    }
   },
   "source": [
    "## Towards the Kalman filter\n",
    "### First, the correction step."
   ]
  },
  {
   "cell_type": "code",
   "execution_count": 100,
   "metadata": {
    "deletable": false,
    "editable": false,
    "nbgrader": {
     "cell_type": "code",
     "checksum": "1c8580f70e1ad33b2c119912fa4e2519",
     "grade": false,
     "grade_id": "cell-b329233ae2291618",
     "locked": true,
     "schema_version": 3,
     "solution": false,
     "task": false
    }
   },
   "outputs": [
    {
     "data": {
      "text/html": [
       "\n",
       "        <iframe\n",
       "            width=\"560\"\n",
       "            height=\"315\"\n",
       "            src=\"//av.tib.eu/player/48996\"\n",
       "            frameborder=\"0\"\n",
       "            allowfullscreen\n",
       "        ></iframe>\n",
       "        "
      ],
      "text/plain": [
       "<IPython.lib.display.IFrame at 0x7f6c9242f5d0>"
      ]
     },
     "execution_count": 100,
     "metadata": {},
     "output_type": "execute_result"
    }
   ],
   "source": [
    "# If you don't see a video below, run this cell.\n",
    "from IPython.display import IFrame\n",
    "IFrame(\"https://www.youtube.com/embed/kNLehf7vs5w\" if \"YouTube\" in globals() else \"//av.tib.eu/player/48996\",\n",
    "       width=560, height=315)"
   ]
  },
  {
   "cell_type": "code",
   "execution_count": 99,
   "metadata": {
    "deletable": false,
    "nbgrader": {
     "cell_type": "code",
     "checksum": "d186e10d67d0c42bd06fccad5287ffed",
     "grade": false,
     "grade_id": "cell-f465deab12c10679",
     "locked": false,
     "schema_version": 3,
     "solution": true,
     "task": false
    }
   },
   "outputs": [],
   "source": [
    "# Please answer the question from the end of the video:\n",
    "# \"Will the result be normal distributed?\"\n",
    "# Answer with \"Yes\" or \"No\"\n",
    "the_result_will_be_normal_distributed = \"Yes\"\n",
    "# YOUR CODE HERE\n",
    "#raise NotImplementedError()"
   ]
  },
  {
   "cell_type": "code",
   "execution_count": 98,
   "metadata": {
    "deletable": false,
    "editable": false,
    "nbgrader": {
     "cell_type": "code",
     "checksum": "8e8b4ce67d25c9b123b3b3e34d92ee64",
     "grade": true,
     "grade_id": "cell-e9bcaa47bd32fbcf",
     "locked": true,
     "points": 2,
     "schema_version": 3,
     "solution": false,
     "task": false
    }
   },
   "outputs": [],
   "source": [
    "from hashlib import shake_128\n",
    "m = shake_128()\n",
    "m.update(the_result_will_be_normal_distributed.strip().lower().encode())\n",
    "assert(m.hexdigest(4)==\"f94b1f4a\")"
   ]
  },
  {
   "cell_type": "markdown",
   "metadata": {
    "deletable": false,
    "editable": false,
    "nbgrader": {
     "cell_type": "markdown",
     "checksum": "8ef7db9642b58ad9e48336fda7f82466",
     "grade": false,
     "grade_id": "cell-f4ed59ec6d4d4f96",
     "locked": true,
     "schema_version": 3,
     "solution": false,
     "task": false
    }
   },
   "source": [
    "### Next, the prediction step."
   ]
  },
  {
   "cell_type": "code",
   "execution_count": 91,
   "metadata": {
    "deletable": false,
    "editable": false,
    "nbgrader": {
     "cell_type": "code",
     "checksum": "8dd497d6af34f2e97c75a6b2bb2cdc33",
     "grade": false,
     "grade_id": "cell-df2341617a641dac",
     "locked": true,
     "schema_version": 3,
     "solution": false,
     "task": false
    }
   },
   "outputs": [
    {
     "data": {
      "text/html": [
       "\n",
       "        <iframe\n",
       "            width=\"560\"\n",
       "            height=\"315\"\n",
       "            src=\"//av.tib.eu/player/48997\"\n",
       "            frameborder=\"0\"\n",
       "            allowfullscreen\n",
       "        ></iframe>\n",
       "        "
      ],
      "text/plain": [
       "<IPython.lib.display.IFrame at 0x7f6c92389a90>"
      ]
     },
     "execution_count": 91,
     "metadata": {},
     "output_type": "execute_result"
    }
   ],
   "source": [
    "# If you don't see a video below, run this cell.\n",
    "from IPython.display import IFrame\n",
    "IFrame(\"https://www.youtube.com/embed/SEh7vst6XPc\" if \"YouTube\" in globals() else \"//av.tib.eu/player/48997\",\n",
    "       width=560, height=315)"
   ]
  },
  {
   "cell_type": "markdown",
   "metadata": {
    "deletable": false,
    "editable": false,
    "nbgrader": {
     "cell_type": "markdown",
     "checksum": "a5be86958e6a5707a69b5a3e079d7448",
     "grade": false,
     "grade_id": "cell-52163e4218447a3d",
     "locked": true,
     "schema_version": 3,
     "solution": false,
     "task": false
    }
   },
   "source": [
    "## Finally: your first Kalman filter!\n",
    "### Programming assignment: implement the Kalman filter (15 Points)."
   ]
  },
  {
   "cell_type": "code",
   "execution_count": 90,
   "metadata": {
    "deletable": false,
    "nbgrader": {
     "cell_type": "code",
     "checksum": "e2e2f1180a0be7b846d48876a13934ec",
     "grade": false,
     "grade_id": "cell-714fc04b07267da1",
     "locked": false,
     "schema_version": 3,
     "solution": true,
     "task": false
    }
   },
   "outputs": [
    {
     "data": {
      "image/png": "[encoded data removed]",
      "text/plain": [
       "<Figure size 864x432 with 1 Axes>"
      ]
     },
     "metadata": {
      "needs_background": "light"
     },
     "output_type": "display_data"
    }
   ],
   "source": [
    "# Comparison of the Kalman filter and the histogram filter.\n",
    "# 06_f_kalman_vs_histogram_filter\n",
    "from distribution import *\n",
    "from math import sqrt\n",
    "from pylab import plot, show, ylim\n",
    "from scipy.stats import norm\n",
    "\n",
    "# No need to paste any previous solution here.\n",
    "\n",
    "#\n",
    "# Helpers.\n",
    "#\n",
    "class Density:\n",
    "    def __init__(self, mu, sigma2):\n",
    "        self.mu = float(mu)\n",
    "        self.sigma2 = float(sigma2)\n",
    "\n",
    "def histogram_plot(prediction, measurement, correction):\n",
    "    \"\"\"Helper to draw all curves in each filter step.\"\"\"\n",
    "    plot(prediction.plotlists(*arena)[0], prediction.plotlists(*arena)[1],\n",
    "         color='#C0C0FF', drawstyle='steps', linewidth=5)\n",
    "    plot(measurement.plotlists(*arena)[0], measurement.plotlists(*arena)[1],\n",
    "         color='#C0FFC0', drawstyle='steps', linewidth=5)    \n",
    "    plot(correction.plotlists(*arena)[0], correction.plotlists(*arena)[1],\n",
    "         color='#FFC0C0', drawstyle='steps', linewidth=5)\n",
    "\n",
    "def kalman_plot(prediction, measurement, correction):\n",
    "    \"\"\"Helper to draw all curves in each filter step.\"\"\"\n",
    "    plot([norm.pdf(x, prediction.mu, sqrt(prediction.sigma2))\n",
    "          for x in range(*arena)], color = 'b', linewidth=2)\n",
    "    plot([norm.pdf(x, measurement.mu, sqrt(measurement.sigma2))\n",
    "          for x in range(*arena)], color = 'g', linewidth=2)\n",
    "    plot([norm.pdf(x, correction.mu, sqrt(correction.sigma2))\n",
    "          for x in range(*arena)], color = 'r', linewidth=2)\n",
    "\n",
    "#\n",
    "# Histogram filter step.\n",
    "#\n",
    "def histogram_filter_step(belief, control, measurement):\n",
    "    \"\"\"Bayes filter step implementation: histogram filter.\"\"\"\n",
    "    # These two lines is the entire filter!\n",
    "    prediction = convolve(belief, control)\n",
    "    correction = multiply(prediction, measurement)\n",
    "\n",
    "    return (prediction, correction)\n",
    "\n",
    "#\n",
    "# Kalman filter step.\n",
    "#\n",
    "def kalman_filter_step(belief, control, measurement):\n",
    "    \"\"\"Bayes filter step implementation: Kalman filter.\"\"\"\n",
    "    # Prediction. Replace the following line by your implementation.\n",
    "    #prediction = Density(belief.mu + 10.0, belief.sigma2 + 100.0)\n",
    "    prediction = Density(belief.mu + control.mu, belief.sigma2 + control.sigma2)\n",
    "\n",
    "    # Correction. Replace the following line by your implementation.\n",
    "    #correction = prediction\n",
    "\n",
    "    # YOUR CODE HERE\n",
    "    \n",
    "    k = prediction.sigma2 / (prediction.sigma2 + measurement.sigma2)\n",
    "    mu = prediction.mu + k*(measurement.mu - prediction.mu)\n",
    "    sigma2 = (1.0 - k)*prediction.sigma2\n",
    "    correction = Density(mu, sigma2)\n",
    "    \n",
    "    #raise NotImplementedError()\n",
    "\n",
    "    return (prediction, correction)\n",
    "\n",
    "#\n",
    "# Main\n",
    "#\n",
    "if __name__ == '__main__':\n",
    "    arena = (0,200)\n",
    "    Dist = Distribution.gaussian  # Distribution.triangle or Distribution.gaussian.\n",
    "\n",
    "    # Start position. Well known, so the distribution is narrow.\n",
    "    position = Dist(10, 1)      # Histogram\n",
    "    position_ = Density(10, 1)  # Kalman\n",
    "\n",
    "    # Controls and measurements.\n",
    "    controls = [ Dist(40, 10), Dist(70, 10) ]               # Histogram\n",
    "    controls_ = [ Density(40, 10**2), Density(70, 10**2) ]  # Kalman\n",
    "    measurements = [ Dist(60, 10), Dist(140, 20) ]               # Histogram\n",
    "    measurements_ = [ Density(60, 10**2), Density(140, 20**2) ]  # Kalman\n",
    "\n",
    "    # This is the filter loop.\n",
    "    for i in range(len(controls)):\n",
    "        # Histogram\n",
    "        (prediction, position) = histogram_filter_step(position, controls[i], measurements[i])\n",
    "        histogram_plot(prediction, measurements[i], position)\n",
    "        # Kalman\n",
    "        (prediction_, position_) = kalman_filter_step(position_, controls_[i], measurements_[i])\n",
    "        kalman_plot(prediction_, measurements_[i], position_)\n",
    "\n",
    "    ylim(0.0, 0.06)\n",
    "    show()"
   ]
  },
  {
   "cell_type": "code",
   "execution_count": 89,
   "metadata": {
    "deletable": false,
    "editable": false,
    "nbgrader": {
     "cell_type": "code",
     "checksum": "0d7c995e4ad68156087e15359456f6ae",
     "grade": true,
     "grade_id": "cell-82cac3c63522d3d8",
     "locked": true,
     "points": 15,
     "schema_version": 3,
     "solution": false,
     "task": false
    }
   },
   "outputs": [],
   "source": [
    "def public_test(the_kalman_filter_step):\n",
    "    test_cases = [\n",
    "        # belief, control, measurement, predicted, corrected.\n",
    "        # Each tuple is (mu, sigma2).\n",
    "        ((1,1), (2,4), (5,5), (3,5), (4.0,2.5)),\n",
    "        ((-1,2), (5,2), (8,1), (4,4), (7.2,0.8)),\n",
    "        ((1.23,4.56), (2.34,5.67), (5.67,7.89), (3.57, 10.23),\n",
    "         (4.755596026490066, 4.454453642384107)),\n",
    "    ]\n",
    "\n",
    "    for belief, control, measurement, ref_pred, ref_corr in test_cases:\n",
    "        # Call function to test.\n",
    "        pred, corr = the_kalman_filter_step(\n",
    "            Density(*belief), Density(*control), Density(*measurement))\n",
    "        result = (pred.mu, pred.sigma2, corr.mu, corr.sigma2)\n",
    "        ref = ref_pred + ref_corr        \n",
    "        if max(abs(a-b) for a, b in zip(result, ref)) > 1e-6:\n",
    "            print(\"Wrong result for case: belief\", belief,\n",
    "                  \"control\", control, \"measurement\", measurement)\n",
    "            return False\n",
    "    return True\n",
    "assert(public_test(kalman_filter_step))"
   ]
  },
  {
   "cell_type": "markdown",
   "metadata": {
    "deletable": false,
    "editable": false,
    "nbgrader": {
     "cell_type": "markdown",
     "checksum": "f84205b726aff8ce5d6afc36c4336d95",
     "grade": false,
     "grade_id": "cell-b52ebbaf1ed41fbe",
     "locked": true,
     "schema_version": 3,
     "solution": false,
     "task": false
    }
   },
   "source": [
    "## Conclusions and congratulations!"
   ]
  },
  {
   "cell_type": "code",
   "execution_count": 86,
   "metadata": {
    "deletable": false,
    "editable": false,
    "nbgrader": {
     "cell_type": "code",
     "checksum": "76cce3257928349dffe4f794a766b74d",
     "grade": false,
     "grade_id": "cell-84d6a827a44e0ebf",
     "locked": true,
     "schema_version": 3,
     "solution": false,
     "task": false
    }
   },
   "outputs": [
    {
     "data": {
      "text/html": [
       "\n",
       "        <iframe\n",
       "            width=\"560\"\n",
       "            height=\"315\"\n",
       "            src=\"//av.tib.eu/player/48998\"\n",
       "            frameborder=\"0\"\n",
       "            allowfullscreen\n",
       "        ></iframe>\n",
       "        "
      ],
      "text/plain": [
       "<IPython.lib.display.IFrame at 0x7f6c9225d990>"
      ]
     },
     "execution_count": 86,
     "metadata": {},
     "output_type": "execute_result"
    }
   ],
   "source": [
    "# If you don't see a video below, run this cell.\n",
    "from IPython.display import IFrame\n",
    "IFrame(\"https://www.youtube.com/embed/zRuXKGNIb4o\" if \"YouTube\" in globals() else \"//av.tib.eu/player/48998\",\n",
    "       width=560, height=315)"
   ]
  },
  {
   "cell_type": "markdown",
   "metadata": {
    "deletable": false,
    "editable": false,
    "nbgrader": {
     "cell_type": "markdown",
     "checksum": "47447fd1ec26e2fbc867d9fe79b2d224",
     "grade": false,
     "grade_id": "cell-efc1f53549749d8c",
     "locked": true,
     "schema_version": 3,
     "solution": false,
     "task": false
    }
   },
   "source": [
    "### Here is one last question (2 Points):\n",
    "Sometimes you will encounter the notions of *parametric filters* and *non-parametric filters*. Considering the histogram filter and the Kalman filter, which is true?"
   ]
  },
  {
   "cell_type": "code",
   "execution_count": 87,
   "metadata": {
    "deletable": false,
    "nbgrader": {
     "cell_type": "code",
     "checksum": "1732be7458da48ef71cef4374e3470ea",
     "grade": false,
     "grade_id": "cell-77f4ba94fb5253c7",
     "locked": false,
     "schema_version": 3,
     "solution": true,
     "task": false
    }
   },
   "outputs": [],
   "source": [
    "# Comment out the correct solution.\n",
    "the_answer_to_the_last_question = \"The Kalman filter is parametric, the histogram filter isn't.\"\n",
    "#the_answer_to_the_last_question = \"Neither of the two filters are parametric.\"\n",
    "#the_answer_to_the_last_question = \"The histogram filter is parametric, the Kalman filter isn't.\"\n",
    "#the_answer_to_the_last_question = \"The Kalman filter is parametric, the histogram filter isn't.\"\n",
    "#the_answer_to_the_last_question = \"Both, histogram and Kalman filters are parametric.\"\n",
    "# YOUR CODE HERE\n",
    "#raise NotImplementedError()"
   ]
  },
  {
   "cell_type": "code",
   "execution_count": 88,
   "metadata": {
    "deletable": false,
    "editable": false,
    "nbgrader": {
     "cell_type": "code",
     "checksum": "9726dbc5749c378ee72dbdf87eca2acd",
     "grade": true,
     "grade_id": "cell-b69cc1f434768020",
     "locked": true,
     "points": 2,
     "schema_version": 3,
     "solution": false,
     "task": false
    }
   },
   "outputs": [],
   "source": [
    "from hashlib import shake_128\n",
    "m = shake_128()\n",
    "m.update(the_answer_to_the_last_question.strip().lower().encode())\n",
    "assert(m.hexdigest(4)==\"453f9dc6\")"
   ]
  }
 ],
 "metadata": {
  "copyright": "(c) Claus Brenner 2020",
  "kernelspec": {
   "display_name": "Python 3",
   "language": "python",
   "name": "python3"
  },
  "language_info": {
   "codemirror_mode": {
    "name": "ipython",
    "version": 3
   },
   "file_extension": ".py",
   "mimetype": "text/x-python",
   "name": "python",
   "nbconvert_exporter": "python",
   "pygments_lexer": "ipython3",
   "version": "3.7.8"
  }
 },
 "nbformat": 4,
 "nbformat_minor": 4
}
