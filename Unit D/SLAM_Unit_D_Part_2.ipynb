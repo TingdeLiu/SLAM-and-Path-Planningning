{
 "cells": [
  {
   "cell_type": "markdown",
   "metadata": {
    "deletable": false,
    "editable": false,
    "nbgrader": {
     "cell_type": "markdown",
     "checksum": "ac1cb88eda9937d20eab0187cfbb153e",
     "grade": false,
     "grade_id": "cell-aea924aac5a73a34",
     "locked": true,
     "schema_version": 3,
     "solution": false,
     "task": false
    }
   },
   "source": [
    "# SLAM Unit D - Part 2\n",
    "Introducing the Kalman filter for our robot."
   ]
  },
  {
   "cell_type": "code",
   "execution_count": 10,
   "metadata": {},
   "outputs": [
    {
     "data": {
      "text/html": [
       "\n",
       "        <iframe\n",
       "            width=\"560\"\n",
       "            height=\"315\"\n",
       "            src=\"//av.tib.eu/player/49004\"\n",
       "            frameborder=\"0\"\n",
       "            allowfullscreen\n",
       "        ></iframe>\n",
       "        "
      ],
      "text/plain": [
       "<IPython.lib.display.IFrame at 0x7f653c248910>"
      ]
     },
     "execution_count": 10,
     "metadata": {},
     "output_type": "execute_result"
    }
   ],
   "source": [
    "# If you don't see a video below, run this cell.\n",
    "# YouTube = True  # Uncomment to get YouTube videos instead of TIB AV.\n",
    "from IPython.display import IFrame\n",
    "IFrame(\"https://www.youtube.com/embed/cXx5NmtPFag\" if \"YouTube\" in globals() else \"//av.tib.eu/player/49004\",\n",
    "       width=560, height=315)"
   ]
  },
  {
   "cell_type": "code",
   "execution_count": 5,
   "metadata": {
    "deletable": false,
    "nbgrader": {
     "cell_type": "code",
     "checksum": "ffcee9f473394b8a7b976e03b8ee005b",
     "grade": false,
     "grade_id": "cell-085e9943175910dd",
     "locked": false,
     "schema_version": 3,
     "solution": true,
     "task": false
    }
   },
   "outputs": [],
   "source": [
    "# What is the dimension of A? Write this as a string, e.g. \"1x2\" for \"one row times 2 columns\".\n",
    "dimension_of_A = \"3x3\"\n",
    "# YOUR CODE HERE\n",
    "#raise NotImplementedError()"
   ]
  },
  {
   "cell_type": "code",
   "execution_count": 6,
   "metadata": {
    "deletable": false,
    "editable": false,
    "nbgrader": {
     "cell_type": "code",
     "checksum": "de70bcdedd8220b300a869371fe6dcf6",
     "grade": true,
     "grade_id": "cell-b2767ca1d836c40c",
     "locked": true,
     "points": 1,
     "schema_version": 3,
     "solution": false,
     "task": false
    }
   },
   "outputs": [],
   "source": [
    "from hashlib import shake_128\n",
    "def public_string_test(the_answer_string, reference):\n",
    "    m = shake_128()\n",
    "    m.update(the_answer_string.encode())\n",
    "    return m.hexdigest(4) == reference\n",
    "assert public_string_test(\"A=\"+dimension_of_A.strip().lower(), '6bdfd84e'), \"Oh no, your answer is wrong!\""
   ]
  },
  {
   "cell_type": "code",
   "execution_count": 5,
   "metadata": {
    "deletable": false,
    "editable": false,
    "nbgrader": {
     "cell_type": "code",
     "checksum": "080a683528287ac267a85367e7fc6c2a",
     "grade": false,
     "grade_id": "cell-23f58a173d2c8e22",
     "locked": true,
     "schema_version": 3,
     "solution": false,
     "task": false
    }
   },
   "outputs": [
    {
     "data": {
      "text/html": [
       "\n",
       "        <iframe\n",
       "            width=\"560\"\n",
       "            height=\"315\"\n",
       "            src=\"//av.tib.eu/player/49005\"\n",
       "            frameborder=\"0\"\n",
       "            allowfullscreen\n",
       "        ></iframe>\n",
       "        "
      ],
      "text/plain": [
       "<IPython.lib.display.IFrame at 0x7f653c2b7290>"
      ]
     },
     "execution_count": 5,
     "metadata": {},
     "output_type": "execute_result"
    }
   ],
   "source": [
    "# If you don't see a video below, run this cell.\n",
    "from IPython.display import IFrame\n",
    "IFrame(\"https://www.youtube.com/embed/VlvaZtABDoo\" if \"YouTube\" in globals() else \"//av.tib.eu/player/49005\",\n",
    "       width=560, height=315)"
   ]
  },
  {
   "cell_type": "code",
   "execution_count": 11,
   "metadata": {
    "deletable": false,
    "nbgrader": {
     "cell_type": "code",
     "checksum": "9601cfc687bb426dc3cb94493b5e33b8",
     "grade": false,
     "grade_id": "cell-635335df1bc9e6a4",
     "locked": false,
     "schema_version": 3,
     "solution": true,
     "task": false
    }
   },
   "outputs": [],
   "source": [
    "# What is the dimension of B? Write this as a string, e.g. \"1x2\" for \"one row times 2 columns\".\n",
    "dimension_of_B = \"3x2\"\n",
    "# YOUR CODE HERE\n",
    "#raise NotImplementedError()"
   ]
  },
  {
   "cell_type": "code",
   "execution_count": 13,
   "metadata": {
    "deletable": false,
    "editable": false,
    "nbgrader": {
     "cell_type": "code",
     "checksum": "1645d4331292b164ff04480387017bba",
     "grade": true,
     "grade_id": "cell-4318d3278d4a4a71",
     "locked": true,
     "points": 1,
     "schema_version": 3,
     "solution": false,
     "task": false
    }
   },
   "outputs": [],
   "source": [
    "from hashlib import shake_128\n",
    "def public_string_test(the_answer_string, reference):\n",
    "    m = shake_128()\n",
    "    m.update(the_answer_string.encode())\n",
    "    return m.hexdigest(4) == reference\n",
    "assert public_string_test(\"B=\"+dimension_of_B.strip().lower(), 'eaa7d686'), \"Oh no, your answer is wrong!\""
   ]
  },
  {
   "cell_type": "code",
   "execution_count": 14,
   "metadata": {
    "deletable": false,
    "editable": false,
    "nbgrader": {
     "cell_type": "code",
     "checksum": "db7f6c6e6adcbae498d26e39b678b422",
     "grade": false,
     "grade_id": "cell-e449deda2f5f666f",
     "locked": true,
     "schema_version": 3,
     "solution": false,
     "task": false
    }
   },
   "outputs": [
    {
     "data": {
      "text/html": [
       "\n",
       "        <iframe\n",
       "            width=\"560\"\n",
       "            height=\"315\"\n",
       "            src=\"//av.tib.eu/player/49006\"\n",
       "            frameborder=\"0\"\n",
       "            allowfullscreen\n",
       "        ></iframe>\n",
       "        "
      ],
      "text/plain": [
       "<IPython.lib.display.IFrame at 0x7f5f744da550>"
      ]
     },
     "execution_count": 14,
     "metadata": {},
     "output_type": "execute_result"
    }
   ],
   "source": [
    "# If you don't see a video below, run this cell.\n",
    "from IPython.display import IFrame\n",
    "IFrame(\"https://www.youtube.com/embed/lMLKk7knWxk\" if \"YouTube\" in globals() else \"//av.tib.eu/player/49006\",\n",
    "       width=560, height=315)"
   ]
  },
  {
   "cell_type": "code",
   "execution_count": 18,
   "metadata": {
    "deletable": false,
    "nbgrader": {
     "cell_type": "code",
     "checksum": "a37943a416e4f421adb9016588695195",
     "grade": false,
     "grade_id": "cell-cedfe497ba2146a3",
     "locked": false,
     "schema_version": 3,
     "solution": true,
     "task": false
    }
   },
   "outputs": [],
   "source": [
    "# What is the dimension of C? Write this as a string, e.g. \"1x2\" for \"one row times 2 columns\".\n",
    "dimension_of_C = \"2x3\"\n",
    "# YOUR CODE HERE\n",
    "#raise NotImplementedError()"
   ]
  },
  {
   "cell_type": "code",
   "execution_count": 19,
   "metadata": {
    "deletable": false,
    "editable": false,
    "nbgrader": {
     "cell_type": "code",
     "checksum": "e211b7797116dd4af74127014054cf43",
     "grade": true,
     "grade_id": "cell-53c690fd5eb4c87a",
     "locked": true,
     "points": 1,
     "schema_version": 3,
     "solution": false,
     "task": false
    }
   },
   "outputs": [],
   "source": [
    "from hashlib import shake_128\n",
    "def public_string_test(the_answer_string, reference):\n",
    "    m = shake_128()\n",
    "    m.update(the_answer_string.encode())\n",
    "    return m.hexdigest(4) == reference\n",
    "assert public_string_test(\"C=\"+dimension_of_C.strip().lower(), '3acb778a'), \"Oh no, your answer is wrong!\""
   ]
  },
  {
   "cell_type": "code",
   "execution_count": 7,
   "metadata": {
    "deletable": false,
    "editable": false,
    "nbgrader": {
     "cell_type": "code",
     "checksum": "d08eec48fd4477d0c67835236476e1cc",
     "grade": false,
     "grade_id": "cell-1665c4a4e77f64bb",
     "locked": true,
     "schema_version": 3,
     "solution": false,
     "task": false
    }
   },
   "outputs": [
    {
     "data": {
      "text/html": [
       "\n",
       "        <iframe\n",
       "            width=\"560\"\n",
       "            height=\"315\"\n",
       "            src=\"//av.tib.eu/player/49007\"\n",
       "            frameborder=\"0\"\n",
       "            allowfullscreen\n",
       "        ></iframe>\n",
       "        "
      ],
      "text/plain": [
       "<IPython.lib.display.IFrame at 0x7f653c2b7bd0>"
      ]
     },
     "execution_count": 7,
     "metadata": {},
     "output_type": "execute_result"
    }
   ],
   "source": [
    "# If you don't see a video below, run this cell.\n",
    "from IPython.display import IFrame\n",
    "IFrame(\"https://www.youtube.com/embed/g6qqfyN-7Ec\" if \"YouTube\" in globals() else \"//av.tib.eu/player/49007\",\n",
    "       width=560, height=315)"
   ]
  },
  {
   "cell_type": "code",
   "execution_count": 24,
   "metadata": {
    "deletable": false,
    "nbgrader": {
     "cell_type": "code",
     "checksum": "2bab264184aa69ffa8ae56277be6a625",
     "grade": false,
     "grade_id": "cell-91a949be84e42c18",
     "locked": false,
     "schema_version": 3,
     "solution": true,
     "task": false
    }
   },
   "outputs": [],
   "source": [
    "# What is the dimension of R? Write this as a string, e.g. \"1x2\" for \"one row times 2 columns\".\n",
    "dimension_of_R = \"3x3\"\n",
    "# YOUR CODE HERE\n",
    "#raise NotImplementedError()"
   ]
  },
  {
   "cell_type": "code",
   "execution_count": 26,
   "metadata": {
    "deletable": false,
    "editable": false,
    "nbgrader": {
     "cell_type": "code",
     "checksum": "4f813495b95d1decd8cebfa8d613c7e6",
     "grade": true,
     "grade_id": "cell-990020f117f931b5",
     "locked": true,
     "points": 1,
     "schema_version": 3,
     "solution": false,
     "task": false
    }
   },
   "outputs": [],
   "source": [
    "from hashlib import shake_128\n",
    "def public_string_test(the_answer_string, reference):\n",
    "    m = shake_128()\n",
    "    m.update(the_answer_string.encode())\n",
    "    return m.hexdigest(4) == reference\n",
    "assert public_string_test(\"R=\"+dimension_of_R.strip().lower(), 'fdbe5ee1'), \"Oh no, your answer is wrong!\""
   ]
  },
  {
   "cell_type": "code",
   "execution_count": 8,
   "metadata": {
    "deletable": false,
    "editable": false,
    "nbgrader": {
     "cell_type": "code",
     "checksum": "e3a0186602f14238b72bee9b58e46c03",
     "grade": false,
     "grade_id": "cell-da3fc96e8ff4fac5",
     "locked": true,
     "schema_version": 3,
     "solution": false,
     "task": false
    }
   },
   "outputs": [
    {
     "data": {
      "text/html": [
       "\n",
       "        <iframe\n",
       "            width=\"560\"\n",
       "            height=\"315\"\n",
       "            src=\"//av.tib.eu/player/49008\"\n",
       "            frameborder=\"0\"\n",
       "            allowfullscreen\n",
       "        ></iframe>\n",
       "        "
      ],
      "text/plain": [
       "<IPython.lib.display.IFrame at 0x7f653c2b7fd0>"
      ]
     },
     "execution_count": 8,
     "metadata": {},
     "output_type": "execute_result"
    }
   ],
   "source": [
    "# If you don't see a video below, run this cell.\n",
    "from IPython.display import IFrame\n",
    "IFrame(\"https://www.youtube.com/embed/J0WqOvCSqA0\" if \"YouTube\" in globals() else \"//av.tib.eu/player/49008\",\n",
    "       width=560, height=315)"
   ]
  },
  {
   "cell_type": "code",
   "execution_count": 30,
   "metadata": {
    "deletable": false,
    "nbgrader": {
     "cell_type": "code",
     "checksum": "23915dd167b58b672dec9da64b38a002",
     "grade": false,
     "grade_id": "cell-0872e943b8b94930",
     "locked": false,
     "schema_version": 3,
     "solution": true,
     "task": false
    }
   },
   "outputs": [],
   "source": [
    "# What is the dimension of Q? Write this as a string, e.g. \"1x2\" for \"one row times 2 columns\".\n",
    "dimension_of_Q = \"2x2\"\n",
    "# YOUR CODE HERE\n",
    "#raise NotImplementedError()"
   ]
  },
  {
   "cell_type": "code",
   "execution_count": 29,
   "metadata": {
    "deletable": false,
    "editable": false,
    "nbgrader": {
     "cell_type": "code",
     "checksum": "1000e50ba6b176150c8532628a9847d2",
     "grade": true,
     "grade_id": "cell-341b488f41e403b2",
     "locked": true,
     "points": 1,
     "schema_version": 3,
     "solution": false,
     "task": false
    }
   },
   "outputs": [],
   "source": [
    "from hashlib import shake_128\n",
    "def public_string_test(the_answer_string, reference):\n",
    "    m = shake_128()\n",
    "    m.update(the_answer_string.encode())\n",
    "    return m.hexdigest(4) == reference\n",
    "assert public_string_test(\"Q=\"+dimension_of_Q.strip().lower(), 'e80a899c'), \"Oh no, your answer is wrong!\""
   ]
  },
  {
   "cell_type": "code",
   "execution_count": 31,
   "metadata": {
    "deletable": false,
    "editable": false,
    "nbgrader": {
     "cell_type": "code",
     "checksum": "26c304560217e923db750f91013a8d36",
     "grade": false,
     "grade_id": "cell-1724affc6923a239",
     "locked": true,
     "schema_version": 3,
     "solution": false,
     "task": false
    }
   },
   "outputs": [
    {
     "data": {
      "text/html": [
       "\n",
       "        <iframe\n",
       "            width=\"560\"\n",
       "            height=\"315\"\n",
       "            src=\"//av.tib.eu/player/49009\"\n",
       "            frameborder=\"0\"\n",
       "            allowfullscreen\n",
       "        ></iframe>\n",
       "        "
      ],
      "text/plain": [
       "<IPython.lib.display.IFrame at 0x7f5f76633b50>"
      ]
     },
     "execution_count": 31,
     "metadata": {},
     "output_type": "execute_result"
    }
   ],
   "source": [
    "# If you don't see a video below, run this cell.\n",
    "from IPython.display import IFrame\n",
    "IFrame(\"https://www.youtube.com/embed/gdSEp58hOeo\" if \"YouTube\" in globals() else \"//av.tib.eu/player/49009\",\n",
    "       width=560, height=315)"
   ]
  },
  {
   "cell_type": "code",
   "execution_count": 34,
   "metadata": {
    "deletable": false,
    "nbgrader": {
     "cell_type": "code",
     "checksum": "7f8d4e1248a02b8972b1d351a6a49d5f",
     "grade": false,
     "grade_id": "cell-4d384394d0289850",
     "locked": false,
     "schema_version": 3,
     "solution": true,
     "task": false
    }
   },
   "outputs": [],
   "source": [
    "# What is the dimension of sigma? Write this as a string, e.g. \"1x2\" for \"one row times 2 columns\".\n",
    "dimension_of_sigma = \"3x3\"\n",
    "# YOUR CODE HERE\n",
    "#raise NotImplementedError()"
   ]
  },
  {
   "cell_type": "code",
   "execution_count": 36,
   "metadata": {
    "deletable": false,
    "editable": false,
    "nbgrader": {
     "cell_type": "code",
     "checksum": "4a9078586a05ffe4970a654c28ee987b",
     "grade": true,
     "grade_id": "cell-603ae65ce6ce6090",
     "locked": true,
     "points": 1,
     "schema_version": 3,
     "solution": false,
     "task": false
    }
   },
   "outputs": [],
   "source": [
    "from hashlib import shake_128\n",
    "def public_string_test(the_answer_string, reference):\n",
    "    m = shake_128()\n",
    "    m.update(the_answer_string.encode())\n",
    "    return m.hexdigest(4) == reference\n",
    "assert public_string_test(\"sigma=\"+dimension_of_sigma.strip().lower(), '51b2f844'), \"Oh no, your answer is wrong!\""
   ]
  },
  {
   "cell_type": "code",
   "execution_count": 9,
   "metadata": {
    "deletable": false,
    "editable": false,
    "nbgrader": {
     "cell_type": "code",
     "checksum": "669e505f8bdb22b3fb68b3dc6b1c3d10",
     "grade": false,
     "grade_id": "cell-46f0cd12942462be",
     "locked": true,
     "schema_version": 3,
     "solution": false,
     "task": false
    }
   },
   "outputs": [
    {
     "data": {
      "text/html": [
       "\n",
       "        <iframe\n",
       "            width=\"560\"\n",
       "            height=\"315\"\n",
       "            src=\"//av.tib.eu/player/49010\"\n",
       "            frameborder=\"0\"\n",
       "            allowfullscreen\n",
       "        ></iframe>\n",
       "        "
      ],
      "text/plain": [
       "<IPython.lib.display.IFrame at 0x7f653c248490>"
      ]
     },
     "execution_count": 9,
     "metadata": {},
     "output_type": "execute_result"
    }
   ],
   "source": [
    "# If you don't see a video below, run this cell.\n",
    "from IPython.display import IFrame\n",
    "IFrame(\"https://www.youtube.com/embed/QBcdaPfCXW8\" if \"YouTube\" in globals() else \"//av.tib.eu/player/49010\",\n",
    "       width=560, height=315)"
   ]
  },
  {
   "cell_type": "code",
   "execution_count": null,
   "metadata": {
    "deletable": false,
    "nbgrader": {
     "cell_type": "code",
     "checksum": "9d4e8d94fa0ac49f93f63314e53d9a8c",
     "grade": false,
     "grade_id": "cell-0ab1d947df889e25",
     "locked": false,
     "schema_version": 3,
     "solution": true,
     "task": false
    }
   },
   "outputs": [],
   "source": [
    "# What is the dimension of K? Write this as a string, e.g. \"1x2\" for \"one row times 2 columns\".\n",
    "dimension_of_K = \"1x2\"\n",
    "# YOUR CODE HERE\n",
    "raise NotImplementedError()"
   ]
  },
  {
   "cell_type": "code",
   "execution_count": null,
   "metadata": {
    "deletable": false,
    "editable": false,
    "nbgrader": {
     "cell_type": "code",
     "checksum": "97374bc0e801c65aaac654f466b0198f",
     "grade": true,
     "grade_id": "cell-2a77a9fdd1195e2a",
     "locked": true,
     "points": 1,
     "schema_version": 3,
     "solution": false,
     "task": false
    }
   },
   "outputs": [],
   "source": [
    "from hashlib import shake_128\n",
    "def public_string_test(the_answer_string, reference):\n",
    "    m = shake_128()\n",
    "    m.update(the_answer_string.encode())\n",
    "    return m.hexdigest(4)== reference\n",
    "assert public_string_test(\"K=\"+dimension_of_K.strip().lower(), '6854ccec'), \"Oh no, your answer is wrong!\""
   ]
  }
 ],
 "metadata": {
  "copyright": "(c) Claus Brenner 2020",
  "kernelspec": {
   "display_name": "Python 3",
   "language": "python",
   "name": "python3"
  },
  "language_info": {
   "codemirror_mode": {
    "name": "ipython",
    "version": 3
   },
   "file_extension": ".py",
   "mimetype": "text/x-python",
   "name": "python",
   "nbconvert_exporter": "python",
   "pygments_lexer": "ipython3",
   "version": "3.7.8"
  }
 },
 "nbformat": 4,
 "nbformat_minor": 4
}
