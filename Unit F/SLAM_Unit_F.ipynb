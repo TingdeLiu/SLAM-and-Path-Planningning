{
 "cells": [
  {
   "cell_type": "markdown",
   "metadata": {
    "deletable": false,
    "editable": false,
    "nbgrader": {
     "cell_type": "markdown",
     "checksum": "67abd7c00fc3160a45704e6122c59265",
     "grade": false,
     "grade_id": "cell-b5c3515865e51b37",
     "locked": true,
     "schema_version": 3,
     "solution": false,
     "task": false
    }
   },
   "source": [
    "# SLAM Unit F\n",
    "Finally, we will look at *SLAM!* Up to now, we assumed the map being given. In this unit, we will build the map and localize ourselves simultaneously.\n",
    "\n",
    "## From localization to SLAM"
   ]
  },
  {
   "cell_type": "code",
   "execution_count": 90,
   "metadata": {},
   "outputs": [
    {
     "data": {
      "text/html": [
       "\n",
       "        <iframe\n",
       "            width=\"560\"\n",
       "            height=\"315\"\n",
       "            src=\"//av.tib.eu/player/49024\"\n",
       "            frameborder=\"0\"\n",
       "            allowfullscreen\n",
       "        ></iframe>\n",
       "        "
      ],
      "text/plain": [
       "<IPython.lib.display.IFrame at 0x7ffa20fa1dd0>"
      ]
     },
     "execution_count": 90,
     "metadata": {},
     "output_type": "execute_result"
    }
   ],
   "source": [
    "# If you don't see a video below, run this cell.\n",
    "# YouTube = True  # Uncomment to get YouTube videos instead of TIB AV.\n",
    "from IPython.display import IFrame\n",
    "IFrame(\"https://www.youtube.com/embed/NWxVKxZQBFs\" if \"YouTube\" in globals() else \"//av.tib.eu/player/49024\",\n",
    "       width=560, height=315)"
   ]
  },
  {
   "cell_type": "code",
   "execution_count": 91,
   "metadata": {
    "deletable": false,
    "nbgrader": {
     "cell_type": "code",
     "checksum": "4554a4df0be0687a90a262c981de6783",
     "grade": false,
     "grade_id": "cell-101d254215a35cd7",
     "locked": false,
     "schema_version": 3,
     "solution": true,
     "task": false
    }
   },
   "outputs": [],
   "source": [
    "# Will the landmark position error approach zero if the number\n",
    "# of observations goes to infinity? Answer \"Yes\" or \"No\".\n",
    "error_goes_to_zero = \"No\"\n",
    "# YOUR CODE HERE\n",
    "#raise NotImplementedError()"
   ]
  },
  {
   "cell_type": "code",
   "execution_count": 92,
   "metadata": {
    "deletable": false,
    "editable": false,
    "nbgrader": {
     "cell_type": "code",
     "checksum": "d308538b625ff01a31308b58805cfb8c",
     "grade": true,
     "grade_id": "cell-7c2b5bd75915b6df",
     "locked": true,
     "points": 2,
     "schema_version": 3,
     "solution": false,
     "task": false
    }
   },
   "outputs": [],
   "source": [
    "from hashlib import shake_128\n",
    "def public_string_test(the_answer_string, reference):\n",
    "    m = shake_128()\n",
    "    m.update(the_answer_string.encode())\n",
    "    return m.hexdigest(4) == reference\n",
    "assert public_string_test(\"well,\"+error_goes_to_zero.strip().lower(), '75c69246'), \"Oh no, your answer is wrong!\""
   ]
  },
  {
   "cell_type": "code",
   "execution_count": 93,
   "metadata": {
    "deletable": false,
    "editable": false,
    "nbgrader": {
     "cell_type": "code",
     "checksum": "0b9f3070869ca32bed1d0da584e33f16",
     "grade": false,
     "grade_id": "cell-79ef22c3a8a07a94",
     "locked": true,
     "schema_version": 3,
     "solution": false,
     "task": false
    }
   },
   "outputs": [
    {
     "data": {
      "text/html": [
       "\n",
       "        <iframe\n",
       "            width=\"560\"\n",
       "            height=\"315\"\n",
       "            src=\"//av.tib.eu/player/49025\"\n",
       "            frameborder=\"0\"\n",
       "            allowfullscreen\n",
       "        ></iframe>\n",
       "        "
      ],
      "text/plain": [
       "<IPython.lib.display.IFrame at 0x7ffa20fa7490>"
      ]
     },
     "execution_count": 93,
     "metadata": {},
     "output_type": "execute_result"
    }
   ],
   "source": [
    "# If you don't see a video below, run this cell.\n",
    "from IPython.display import IFrame\n",
    "IFrame(\"https://www.youtube.com/embed/lzjP9t_UPV8\" if \"YouTube\" in globals() else \"//av.tib.eu/player/49025\",\n",
    "       width=560, height=315)"
   ]
  },
  {
   "cell_type": "code",
   "execution_count": 94,
   "metadata": {
    "deletable": false,
    "nbgrader": {
     "cell_type": "code",
     "checksum": "130fd6a0cfd46a0930048a263bcb3710",
     "grade": false,
     "grade_id": "cell-e8407e364f1347af",
     "locked": false,
     "schema_version": 3,
     "solution": true,
     "task": false
    }
   },
   "outputs": [],
   "source": [
    "# For the online SLAM, how many variables are in our system state?\n",
    "online_variables = \"103\"\n",
    "# YOUR CODE HERE\n",
    "#raise NotImplementedError()"
   ]
  },
  {
   "cell_type": "code",
   "execution_count": 95,
   "metadata": {
    "deletable": false,
    "editable": false,
    "nbgrader": {
     "cell_type": "code",
     "checksum": "eb913d173bc9c28065c40ac7deac2dad",
     "grade": true,
     "grade_id": "cell-b6272ec33fec8b2b",
     "locked": true,
     "points": 2,
     "schema_version": 3,
     "solution": false,
     "task": false
    }
   },
   "outputs": [],
   "source": [
    "from hashlib import shake_128\n",
    "def public_string_test(the_answer_string, reference):\n",
    "    m = shake_128()\n",
    "    m.update(the_answer_string.encode())\n",
    "    return m.hexdigest(4) == reference\n",
    "assert public_string_test(online_variables.strip().lower(), '659067d9'), \"Oh no, your answer is wrong!\""
   ]
  },
  {
   "cell_type": "code",
   "execution_count": 96,
   "metadata": {
    "deletable": false,
    "editable": false,
    "nbgrader": {
     "cell_type": "code",
     "checksum": "87b27c7aebe52bd94aafd71d0e20fad8",
     "grade": false,
     "grade_id": "cell-17081003d6d6e73d",
     "locked": true,
     "schema_version": 3,
     "solution": false,
     "task": false
    }
   },
   "outputs": [
    {
     "data": {
      "text/html": [
       "\n",
       "        <iframe\n",
       "            width=\"560\"\n",
       "            height=\"315\"\n",
       "            src=\"//av.tib.eu/player/49026\"\n",
       "            frameborder=\"0\"\n",
       "            allowfullscreen\n",
       "        ></iframe>\n",
       "        "
      ],
      "text/plain": [
       "<IPython.lib.display.IFrame at 0x7ffa21967190>"
      ]
     },
     "execution_count": 96,
     "metadata": {},
     "output_type": "execute_result"
    }
   ],
   "source": [
    "# If you don't see a video below, run this cell.\n",
    "from IPython.display import IFrame\n",
    "IFrame(\"https://www.youtube.com/embed/wniJgJG0vNE\" if \"YouTube\" in globals() else \"//av.tib.eu/player/49026\",\n",
    "       width=560, height=315)"
   ]
  },
  {
   "cell_type": "code",
   "execution_count": 97,
   "metadata": {
    "deletable": false,
    "nbgrader": {
     "cell_type": "code",
     "checksum": "0758052bc3f9d79e101fc9d5d6185e94",
     "grade": false,
     "grade_id": "cell-b8e727f9dd22f17e",
     "locked": false,
     "schema_version": 3,
     "solution": true,
     "task": false
    }
   },
   "outputs": [],
   "source": [
    "# For the full SLAM, how many variables are in our system state?\n",
    "fullstate_variables = \"700\"\n",
    "# YOUR CODE HERE\n",
    "#raise NotImplementedError()"
   ]
  },
  {
   "cell_type": "code",
   "execution_count": 98,
   "metadata": {
    "deletable": false,
    "editable": false,
    "nbgrader": {
     "cell_type": "code",
     "checksum": "481962361bd978ff3f31a8be57437ab2",
     "grade": true,
     "grade_id": "cell-ce8bd4395f137605",
     "locked": true,
     "points": 2,
     "schema_version": 3,
     "solution": false,
     "task": false
    }
   },
   "outputs": [],
   "source": [
    "from hashlib import shake_128\n",
    "def public_string_test(the_answer_string, reference):\n",
    "    m = shake_128()\n",
    "    m.update(the_answer_string.encode())\n",
    "    return m.hexdigest(4) == reference\n",
    "assert public_string_test(fullstate_variables.strip().lower(), 'a78cbae5'), \"Oh no, your answer is wrong!\""
   ]
  },
  {
   "cell_type": "markdown",
   "metadata": {
    "deletable": false,
    "editable": false,
    "nbgrader": {
     "cell_type": "markdown",
     "checksum": "0cc3664d06fae3dd4605bfcbfe94e8c8",
     "grade": false,
     "grade_id": "cell-a5ed36c1e7a1f194",
     "locked": true,
     "schema_version": 3,
     "solution": false,
     "task": false
    }
   },
   "source": [
    "## The EKF SLAM prediction step"
   ]
  },
  {
   "cell_type": "code",
   "execution_count": 99,
   "metadata": {
    "deletable": false,
    "editable": false,
    "nbgrader": {
     "cell_type": "code",
     "checksum": "a48c7a21e3778fda63ba486849e81c00",
     "grade": false,
     "grade_id": "cell-709539fee90af5f0",
     "locked": true,
     "schema_version": 3,
     "solution": false,
     "task": false
    }
   },
   "outputs": [
    {
     "data": {
      "text/html": [
       "\n",
       "        <iframe\n",
       "            width=\"560\"\n",
       "            height=\"315\"\n",
       "            src=\"//av.tib.eu/player/49027\"\n",
       "            frameborder=\"0\"\n",
       "            allowfullscreen\n",
       "        ></iframe>\n",
       "        "
      ],
      "text/plain": [
       "<IPython.lib.display.IFrame at 0x7ffa21967d10>"
      ]
     },
     "execution_count": 99,
     "metadata": {},
     "output_type": "execute_result"
    }
   ],
   "source": [
    "# If you don't see a video below, run this cell.\n",
    "from IPython.display import IFrame\n",
    "IFrame(\"https://www.youtube.com/embed/o9b9Lz80xvw\" if \"YouTube\" in globals() else \"//av.tib.eu/player/49027\",\n",
    "       width=560, height=315)"
   ]
  },
  {
   "cell_type": "markdown",
   "metadata": {
    "deletable": false,
    "editable": false,
    "nbgrader": {
     "cell_type": "markdown",
     "checksum": "a317b3e00e4788159800397df3db0649",
     "grade": false,
     "grade_id": "cell-cc3f7c0fd1925d93",
     "locked": true,
     "schema_version": 3,
     "solution": false,
     "task": false
    }
   },
   "source": [
    "### Programming assignment: program the prediction step (15 Points)."
   ]
  },
  {
   "cell_type": "code",
   "execution_count": 100,
   "metadata": {
    "deletable": false,
    "nbgrader": {
     "cell_type": "code",
     "checksum": "1cf6c39a4a7d8657bf359ade607c3309",
     "grade": false,
     "grade_id": "cell-f7f1cd0e39d54861",
     "locked": false,
     "schema_version": 3,
     "solution": true,
     "task": false
    }
   },
   "outputs": [],
   "source": [
    "# EKF SLAM - prediction step.\n",
    "# slam_09_a_slam_prediction\n",
    "from lego_robot import *\n",
    "from math import sin, cos, pi, atan2, sqrt\n",
    "from numpy import *\n",
    "\n",
    "class ExtendedKalmanFilterSLAM_1:\n",
    "    def __init__(self, state, covariance,\n",
    "                 robot_width, scanner_displacement,\n",
    "                 control_motion_factor, control_turn_factor):\n",
    "        # The state. This is the core data of the Kalman filter.\n",
    "        self.state = state\n",
    "        self.covariance = covariance\n",
    "\n",
    "        # Some constants.\n",
    "        self.robot_width = robot_width\n",
    "        self.scanner_displacement = scanner_displacement\n",
    "        self.control_motion_factor = control_motion_factor\n",
    "        self.control_turn_factor = control_turn_factor\n",
    "\n",
    "        # Currently, the number of landmarks is zero.\n",
    "        self.number_of_landmarks = 0\n",
    "\n",
    "    @staticmethod\n",
    "    def g(state, control, w):\n",
    "        x, y, theta = state\n",
    "        l, r = control\n",
    "        if r != l:\n",
    "            alpha = (r - l) / w\n",
    "            rad = l/alpha\n",
    "            g1 = x + (rad + w/2.)*(sin(theta+alpha) - sin(theta))\n",
    "            g2 = y + (rad + w/2.)*(-cos(theta+alpha) + cos(theta))\n",
    "            g3 = (theta + alpha + pi) % (2*pi) - pi\n",
    "        else:\n",
    "            g1 = x + l * cos(theta)\n",
    "            g2 = y + l * sin(theta)\n",
    "            g3 = theta\n",
    "\n",
    "        return array([g1, g2, g3])\n",
    "\n",
    "    @staticmethod\n",
    "    def dg_dstate(state, control, w):\n",
    "        theta = state[2]\n",
    "        l, r = control\n",
    "        if r != l:\n",
    "            alpha = (r-l)/w\n",
    "            theta_ = theta + alpha\n",
    "            rpw2 = l/alpha + w/2.0\n",
    "            m = array([[1.0, 0.0, rpw2*(cos(theta_) - cos(theta))],\n",
    "                       [0.0, 1.0, rpw2*(sin(theta_) - sin(theta))],\n",
    "                       [0.0, 0.0, 1.0]])\n",
    "        else:\n",
    "            m = array([[1.0, 0.0, -l*sin(theta)],\n",
    "                       [0.0, 1.0,  l*cos(theta)],\n",
    "                       [0.0, 0.0,  1.0]])\n",
    "        return m\n",
    "\n",
    "    @staticmethod\n",
    "    def dg_dcontrol(state, control, w):\n",
    "        theta = state[2]\n",
    "        l, r = tuple(control)\n",
    "        if r != l:\n",
    "            rml = r - l\n",
    "            rml2 = rml * rml\n",
    "            theta_ = theta + rml/w\n",
    "            dg1dl = w*r/rml2*(sin(theta_)-sin(theta))  - (r+l)/(2*rml)*cos(theta_)\n",
    "            dg2dl = w*r/rml2*(-cos(theta_)+cos(theta)) - (r+l)/(2*rml)*sin(theta_)\n",
    "            dg1dr = (-w*l)/rml2*(sin(theta_)-sin(theta)) + (r+l)/(2*rml)*cos(theta_)\n",
    "            dg2dr = (-w*l)/rml2*(-cos(theta_)+cos(theta)) + (r+l)/(2*rml)*sin(theta_)\n",
    "            \n",
    "        else:\n",
    "            dg1dl = 0.5*(cos(theta) + l/w*sin(theta))\n",
    "            dg2dl = 0.5*(sin(theta) - l/w*cos(theta))\n",
    "            dg1dr = 0.5*(-l/w*sin(theta) + cos(theta))\n",
    "            dg2dr = 0.5*(l/w*cos(theta) + sin(theta))\n",
    "\n",
    "        dg3dl = -1.0/w\n",
    "        dg3dr = 1.0/w\n",
    "        m = array([[dg1dl, dg1dr], [dg2dl, dg2dr], [dg3dl, dg3dr]])\n",
    "            \n",
    "        return m\n",
    "\n",
    "    def predict(self, control):\n",
    "        \"\"\"The prediction step of the Kalman filter.\"\"\"\n",
    "        # covariance' = G * covariance * GT + R\n",
    "        # where R = V * (covariance in control space) * VT.\n",
    "        # Covariance in control space depends on move distance.\n",
    "        G3 = self.dg_dstate(self.state, control, self.robot_width)\n",
    "        left, right = control\n",
    "        left_var = (self.control_motion_factor * left)**2 +\\\n",
    "                   (self.control_turn_factor * (left-right))**2\n",
    "        right_var = (self.control_motion_factor * right)**2 +\\\n",
    "                    (self.control_turn_factor * (left-right))**2\n",
    "        control_covariance = diag([left_var, right_var])\n",
    "        V = self.dg_dcontrol(self.state, control, self.robot_width)\n",
    "        R3 = dot(V, dot(control_covariance, V.T))\n",
    "\n",
    "        # Hints:\n",
    "        # - The number of landmarks is self.number_of_landmarks.\n",
    "        # - eye(n) is the numpy function which returns a n x n identity matrix.\n",
    "        # - zeros((n,n)) returns a n x n matrix which is all zero.\n",
    "        # - If M is a matrix, M[0:2,1:5] returns the submatrix which consists\n",
    "        #   of the rows 0 and 1 (but not 2) and the columns 1, 2, 3, 4.\n",
    "        #   This submatrix operator can be used on either side of an assignment.\n",
    "        # - Similarly for vectors: v[1:3] returns the vector consisting of the\n",
    "        #   elements 1 and 2, but not 3.\n",
    "        # - All matrix and vector indices start at 0.\n",
    "\n",
    "        # Now enlarge G3 (getting G) and R3 (getting R) to accomodate all\n",
    "        # landmarks. Then, compute the new covariance matrix and the new state\n",
    "        # and assign them to the class using something like:\n",
    "        #    self.covariance = ...\n",
    "        #    self.state = ...\n",
    "\n",
    "        # YOUR CODE HERE\n",
    "        #raise NotImplementedError()\n",
    "        \n",
    "        n = 3 + 2 * self.number_of_landmarks\n",
    "        G = eye(n)\n",
    "        G[0:3,0:3] = G3\n",
    "        \n",
    "        R = zeros((n, n))\n",
    "        R[0:3,0:3] = R3\n",
    "        \n",
    "        self.covariance = dot(G, dot(self.covariance, G.T)) + R  \n",
    "        self.state[0:3] = self.g(self.state[0:3], control, self.robot_width)  \n",
    "\n",
    "    @staticmethod\n",
    "    def get_error_ellipse(covariance):\n",
    "        \"\"\"Return the position covariance (which is the upper 2x2 submatrix)\n",
    "           as a triple: (main_axis_angle, stddev_1, stddev_2), where\n",
    "           main_axis_angle is the angle (pointing direction) of the main axis,\n",
    "           along which the standard deviation is stddev_1, and stddev_2 is the\n",
    "           standard deviation along the other (orthogonal) axis.\"\"\"\n",
    "        eigenvals, eigenvects = linalg.eig(covariance[0:2,0:2])\n",
    "        angle = atan2(eigenvects[1,0], eigenvects[0,0])\n",
    "        return (angle, sqrt(eigenvals[0]), sqrt(eigenvals[1]))        \n",
    "\n",
    "\n",
    "if __name__ == '__main__':\n",
    "    # Robot constants.\n",
    "    scanner_displacement = 30.0\n",
    "    ticks_to_mm = 0.349\n",
    "    robot_width = 155.0\n",
    "\n",
    "    # Filter constants.\n",
    "    control_motion_factor = 0.35  # Error in motor control.\n",
    "    control_turn_factor = 0.6  # Additional error due to slip when turning.\n",
    "\n",
    "    # Arbitrary start position.\n",
    "    initial_state = array([500.0, 0.0, 45.0 / 180.0 * pi])\n",
    "\n",
    "    # Covariance at start position.\n",
    "    initial_covariance = zeros((3,3))\n",
    "\n",
    "    # Setup filter.\n",
    "    kf = ExtendedKalmanFilterSLAM_1(initial_state, initial_covariance,\n",
    "                                    robot_width, scanner_displacement,\n",
    "                                    control_motion_factor, control_turn_factor)\n",
    "\n",
    "    # Read data.\n",
    "    logfile = LegoLogfile()\n",
    "    logfile.read(\"robot4_motors.txt\")\n",
    "\n",
    "    # Loop over all motor tick records and all measurements and generate\n",
    "    # filtered positions and covariances.\n",
    "    # This is the EKF SLAM loop.\n",
    "    f = open(\"ekf_slam_prediction.txt\", \"w\")\n",
    "    for i in range(len(logfile.motor_ticks)):\n",
    "        # Prediction.\n",
    "        control = array(logfile.motor_ticks[i]) * ticks_to_mm\n",
    "        kf.predict(control)\n",
    "\n",
    "        # End of EKF SLAM - from here on, data is written.\n",
    "\n",
    "        # Output the center of the scanner, not the center of the robot.\n",
    "        print(\"F %f %f %f\" % \\\n",
    "            tuple(kf.state[0:3] + [scanner_displacement * cos(kf.state[2]),\n",
    "                                   scanner_displacement * sin(kf.state[2]),\n",
    "                                   0.0]), file=f)\n",
    "        # Write covariance matrix in angle stddev1 stddev2 stddev-heading form\n",
    "        e = kf.get_error_ellipse(kf.covariance)\n",
    "        print(\"E %f %f %f %f\" % (e + (sqrt(kf.covariance[2,2]),)), file=f)\n",
    "\n",
    "    f.close()"
   ]
  },
  {
   "cell_type": "markdown",
   "metadata": {
    "deletable": false,
    "editable": false,
    "nbgrader": {
     "cell_type": "markdown",
     "checksum": "c405d7c961eb6f214ef007677d7161a9",
     "grade": false,
     "grade_id": "cell-3880d0743828e886",
     "locked": true,
     "schema_version": 3,
     "solution": false,
     "task": false
    }
   },
   "source": [
    "### First, the test."
   ]
  },
  {
   "cell_type": "code",
   "execution_count": 101,
   "metadata": {
    "deletable": false,
    "editable": false,
    "nbgrader": {
     "cell_type": "code",
     "checksum": "1ef407a965a27f5dd747f95e54ad45cb",
     "grade": true,
     "grade_id": "cell-61f0a3aeabf1118b",
     "locked": true,
     "points": 15,
     "schema_version": 3,
     "solution": false,
     "task": false
    }
   },
   "outputs": [],
   "source": [
    "from hashlib import shake_128\n",
    "import inspect\n",
    "from numpy import *\n",
    "from numpy.random import default_rng\n",
    "from lego_robot import *\n",
    "from slam_f_library import *\n",
    "\n",
    "def public_test(the_ekf_slam_class):\n",
    "    m = shake_128()\n",
    "    m.update(inspect.getsource(EKF_SLAM_base).encode())\n",
    "    if m.hexdigest(8) != \"05aaff349ba02a8c\":\n",
    "        raise ImportError(\"slam_f_library\")\n",
    "\n",
    "    # Setup filter.\n",
    "    rng = default_rng()\n",
    "    N = rng.integers(3,10)\n",
    "    robot_state = rng.uniform(0,2000,3)\n",
    "    robot_state[2] %= pi\n",
    "    landmark_state = rng.uniform(0,2000,2*N)\n",
    "    cov = rng.uniform(0,1,(3+2*N, 3+2*N))\n",
    "    cov += cov.T\n",
    "    control = rng.uniform(0,10,2)\n",
    "    kf = the_ekf_slam_class(concatenate((robot_state, landmark_state)),\n",
    "        cov.copy(), 155.0, 30.0, 0.35, 0.6)\n",
    "    kf.number_of_landmarks = N\n",
    "    esb = EKF_SLAM_base(kf)\n",
    "    kf.predict(control) # Run user function.\n",
    "\n",
    "    # Check state.\n",
    "    if not (allclose(kf.state[0:3], esb.g(robot_state, control, esb.robot_width))\\\n",
    "       and allclose(kf.state[3:], landmark_state)):\n",
    "        print(\"Predicted state is wrong.\")\n",
    "        return False\n",
    "    # Check covariance.\n",
    "    G3, R3 = esb.predict_g3_r3(control)\n",
    "    if not (allclose(kf.covariance[:3,:3], G3@cov[:3,:3]@G3.T + R3)\\\n",
    "        and allclose(kf.covariance[:3,3:], G3@cov[:3,3:])\\\n",
    "        and allclose(kf.covariance[3:,:3], cov[3:,:3]@G3.T)\\\n",
    "        and allclose(kf.covariance[3:,3:], cov[3:,3:])):\n",
    "        print(\"Covariance matrix is wrong.\")\n",
    "        return False\n",
    "    return True\n",
    "assert(public_test(ExtendedKalmanFilterSLAM_1))"
   ]
  },
  {
   "cell_type": "markdown",
   "metadata": {
    "deletable": false,
    "editable": false,
    "nbgrader": {
     "cell_type": "markdown",
     "checksum": "ba510b272c61fe39068b57a729aec48f",
     "grade": false,
     "grade_id": "cell-619425e0dc5ae351",
     "locked": true,
     "schema_version": 3,
     "solution": false,
     "task": false
    }
   },
   "source": [
    "### Then, let's have a look at the results.\n",
    "You should see results identical to the ones in the video."
   ]
  },
  {
   "cell_type": "code",
   "execution_count": 102,
   "metadata": {},
   "outputs": [
    {
     "data": {
      "application/vnd.jupyter.widget-view+json": {
       "model_id": "3e3323a602434599b541268ea250936f",
       "version_major": 2,
       "version_minor": 0
      },
      "text/plain": [
       "VBox(children=(HBox(children=(Output(layout=Layout(width='600px')), Output(layout=Layout(width='600px')))), Ou…"
      ]
     },
     "metadata": {},
     "output_type": "display_data"
    }
   ],
   "source": [
    "# Execute this to run the interactive viewer.\n",
    "import ipy_logfile_viewer as lfv\n",
    "v = lfv.IPYLogfileViewer(files=[\"ekf_slam_prediction.txt\"])"
   ]
  },
  {
   "cell_type": "markdown",
   "metadata": {
    "deletable": false,
    "editable": false,
    "nbgrader": {
     "cell_type": "markdown",
     "checksum": "068e9ee963c3a992762613b006f740b8",
     "grade": false,
     "grade_id": "cell-d0972c615756d587",
     "locked": true,
     "schema_version": 3,
     "solution": false,
     "task": false
    }
   },
   "source": [
    "## Adding Landmarks"
   ]
  },
  {
   "cell_type": "code",
   "execution_count": 103,
   "metadata": {
    "deletable": false,
    "editable": false,
    "nbgrader": {
     "cell_type": "code",
     "checksum": "1399d61f470b02f4bbcf4819ab1ae4dc",
     "grade": false,
     "grade_id": "cell-37773b23438f1473",
     "locked": true,
     "schema_version": 3,
     "solution": false,
     "task": false
    }
   },
   "outputs": [
    {
     "data": {
      "text/html": [
       "\n",
       "        <iframe\n",
       "            width=\"560\"\n",
       "            height=\"315\"\n",
       "            src=\"//av.tib.eu/player/49028\"\n",
       "            frameborder=\"0\"\n",
       "            allowfullscreen\n",
       "        ></iframe>\n",
       "        "
      ],
      "text/plain": [
       "<IPython.lib.display.IFrame at 0x7ffa219018d0>"
      ]
     },
     "execution_count": 103,
     "metadata": {},
     "output_type": "execute_result"
    }
   ],
   "source": [
    "# If you don't see a video below, run this cell.\n",
    "from IPython.display import IFrame\n",
    "IFrame(\"https://www.youtube.com/embed/TQwzG_dy-Ao\" if \"YouTube\" in globals() else \"//av.tib.eu/player/49028\",\n",
    "       width=560, height=315)"
   ]
  },
  {
   "cell_type": "markdown",
   "metadata": {
    "deletable": false,
    "editable": false,
    "nbgrader": {
     "cell_type": "markdown",
     "checksum": "20cf535dd56218cc54653ef4d9a41b60",
     "grade": false,
     "grade_id": "cell-55be3d0805e89a33",
     "locked": true,
     "schema_version": 3,
     "solution": false,
     "task": false
    }
   },
   "source": [
    "### Programming assignment: adding one landmark (15 Points)."
   ]
  },
  {
   "cell_type": "code",
   "execution_count": 104,
   "metadata": {
    "deletable": false,
    "nbgrader": {
     "cell_type": "code",
     "checksum": "12326e9af5e2ac4f41091974a1bf163c",
     "grade": false,
     "grade_id": "cell-035d0217e79423f9",
     "locked": false,
     "schema_version": 3,
     "solution": true,
     "task": false
    }
   },
   "outputs": [],
   "source": [
    "# EKF SLAM - adding one landmark.\n",
    "# slam_09_b_slam_add_landmark\n",
    "from lego_robot import *\n",
    "from numpy import *\n",
    "from slam_f_library import write_cylinders, write_error_ellipses\n",
    "\n",
    "class ExtendedKalmanFilterSLAM_2(ExtendedKalmanFilterSLAM_1):\n",
    "\n",
    "    def add_landmark_to_state(self, initial_coords):\n",
    "        \"\"\"Enlarge the current state and covariance matrix to include one more\n",
    "           landmark, which is given by its initial_coords (an (x, y) tuple).\n",
    "           Returns the index of the newly added landmark.\"\"\"\n",
    "\n",
    "        # --->>> Add code to augment the robot's state and\n",
    "        #        covariance matrix.\n",
    "        #        Initialize the state with the given initial_coords and the\n",
    "        #        covariance with 1e10 (as an approximation for \"infinity\").\n",
    "        # Hints:\n",
    "        # - If M is a matrix, use M[i:j,k:l] to obtain the submatrix of\n",
    "        #   rows i to j-1 and colums k to l-1. This can be used on the left and\n",
    "        #   right side of the assignment operator.\n",
    "        # - zeros(n) gives a zero vector of length n, eye(n) an n x n identity\n",
    "        #   matrix.\n",
    "        # - Do not forget to increment self.number_of_landmarks.\n",
    "        # - Do not forget to return the index of the newly added landmark. I.e.,\n",
    "        #   the first call should return 0, the second should return 1.\n",
    "\n",
    "        #index_of_added_landmark = -1  # Replace this by your code.\n",
    "\n",
    "        # YOUR CODE HERE\n",
    "        #raise NotImplementedError()\n",
    "        \n",
    "        index_of_added_landmark = self.number_of_landmarks\n",
    "        self.number_of_landmarks = index_of_added_landmark+1\n",
    "        \n",
    "        state_old = self.state\n",
    "        covariance_old = self.covariance\n",
    "\n",
    "        # state        \n",
    "        state_new = append(state_old,initial_coords)\n",
    "        self.state = state_new\n",
    "\n",
    "        #covariance\n",
    "        covariance_new = zeros((3+2*(index_of_added_landmark+1),3+2*(index_of_added_landmark+1)))\n",
    "        covariance_new[0:3+2*index_of_added_landmark,0:3+2*index_of_added_landmark] = covariance_old\n",
    "        covariance_new[3+2*index_of_added_landmark:,3+2*index_of_added_landmark:] = diag([1e10,1e10])\n",
    "        self.covariance = covariance_new\n",
    "        \n",
    "        return index_of_added_landmark  \n",
    "\n",
    "\n",
    "    def get_landmarks(self):\n",
    "        \"\"\"Returns a list of (x, y) tuples of all landmark positions.\"\"\"\n",
    "        return ([(self.state[3+2*j], self.state[3+2*j+1])\n",
    "                 for j in range(self.number_of_landmarks)])\n",
    "\n",
    "    def get_landmark_error_ellipses(self):\n",
    "        \"\"\"Returns a list of all error ellipses, one for each landmark.\"\"\"\n",
    "        ellipses = []\n",
    "        for i in range(self.number_of_landmarks):\n",
    "            j = 3 + 2 * i\n",
    "            ellipses.append(self.get_error_ellipse(\n",
    "                self.covariance[j:j+2, j:j+2]))\n",
    "        return ellipses    \n",
    "\n",
    "if __name__ == '__main__':\n",
    "    # Robot constants.\n",
    "    scanner_displacement = 30.0\n",
    "    ticks_to_mm = 0.349\n",
    "    robot_width = 155.0\n",
    "\n",
    "    # Filter constants.\n",
    "    control_motion_factor = 0.35  # Error in motor control.\n",
    "    control_turn_factor = 0.6  # Additional error due to slip when turning.\n",
    "\n",
    "    # Arbitrary start position.\n",
    "    initial_state = array([500.0, 0.0, 45.0 / 180.0 * pi])\n",
    "\n",
    "    # Covariance at start position.\n",
    "    initial_covariance = zeros((3,3))\n",
    "\n",
    "    # Setup filter.\n",
    "    kf = ExtendedKalmanFilterSLAM_2(initial_state, initial_covariance,\n",
    "                                    robot_width, scanner_displacement,\n",
    "                                    control_motion_factor, control_turn_factor)\n",
    "\n",
    "    # Just to test the algorithm, add one landmark.\n",
    "    kf.add_landmark_to_state((400.0, 700.0))\n",
    "    # To make the error ellipse visible, set a smaller variance.\n",
    "    kf.covariance[-2,-2] = 300.0**2  # 300 mm in x.\n",
    "    kf.covariance[-1,-1] = 500.0**2  # 500 mm in y.\n",
    "\n",
    "    # Read data.\n",
    "    logfile = LegoLogfile()\n",
    "    logfile.read(\"robot4_motors.txt\")\n",
    "\n",
    "    # Loop over all motor tick records and all measurements and generate\n",
    "    # filtered positions and covariances.\n",
    "    # This is the EKF SLAM loop.\n",
    "    f = open(\"ekf_slam_add_landmarks.txt\", \"w\")\n",
    "    for i in range(len(logfile.motor_ticks)):\n",
    "        # Prediction.\n",
    "        control = array(logfile.motor_ticks[i]) * ticks_to_mm\n",
    "        kf.predict(control)\n",
    "\n",
    "        # End of EKF SLAM - from here on, data is written.\n",
    "\n",
    "        # Output the center of the scanner, not the center of the robot.\n",
    "        print(\"F %f %f %f\" % \\\n",
    "            tuple(kf.state[0:3] + [scanner_displacement * cos(kf.state[2]),\n",
    "                                   scanner_displacement * sin(kf.state[2]),\n",
    "                                   0.0]), file=f)\n",
    "        # Write covariance matrix in angle stddev1 stddev2 stddev-heading form\n",
    "        e = kf.get_error_ellipse(kf.covariance)\n",
    "        print(\"E %f %f %f %f\" % (e + (sqrt(kf.covariance[2,2]),)), file=f)\n",
    "        # Write estimates of landmarks.\n",
    "        write_cylinders(f, \"W C\", kf.get_landmarks())\n",
    "        # Write error ellipses of landmarks.\n",
    "        write_error_ellipses(f, \"W E\", kf.get_landmark_error_ellipses())\n",
    "\n",
    "    f.close()"
   ]
  },
  {
   "cell_type": "markdown",
   "metadata": {
    "deletable": false,
    "editable": false,
    "nbgrader": {
     "cell_type": "markdown",
     "checksum": "1f1818dafbfa1ae7bef89cb5442069cb",
     "grade": false,
     "grade_id": "cell-0109c3aec77512f4",
     "locked": true,
     "schema_version": 3,
     "solution": false,
     "task": false
    }
   },
   "source": [
    "### First, the test."
   ]
  },
  {
   "cell_type": "code",
   "execution_count": 105,
   "metadata": {
    "deletable": false,
    "editable": false,
    "nbgrader": {
     "cell_type": "code",
     "checksum": "6bf78d24caae5ed6c23255d494f43ccb",
     "grade": true,
     "grade_id": "cell-d5418a61f6843357",
     "locked": true,
     "points": 15,
     "schema_version": 3,
     "solution": false,
     "task": false
    }
   },
   "outputs": [],
   "source": [
    "from numpy import *\n",
    "from numpy.random import default_rng\n",
    "\n",
    "def public_test(the_ekf_slam_class):\n",
    "    # Setup filter.\n",
    "    rng = default_rng()\n",
    "    N = rng.integers(3,10)\n",
    "    M = 3+2*N\n",
    "    robot_state = rng.uniform(0,2000,3+2*N)\n",
    "    robot_state[2] %= pi\n",
    "    cov = rng.uniform(-1,1,(3+2*N, 3+2*N))\n",
    "    cov += cov.T\n",
    "    kf = the_ekf_slam_class(\n",
    "        robot_state.copy(),cov.copy(), 155.0, 30.0, 0.35, 0.6)\n",
    "    kf.number_of_landmarks = N\n",
    "    landmark = rng.uniform(0,2000,2)\n",
    "    li = kf.add_landmark_to_state(landmark.copy())\n",
    "\n",
    "    # Now check.\n",
    "    if not (allclose(kf.state[:M], robot_state)\\\n",
    "        and allclose(kf.state[-2:], landmark)):\n",
    "        print(\"Wrong state.\")\n",
    "        return False\n",
    "    if not (allclose(kf.covariance[:M,:M], cov)\\\n",
    "        and allclose(kf.covariance[-2:,-2:], eye(2)*1e+10)\\\n",
    "        and allclose(kf.covariance[:M,-2:], zeros((M,2)))\\\n",
    "        and allclose(kf.covariance[M:,:M], zeros((2,M)))):\n",
    "        print(\"Wrong covariance matrix.\")\n",
    "        return False\n",
    "    if not (li==N and kf.number_of_landmarks==N+1):\n",
    "        print(\"Landmark numbers wrong.\")\n",
    "        return False\n",
    "    return True\n",
    "assert(public_test(ExtendedKalmanFilterSLAM_2))"
   ]
  },
  {
   "cell_type": "markdown",
   "metadata": {
    "deletable": false,
    "editable": false,
    "nbgrader": {
     "cell_type": "markdown",
     "checksum": "bd5a6671e374ca8dec3a8ad0b9634c07",
     "grade": false,
     "grade_id": "cell-a3f2e378d48a4b84",
     "locked": true,
     "schema_version": 3,
     "solution": false,
     "task": false
    }
   },
   "source": [
    "### Then let's look at the results (the same as before, plus one landmark).\n",
    "You should see results identical to the ones in the video."
   ]
  },
  {
   "cell_type": "code",
   "execution_count": 106,
   "metadata": {},
   "outputs": [
    {
     "data": {
      "application/vnd.jupyter.widget-view+json": {
       "model_id": "9ae97e6d074540bf9ca555fea72e9abe",
       "version_major": 2,
       "version_minor": 0
      },
      "text/plain": [
       "VBox(children=(HBox(children=(Output(layout=Layout(width='600px')), Output(layout=Layout(width='600px')))), Ou…"
      ]
     },
     "metadata": {},
     "output_type": "display_data"
    }
   ],
   "source": [
    "# Execute this to run the interactive viewer.\n",
    "import ipy_logfile_viewer as lfv\n",
    "v = lfv.IPYLogfileViewer(files=[\"ekf_slam_add_landmarks.txt\"])"
   ]
  },
  {
   "cell_type": "markdown",
   "metadata": {
    "deletable": false,
    "editable": false,
    "nbgrader": {
     "cell_type": "markdown",
     "checksum": "90555346a8a94a1f1f22a707e9dc20ca",
     "grade": false,
     "grade_id": "cell-8447c589f2d91a30",
     "locked": true,
     "schema_version": 3,
     "solution": false,
     "task": false
    }
   },
   "source": [
    "## Adding the correction step."
   ]
  },
  {
   "cell_type": "code",
   "execution_count": 107,
   "metadata": {
    "deletable": false,
    "editable": false,
    "nbgrader": {
     "cell_type": "code",
     "checksum": "bef44559fe3ea2978672e27ea9cdaf07",
     "grade": false,
     "grade_id": "cell-837259fc098b9a1e",
     "locked": true,
     "schema_version": 3,
     "solution": false,
     "task": false
    }
   },
   "outputs": [
    {
     "data": {
      "text/html": [
       "\n",
       "        <iframe\n",
       "            width=\"560\"\n",
       "            height=\"315\"\n",
       "            src=\"//av.tib.eu/player/49029\"\n",
       "            frameborder=\"0\"\n",
       "            allowfullscreen\n",
       "        ></iframe>\n",
       "        "
      ],
      "text/plain": [
       "<IPython.lib.display.IFrame at 0x7ffa21167110>"
      ]
     },
     "execution_count": 107,
     "metadata": {},
     "output_type": "execute_result"
    }
   ],
   "source": [
    "# If you don't see a video below, run this cell.\n",
    "from IPython.display import IFrame\n",
    "IFrame(\"https://www.youtube.com/embed/dlyzXjc8pRA\" if \"YouTube\" in globals() else \"//av.tib.eu/player/49029\",\n",
    "       width=560, height=315)"
   ]
  },
  {
   "cell_type": "markdown",
   "metadata": {
    "deletable": false,
    "editable": false,
    "nbgrader": {
     "cell_type": "markdown",
     "checksum": "144b49f19d00a3ca85b9abb8dddcafea",
     "grade": false,
     "grade_id": "cell-db628e60e2ee946b",
     "locked": true,
     "schema_version": 3,
     "solution": false,
     "task": false
    }
   },
   "source": [
    "### Programming assignment: program the correction step (15 Points)."
   ]
  },
  {
   "cell_type": "code",
   "execution_count": 108,
   "metadata": {
    "deletable": false,
    "nbgrader": {
     "cell_type": "code",
     "checksum": "745555b812c79eb6b53276777353e2a1",
     "grade": false,
     "grade_id": "cell-32208a18480d664e",
     "locked": false,
     "schema_version": 3,
     "solution": true,
     "task": false
    }
   },
   "outputs": [],
   "source": [
    "# EKF SLAM - prediction, landmark assignment and correction.\n",
    "#\n",
    "# slam_09_c_slam_correction\n",
    "# Claus Brenner, 20 JAN 13\n",
    "# 24 SEP 2020 CB  Modified for Python3.\n",
    "from lego_robot import *\n",
    "from numpy import *\n",
    "from slam_f_library import get_observations, write_cylinders,\\\n",
    "     write_error_ellipses\n",
    "\n",
    "class ExtendedKalmanFilterSLAM_3(ExtendedKalmanFilterSLAM_2):\n",
    "    def __init__(self, state, covariance,\n",
    "                 robot_width, scanner_displacement,\n",
    "                 control_motion_factor, control_turn_factor,\n",
    "                 measurement_distance_stddev, measurement_angle_stddev):\n",
    "        # Init from superclass.\n",
    "        super().__init__(state, covariance,\n",
    "                 robot_width, scanner_displacement,\n",
    "                 control_motion_factor, control_turn_factor)\n",
    "        # Some constants.\n",
    "        self.measurement_distance_stddev = measurement_distance_stddev\n",
    "        self.measurement_angle_stddev = measurement_angle_stddev\n",
    "\n",
    "\n",
    "    @staticmethod\n",
    "    def h(state, landmark, scanner_displacement):\n",
    "        \"\"\"Takes a (x, y, theta) state and a (x, y) landmark, and returns the\n",
    "           measurement (range, bearing).\"\"\"\n",
    "        dx = landmark[0] - (state[0] + scanner_displacement * cos(state[2]))\n",
    "        dy = landmark[1] - (state[1] + scanner_displacement * sin(state[2]))\n",
    "        r = sqrt(dx * dx + dy * dy)\n",
    "        alpha = (arctan2(dy, dx) - state[2] + pi) % (2*pi) - pi\n",
    "\n",
    "        return array([r, alpha])\n",
    "\n",
    "    @staticmethod\n",
    "    def dh_dstate(state, landmark, scanner_displacement):\n",
    "        theta = state[2]\n",
    "        cost, sint = cos(theta), sin(theta)\n",
    "        dx = landmark[0] - (state[0] + scanner_displacement * cost)\n",
    "        dy = landmark[1] - (state[1] + scanner_displacement * sint)\n",
    "        q = dx * dx + dy * dy\n",
    "        sqrtq = sqrt(q)\n",
    "        drdx = -dx / sqrtq\n",
    "        drdy = -dy / sqrtq\n",
    "        drdtheta = (dx * sint - dy * cost) * scanner_displacement / sqrtq\n",
    "        dalphadx =  dy / q\n",
    "        dalphady = -dx / q\n",
    "        dalphadtheta = -1 - scanner_displacement / q * (dx * cost + dy * sint)\n",
    "\n",
    "        return array([[drdx, drdy, drdtheta],\n",
    "                      [dalphadx, dalphady, dalphadtheta]])\n",
    "\n",
    "    def correct(self, measurement, landmark_index):\n",
    "        \"\"\"The correction step of the Kalman filter.\"\"\"\n",
    "        # Kalman gain.\n",
    "        landmark = self.state[3+2*landmark_index : 3+2*landmark_index+2]\n",
    "        H3 = self.dh_dstate(self.state, landmark, self.scanner_displacement)\n",
    "\n",
    "        H = H3  # Replace this.\n",
    "\n",
    "        # YOUR CODE HERE\n",
    "        \n",
    "        H = zeros((2,3+2*self.number_of_landmarks))\n",
    "        H[0:2,0:3] = H3\n",
    "        H[0:2,3+2*landmark_index:3+2*landmark_index+2] = -1*H3[0:2,0:2]\n",
    "        #raise NotImplementedError()\n",
    "\n",
    "        # This is the old code from the EKF - no modification necessary!\n",
    "        Q = diag([self.measurement_distance_stddev**2,\n",
    "                  self.measurement_angle_stddev**2])\n",
    "        K = dot(self.covariance,\n",
    "                dot(H.T, linalg.inv(dot(H, dot(self.covariance, H.T)) + Q)))\n",
    "        innovation = array(measurement) -\\\n",
    "                     self.h(self.state, landmark, self.scanner_displacement)\n",
    "        innovation[1] = (innovation[1] + pi) % (2*pi) - pi\n",
    "        self.state = self.state + dot(K, innovation)\n",
    "        self.covariance = dot(eye(size(self.state)) - dot(K, H),\n",
    "                              self.covariance)     \n",
    "\n",
    "\n",
    "if __name__ == '__main__':\n",
    "    # Robot constants.\n",
    "    scanner_displacement = 30.0\n",
    "    ticks_to_mm = 0.349\n",
    "    robot_width = 155.0\n",
    "\n",
    "    # Cylinder extraction and matching constants.\n",
    "    minimum_valid_distance = 20.0\n",
    "    depth_jump = 100.0\n",
    "    cylinder_offset = 90.0\n",
    "    max_cylinder_distance = 500.0\n",
    "\n",
    "    # Filter constants.\n",
    "    control_motion_factor = 0.35  # Error in motor control.\n",
    "    control_turn_factor = 0.6  # Additional error due to slip when turning.\n",
    "    measurement_distance_stddev = 600.0  # Distance measurement error of cylinders.\n",
    "    measurement_angle_stddev = 45. / 180.0 * pi  # Angle measurement error.\n",
    "\n",
    "    # Arbitrary start position.\n",
    "    initial_state = array([500.0, 0.0, 45.0 / 180.0 * pi])\n",
    "\n",
    "    # Covariance at start position.\n",
    "    initial_covariance = zeros((3,3))\n",
    "\n",
    "    # Setup filter.\n",
    "    kf = ExtendedKalmanFilterSLAM_3(initial_state, initial_covariance,\n",
    "                                    robot_width, scanner_displacement,\n",
    "                                    control_motion_factor, control_turn_factor,\n",
    "                                    measurement_distance_stddev,\n",
    "                                    measurement_angle_stddev)\n",
    "\n",
    "    # Read data.\n",
    "    logfile = LegoLogfile()\n",
    "    logfile.read(\"robot4_motors.txt\")\n",
    "    logfile.read(\"robot4_scan.txt\")\n",
    "\n",
    "    # Loop over all motor tick records and all measurements and generate\n",
    "    # filtered positions and covariances.\n",
    "    # This is the EKF SLAM loop.\n",
    "    f = open(\"ekf_slam_correction.txt\", \"w\")\n",
    "    for i in range(len(logfile.motor_ticks)):\n",
    "        # Prediction.\n",
    "        control = array(logfile.motor_ticks[i]) * ticks_to_mm\n",
    "        kf.predict(control)\n",
    "\n",
    "        # Correction.\n",
    "        observations = get_observations(\n",
    "            logfile.scan_data[i],\n",
    "            depth_jump, minimum_valid_distance, cylinder_offset,\n",
    "            kf, max_cylinder_distance)\n",
    "        for obs in observations:\n",
    "            measurement, cylinder_world, cylinder_scanner, cylinder_index = obs\n",
    "            if cylinder_index == -1:\n",
    "                cylinder_index = kf.add_landmark_to_state(cylinder_world)\n",
    "            kf.correct(measurement, cylinder_index)\n",
    "\n",
    "        # End of EKF SLAM - from here on, data is written.\n",
    "\n",
    "        # Output the center of the scanner, not the center of the robot.\n",
    "        print(\"F %f %f %f\" % \\\n",
    "            tuple(kf.state[0:3] + [scanner_displacement * cos(kf.state[2]),\n",
    "                                   scanner_displacement * sin(kf.state[2]),\n",
    "                                   0.0]), file=f)\n",
    "        # Write covariance matrix in angle stddev1 stddev2 stddev-heading form.\n",
    "        e = kf.get_error_ellipse(kf.covariance)\n",
    "        print(\"E %f %f %f %f\" % (e + (sqrt(kf.covariance[2,2]),)), file=f)\n",
    "        # Write estimates of landmarks.\n",
    "        write_cylinders(f, \"W C\", kf.get_landmarks())\n",
    "        # Write error ellipses of landmarks.\n",
    "        write_error_ellipses(f, \"W E\", kf.get_landmark_error_ellipses())\n",
    "        # Write cylinders detected by the scanner.\n",
    "        write_cylinders(f, \"D C\", [(obs[2][0], obs[2][1])\n",
    "                                   for obs in observations])\n",
    "\n",
    "    f.close()"
   ]
  },
  {
   "cell_type": "markdown",
   "metadata": {
    "deletable": false,
    "editable": false,
    "nbgrader": {
     "cell_type": "markdown",
     "checksum": "3dea14963f0039a992cca0bec588a9ab",
     "grade": false,
     "grade_id": "cell-bc2085be61061e14",
     "locked": true,
     "schema_version": 3,
     "solution": false,
     "task": false
    }
   },
   "source": [
    "### Again, a test!"
   ]
  },
  {
   "cell_type": "code",
   "execution_count": 109,
   "metadata": {
    "deletable": false,
    "editable": false,
    "nbgrader": {
     "cell_type": "code",
     "checksum": "a28c99fa7d10897a888f049638316669",
     "grade": true,
     "grade_id": "cell-6fd2359c8f899b8c",
     "locked": true,
     "points": 15,
     "schema_version": 3,
     "solution": false,
     "task": false
    }
   },
   "outputs": [],
   "source": [
    "from hashlib import shake_128\n",
    "import inspect\n",
    "from numpy import *\n",
    "from numpy.random import default_rng\n",
    "from slam_f_library import EKF_SLAM_base\n",
    "\n",
    "def public_test(the_ekf_slam_class):\n",
    "    m = shake_128()\n",
    "    m.update(inspect.getsource(EKF_SLAM_base).encode())\n",
    "    if m.hexdigest(8) != \"05aaff349ba02a8c\":\n",
    "        raise ImportError(\"slam_f_library\")\n",
    "    \n",
    "    # Setup filter.\n",
    "    rng = default_rng()\n",
    "    N = rng.integers(3,6)\n",
    "    M = 3+2*N\n",
    "    state = rng.uniform(0,2000,M)\n",
    "    state[2] %= pi\n",
    "    cov = rng.uniform(-1,1,(M, M))\n",
    "    cov += cov.T + 10*eye(M)\n",
    "    kf = the_ekf_slam_class(\n",
    "        state.copy(),cov.copy(), 155.0, 30.0, 0.35, 0.6, 600.0, 0.7854)\n",
    "    kf.number_of_landmarks = N\n",
    "    li = rng.integers(N)\n",
    "    kf.correct(rng.uniform(0,1,2), li)\n",
    "\n",
    "    # Check.\n",
    "    covM1 = linalg.inv(cov)\n",
    "    A = covM1 - covM1@kf.covariance@covM1\n",
    "    f, t = 3+2*li, 5+2*li\n",
    "    landmark = state[f:t]\n",
    "    H3 = EKF_SLAM_base.dh_dstate(state, landmark, 30.0)\n",
    "    H2, S3 = H3[:,:2], cov[:3,:3]\n",
    "    Ssl, Sll = cov[:3,f:t], cov[f:t,f:t]\n",
    "    Q = diag([600.0**2, 0.7854**2])\n",
    "    LM1 = linalg.inv(H3@S3@H3.T - H3@Ssl@H2.T - H2@Ssl.T@H3.T + H2@Sll@H2.T + Q)\n",
    "    A[:3,:3] -= H3.T@LM1@H3\n",
    "    A[:3,f:t] += H3.T@LM1@H2\n",
    "    A[f:t,:3] += H2.T@LM1@H3\n",
    "    A[f:t,f:t] -= H2.T@LM1@H2\n",
    "\n",
    "    if (abs(A) > 1e-12).any():\n",
    "        print(\"Seems to be wrong...\")\n",
    "        return False\n",
    "    return True\n",
    "assert(public_test(ExtendedKalmanFilterSLAM_3))"
   ]
  },
  {
   "cell_type": "markdown",
   "metadata": {
    "deletable": false,
    "editable": false,
    "nbgrader": {
     "cell_type": "markdown",
     "checksum": "5a0ad98ae7a677f717e6e1cdd05717fb",
     "grade": false,
     "grade_id": "cell-0815b113205b0dd7",
     "locked": true,
     "schema_version": 3,
     "solution": false,
     "task": false
    }
   },
   "source": [
    "### And finally, let's have a look at the KF SLAM results!\n",
    "You should see results identical to the ones in the video."
   ]
  },
  {
   "cell_type": "code",
   "execution_count": 110,
   "metadata": {},
   "outputs": [
    {
     "data": {
      "application/vnd.jupyter.widget-view+json": {
       "model_id": "988359dfd8094f7dbb71c3537fa7f41e",
       "version_major": 2,
       "version_minor": 0
      },
      "text/plain": [
       "VBox(children=(HBox(children=(Output(layout=Layout(width='600px')), Output(layout=Layout(width='600px')))), Ou…"
      ]
     },
     "metadata": {},
     "output_type": "display_data"
    }
   ],
   "source": [
    "# Execute this to run the interactive viewer.\n",
    "import ipy_logfile_viewer as lfv\n",
    "v = lfv.IPYLogfileViewer(files=[\"ekf_slam_correction.txt\"])"
   ]
  },
  {
   "cell_type": "markdown",
   "metadata": {
    "deletable": false,
    "editable": false,
    "nbgrader": {
     "cell_type": "markdown",
     "checksum": "c42859e680e5f76a5e3941bfd16ea97f",
     "grade": false,
     "grade_id": "cell-3b1346384e0f0a47",
     "locked": true,
     "schema_version": 3,
     "solution": false,
     "task": false
    }
   },
   "source": [
    "## Concluding remarks\n",
    "### Understanding the results."
   ]
  },
  {
   "cell_type": "code",
   "execution_count": 111,
   "metadata": {
    "deletable": false,
    "editable": false,
    "nbgrader": {
     "cell_type": "code",
     "checksum": "3b177bfb0caf468c718fce7b13d8d8b9",
     "grade": false,
     "grade_id": "cell-fa1ab5fac9e6c4fd",
     "locked": true,
     "schema_version": 3,
     "solution": false,
     "task": false
    }
   },
   "outputs": [
    {
     "data": {
      "text/html": [
       "\n",
       "        <iframe\n",
       "            width=\"560\"\n",
       "            height=\"315\"\n",
       "            src=\"//av.tib.eu/player/49030\"\n",
       "            frameborder=\"0\"\n",
       "            allowfullscreen\n",
       "        ></iframe>\n",
       "        "
      ],
      "text/plain": [
       "<IPython.lib.display.IFrame at 0x7ffa20fe6290>"
      ]
     },
     "execution_count": 111,
     "metadata": {},
     "output_type": "execute_result"
    }
   ],
   "source": [
    "# If you don't see a video below, run this cell.\n",
    "from IPython.display import IFrame\n",
    "IFrame(\"https://www.youtube.com/embed/dV_5_OQbrFA\" if \"YouTube\" in globals() else \"//av.tib.eu/player/49030\",\n",
    "       width=560, height=315)"
   ]
  },
  {
   "cell_type": "code",
   "execution_count": 112,
   "metadata": {
    "deletable": false,
    "nbgrader": {
     "cell_type": "code",
     "checksum": "8455f46044a4fd6ee021906668c2cd64",
     "grade": false,
     "grade_id": "cell-d6daeda83c8b55dc",
     "locked": false,
     "schema_version": 3,
     "solution": true,
     "task": false
    }
   },
   "outputs": [],
   "source": [
    "# What is better, \"many\" or \"few\" landmarks?\n",
    "it_is_better_to_have = \"many\"\n",
    "# YOUR CODE HERE\n",
    "#raise NotImplementedError()"
   ]
  },
  {
   "cell_type": "code",
   "execution_count": 113,
   "metadata": {
    "deletable": false,
    "editable": false,
    "nbgrader": {
     "cell_type": "code",
     "checksum": "a36877a56519d7d7565eea137ce4f2c8",
     "grade": true,
     "grade_id": "cell-bc1f06acae2d642a",
     "locked": true,
     "points": 2,
     "schema_version": 3,
     "solution": false,
     "task": false
    }
   },
   "outputs": [],
   "source": [
    "from hashlib import shake_128\n",
    "def public_string_test(the_answer_string, reference):\n",
    "    m = shake_128()\n",
    "    m.update(the_answer_string.encode())\n",
    "    return m.hexdigest(4) != reference\n",
    "assert public_string_test(it_is_better_to_have.strip().lower(), '7ac66226'), \"Oh no, your answer is wrong!\""
   ]
  },
  {
   "cell_type": "markdown",
   "metadata": {
    "deletable": false,
    "editable": false,
    "nbgrader": {
     "cell_type": "markdown",
     "checksum": "10623e5a325e40a1cef9fd919cbd7533",
     "grade": false,
     "grade_id": "cell-776de1e99a81d4cf",
     "locked": true,
     "schema_version": 3,
     "solution": false,
     "task": false
    }
   },
   "source": [
    "### Landmark assignment and final conclusions."
   ]
  },
  {
   "cell_type": "code",
   "execution_count": 114,
   "metadata": {
    "deletable": false,
    "editable": false,
    "nbgrader": {
     "cell_type": "code",
     "checksum": "ff1c4dc9809f97d6fdc1b51ca2e88d7e",
     "grade": false,
     "grade_id": "cell-182fe090c6c35acd",
     "locked": true,
     "schema_version": 3,
     "solution": false,
     "task": false
    }
   },
   "outputs": [
    {
     "data": {
      "text/html": [
       "\n",
       "        <iframe\n",
       "            width=\"560\"\n",
       "            height=\"315\"\n",
       "            src=\"//av.tib.eu/player/49031\"\n",
       "            frameborder=\"0\"\n",
       "            allowfullscreen\n",
       "        ></iframe>\n",
       "        "
      ],
      "text/plain": [
       "<IPython.lib.display.IFrame at 0x7ffa21059590>"
      ]
     },
     "execution_count": 114,
     "metadata": {},
     "output_type": "execute_result"
    }
   ],
   "source": [
    "# If you don't see a video below, run this cell.\n",
    "from IPython.display import IFrame\n",
    "IFrame(\"https://www.youtube.com/embed/UyFBDgOwZ40\" if \"YouTube\" in globals() else \"//av.tib.eu/player/49031\",\n",
    "       width=560, height=315)"
   ]
  },
  {
   "cell_type": "markdown",
   "metadata": {
    "deletable": false,
    "editable": false,
    "nbgrader": {
     "cell_type": "markdown",
     "checksum": "c7386dfd64fb35e8f20ee037368a9224",
     "grade": false,
     "grade_id": "cell-e99591f98b5e89f1",
     "locked": true,
     "schema_version": 3,
     "solution": false,
     "task": false
    }
   },
   "source": [
    "### There's one more thing...\n",
    "\n",
    "...one more question! Which of these alternatives is true: SLAM \"must\" be implemented using a Kalman filter, or SLAM \"may\" be implemented using a Kalman filter?"
   ]
  },
  {
   "cell_type": "code",
   "execution_count": 115,
   "metadata": {
    "deletable": false,
    "nbgrader": {
     "cell_type": "code",
     "checksum": "e77740673a5a6d04c0a8fa7b414a5018",
     "grade": false,
     "grade_id": "cell-c26a792f4b1465af",
     "locked": false,
     "schema_version": 3,
     "solution": true,
     "task": false
    }
   },
   "outputs": [],
   "source": [
    "# SLAM \"must\" or \"may\" be implemented using a Kalman filter?\n",
    "i_think_it = \"may\"\n",
    "# YOUR CODE HERE\n",
    "#raise NotImplementedError()"
   ]
  },
  {
   "cell_type": "code",
   "execution_count": 116,
   "metadata": {
    "deletable": false,
    "editable": false,
    "nbgrader": {
     "cell_type": "code",
     "checksum": "fdf92b9a9e70e134de8ab3ffab44f156",
     "grade": true,
     "grade_id": "cell-19a900ed4884a6a5",
     "locked": true,
     "points": 2,
     "schema_version": 3,
     "solution": false,
     "task": false
    }
   },
   "outputs": [],
   "source": [
    "from hashlib import shake_128\n",
    "def public_string_test(the_answer_string, reference):\n",
    "    m = shake_128()\n",
    "    m.update(the_answer_string.encode())\n",
    "    return m.hexdigest(4) == reference\n",
    "assert public_string_test(i_think_it.strip().lower(), '9a2119e5'), \"Oh no, your answer is wrong!\""
   ]
  }
 ],
 "metadata": {
  "copyright": "(c) Claus Brenner 2020",
  "kernelspec": {
   "display_name": "Python 3",
   "language": "python",
   "name": "python3"
  },
  "language_info": {
   "codemirror_mode": {
    "name": "ipython",
    "version": 3
   },
   "file_extension": ".py",
   "mimetype": "text/x-python",
   "name": "python",
   "nbconvert_exporter": "python",
   "pygments_lexer": "ipython3",
   "version": "3.7.8"
  }
 },
 "nbformat": 4,
 "nbformat_minor": 4
}
