{
 "cells": [
  {
   "cell_type": "markdown",
   "metadata": {
    "deletable": false,
    "editable": false,
    "nbgrader": {
     "cell_type": "markdown",
     "checksum": "c6877cb7144a57b850dfb3e87693bd94",
     "grade": false,
     "grade_id": "cell-ec63964e5a229d2b",
     "locked": true,
     "schema_version": 3,
     "solution": false,
     "task": false
    }
   },
   "source": [
    "# SLAM Unit H\n",
    "## Path planning\n",
    "This unit has a slightly different topic than the previous units. It discusses some approaches for planning the path of a robot, given start and endpoint."
   ]
  },
  {
   "cell_type": "markdown",
   "metadata": {
    "deletable": false,
    "editable": false,
    "nbgrader": {
     "cell_type": "markdown",
     "checksum": "c97aa307ff9a358a522bba6773c561c9",
     "grade": false,
     "grade_id": "cell-e9c2648f70cddbdd",
     "locked": true,
     "schema_version": 3,
     "solution": false,
     "task": false
    }
   },
   "source": [
    "## Introduction and the Algorithm of Dijkstra\n",
    "This very famous algorithm is named after the Dutch computer scientist [Edsger Dijkstra](https://en.wikipedia.org/wiki/Edsger_W._Dijkstra) \\[ˈdɛikstra\\] who, besides many other important contributions to computer science, found it in 1956."
   ]
  },
  {
   "cell_type": "code",
   "execution_count": 3,
   "metadata": {},
   "outputs": [
    {
     "data": {
      "text/html": [
       "\n",
       "        <iframe\n",
       "            width=\"560\"\n",
       "            height=\"315\"\n",
       "            src=\"//av.tib.eu/player/49039\"\n",
       "            frameborder=\"0\"\n",
       "            allowfullscreen\n",
       "        ></iframe>\n",
       "        "
      ],
      "text/plain": [
       "<IPython.lib.display.IFrame at 0x7efe6a86dad0>"
      ]
     },
     "execution_count": 3,
     "metadata": {},
     "output_type": "execute_result"
    }
   ],
   "source": [
    "# If you don't see a video below, run this cell.\n",
    "# YouTube = True  # Uncomment to get YouTube videos instead of TIB AV.\n",
    "from IPython.display import IFrame\n",
    "IFrame(\"https://www.youtube.com/embed/_Bmnxjj9lJw\" if \"YouTube\" in globals() else \"//av.tib.eu/player/49039\",\n",
    "       width=560, height=315)"
   ]
  },
  {
   "cell_type": "markdown",
   "metadata": {
    "deletable": false,
    "editable": false,
    "nbgrader": {
     "cell_type": "markdown",
     "checksum": "5b041a3b6cfa1f63ea0e35cc15649343",
     "grade": false,
     "grade_id": "cell-dcb6b5c17a0bf814",
     "locked": true,
     "schema_version": 3,
     "solution": false,
     "task": false
    }
   },
   "source": [
    "### A first quiz: Cost adjustment (2 Points).\n",
    "Consider our first implementation of the Dijkstra algorithm. A node has been seen for the first time already. Then (in the for loop over all neighbors), its cost is adjusted.\n",
    "\n",
    "In a graph of 100 nodes, how many times can a node cost be adjusted (at most)?"
   ]
  },
  {
   "cell_type": "code",
   "execution_count": 4,
   "metadata": {
    "deletable": false,
    "nbgrader": {
     "cell_type": "code",
     "checksum": "86ee7d7d416ec41298df7743c06754a7",
     "grade": false,
     "grade_id": "cell-9ac1473c0cb50ddd",
     "locked": false,
     "schema_version": 3,
     "solution": true,
     "task": false
    }
   },
   "outputs": [],
   "source": [
    "how_many_times_adjusted = 98\n",
    "# YOUR CODE HERE\n",
    "#raise NotImplementedError()"
   ]
  },
  {
   "cell_type": "code",
   "execution_count": 5,
   "metadata": {
    "deletable": false,
    "editable": false,
    "nbgrader": {
     "cell_type": "code",
     "checksum": "d36c8a1432719a5ec5e80b148342bba1",
     "grade": true,
     "grade_id": "cell-5a49cd449dbcb984",
     "locked": true,
     "points": 2,
     "schema_version": 3,
     "solution": false,
     "task": false
    }
   },
   "outputs": [],
   "source": [
    "from hashlib import shake_128\n",
    "def public_string_test(the_answer_string, reference):\n",
    "    m = shake_128()\n",
    "    m.update(the_answer_string.encode())\n",
    "    return m.hexdigest(4) == reference\n",
    "assert public_string_test((\"adj=%d\" % how_many_times_adjusted), 'cddd7485'), \"Oh no, your answer is wrong!\""
   ]
  },
  {
   "cell_type": "markdown",
   "metadata": {
    "deletable": false,
    "editable": false,
    "nbgrader": {
     "cell_type": "markdown",
     "checksum": "9d4538d25f8e7ee39e6224372739bbb6",
     "grade": false,
     "grade_id": "cell-d641a397dd843779",
     "locked": true,
     "schema_version": 3,
     "solution": false,
     "task": false
    }
   },
   "source": [
    "## The Algorithm of Dijkstra: the set of visited nodes."
   ]
  },
  {
   "cell_type": "code",
   "execution_count": 6,
   "metadata": {
    "deletable": false,
    "editable": false,
    "nbgrader": {
     "cell_type": "code",
     "checksum": "ee62390700fec6732dd4e8261f2ad9b2",
     "grade": false,
     "grade_id": "cell-ae7bb6d8dbeb4c52",
     "locked": true,
     "schema_version": 3,
     "solution": false,
     "task": false
    }
   },
   "outputs": [
    {
     "data": {
      "text/html": [
       "\n",
       "        <iframe\n",
       "            width=\"560\"\n",
       "            height=\"315\"\n",
       "            src=\"//av.tib.eu/player/49040\"\n",
       "            frameborder=\"0\"\n",
       "            allowfullscreen\n",
       "        ></iframe>\n",
       "        "
      ],
      "text/plain": [
       "<IPython.lib.display.IFrame at 0x7efe6a86d910>"
      ]
     },
     "execution_count": 6,
     "metadata": {},
     "output_type": "execute_result"
    }
   ],
   "source": [
    "# If you don't see a video below, run this cell.\n",
    "from IPython.display import IFrame\n",
    "IFrame(\"https://www.youtube.com/embed/8qXG_k1bXEs\" if \"YouTube\" in globals() else \"//av.tib.eu/player/49040\",\n",
    "       width=560, height=315)"
   ]
  },
  {
   "cell_type": "markdown",
   "metadata": {
    "deletable": false,
    "editable": false,
    "nbgrader": {
     "cell_type": "markdown",
     "checksum": "24866d12a4e995c35e31f22554e8f5fe",
     "grade": false,
     "grade_id": "cell-73ec3dda1265ef38",
     "locked": true,
     "schema_version": 3,
     "solution": false,
     "task": false
    }
   },
   "source": [
    "Note that the comments in the video regarding the required installation of additional libraries do not apply to this jupyter notebook version of the course. Also, `world_extents`, `world_obstacles`, `visited_nodes` and `optimal_path` are not handled using global variables, callback functions are not visible to you, and there is no \"main function\". While this \"decoration\" is different, the core functions (e.g., `dijkstra()`) are the same as in the videos."
   ]
  },
  {
   "cell_type": "markdown",
   "metadata": {
    "deletable": false,
    "editable": false,
    "nbgrader": {
     "cell_type": "markdown",
     "checksum": "5fc64949aae88dc8e098ba6b8ae60fd5",
     "grade": false,
     "grade_id": "cell-f8adb8eefd65118e",
     "locked": true,
     "schema_version": 3,
     "solution": false,
     "task": false
    }
   },
   "source": [
    "### Programming assignment: Implement the Algorithm of Dijkstra (20 Points).\n",
    "As a first step, we compute the visited nodes, but not yet the actual path from start to goal.\n",
    "In your implementation, try to work along the detailed comments in the code below. Do not attempt to return a shortest path yet (we will do this later). Note that start and goal are (x,y) tuples of the start and goal position. For `obstacles`, our convention is that the value is 255 if a cell is occupied and 0 if it is free."
   ]
  },
  {
   "cell_type": "code",
   "execution_count": 46,
   "metadata": {
    "deletable": false,
    "nbgrader": {
     "cell_type": "code",
     "checksum": "dca69a3af68b61f9f1e6f1f7b461d225",
     "grade": false,
     "grade_id": "cell-e62699b623fa1fb6",
     "locked": false,
     "schema_version": 3,
     "solution": true,
     "task": false
    }
   },
   "outputs": [],
   "source": [
    "# pp_01_a_dijkstra\n",
    "import numpy as np\n",
    "# Allowed movements and costs on the grid.\n",
    "# Each tuple is: (movement_x, movement_y, cost).\n",
    "s2 = np.sqrt(2) #斜着走的长度\n",
    "movements = [ # Direct neighbors (4N). （x,y,distance）\n",
    "              (1,0, 1.), (0,1, 1.), (-1,0, 1.), (0,-1, 1.),\n",
    "              # Diagonal neighbors.\n",
    "              # Comment this out to play with 4N only (faster).\n",
    "              (1,1, s2), (-1,1, s2), (-1,-1, s2), (1,-1, s2),\n",
    "            ]\n",
    "\n",
    "def dijkstra(start, goal, obstacles, movements):\n",
    "    \"\"\"Dijkstra's algorithm. First version does not use a heap.\"\"\"\n",
    "    # In the beginning, the start is the only element in our front.\n",
    "    # The first element is the cost of the path from the start to the point.\n",
    "    # The second element is the position (cell) of the point.\n",
    "    front = [ (0.0, start) ]\n",
    "\n",
    "    # In the beginning, no cell has been visited.\n",
    "    extents = obstacles.shape\n",
    "    visited = np.zeros(extents, dtype=np.float32)#一个在内存中占32个bits，也就是4bytes\n",
    "\n",
    "    # While there are elements to investigate（调查） in our front.\n",
    "    # YOUR CODE HERE\n",
    "    \n",
    "   \n",
    "    \n",
    "    #raise NotImplementedError()\n",
    "\n",
    "    while front:\n",
    "        # Get smallest item and remove it from front.\n",
    "        # CHANGE 01_a:\n",
    "        # - Get smallest element from 'front'. Hint: min() may be useful.\n",
    "        # - Remove this element from 'front'. Hint: 'front' is a list.\n",
    "        element_min = min(front)\n",
    "        front.remove(element_min)\n",
    "        # Check if this has been visited already.\n",
    "        cost, pos = element_min  # Change if you named 'element' differently.\n",
    "        # CHANGE 01_a: Skip the rest of the loop body if visited[pos] is > 0.\n",
    "        if visited[pos] > 0:\n",
    "            continue\n",
    "        # Now it is visited. Mark with 1.\n",
    "        # CHANGE 01_a: Set visited[pos] to 1.\n",
    "        visited[pos] = 1\n",
    "        # Check if the goal has been reached.\n",
    "        if pos == goal:\n",
    "            break  # Finished!\n",
    "\n",
    "        # Check all neighbors.\n",
    "        for dx, dy, deltacost in movements:\n",
    "            # Determine new position and check bounds.\n",
    "            # CHANGE 01_a:\n",
    "            # - Compute new_x and new_y from old position 'pos' and dx, dy.\n",
    "            # - Check that new_x is >= 0 and < extents[0], similarly for new_y.\n",
    "            # - If not, skip the remaining part of this loop.\n",
    "            new_x = pos[0] + dx;\n",
    "            new_y = pos[1] + dy;\n",
    "            if not(new_x >= 0 and new_x < extents[0] and new_y >= 0 and new_y < extents[1]):\n",
    "                continue\n",
    "            # Add to front if: not visited before and no obstacle.\n",
    "            new_pos = (new_x, new_y)\n",
    "            # CHANGE 01_a:\n",
    "            # If visited is 0 and obstacles is not 255 (both at new_pos), then:\n",
    "            # append the tuple (cost + deltacost, new_pos) to the front.\n",
    "            if visited[new_pos] == 0 and obstacles[new_pos] != 255:\n",
    "                front.append((cost + deltacost, new_pos))\n",
    "    return ([], visited)"
   ]
  },
  {
   "cell_type": "markdown",
   "metadata": {
    "deletable": false,
    "editable": false,
    "nbgrader": {
     "cell_type": "markdown",
     "checksum": "4c83d25d9987e9c09e4c26030a7838e0",
     "grade": false,
     "grade_id": "cell-087ca3de122e698b",
     "locked": true,
     "schema_version": 3,
     "solution": false,
     "task": false
    }
   },
   "source": [
    "First, the test."
   ]
  },
  {
   "cell_type": "code",
   "execution_count": 47,
   "metadata": {
    "deletable": false,
    "editable": false,
    "nbgrader": {
     "cell_type": "code",
     "checksum": "f3f08ffd4e2188673587b2e06986535f",
     "grade": true,
     "grade_id": "cell-c239df17935d9405",
     "locked": true,
     "points": 20,
     "schema_version": 3,
     "solution": false,
     "task": false
    }
   },
   "outputs": [],
   "source": [
    "import numpy as np\n",
    "from scipy.ndimage import minimum_filter\n",
    "from numpy.random import default_rng\n",
    "rng = default_rng()\n",
    "\n",
    "def dt(obstacles, start):\n",
    "    acc = np.full_like(obstacles, np.inf, dtype=float)\n",
    "    acc[start] = 1\n",
    "    m4 = np.array([[0,1,0],[1,0,1],[0,1,0]]).astype(bool)\n",
    "    m4d = np.array([[1,0,1],[0,1,0],[1,0,1]]).astype(bool)\n",
    "    ps2 = 2**(np.sqrt(2))\n",
    "    obsm = obstacles > 0\n",
    "    acc[obsm] = np.inf\n",
    "    accp = np.zeros_like(acc)\n",
    "    while (accp != acc).any():\n",
    "        accp = acc\n",
    "        acc = np.minimum(acc, 2*minimum_filter(acc, footprint=m4))\n",
    "        acc[obsm] = np.inf\n",
    "        acc = np.minimum(acc, ps2*minimum_filter(acc, footprint=m4d))\n",
    "        acc[obsm] = np.inf\n",
    "    return np.log2(acc)\n",
    "\n",
    "def test(the_function):\n",
    "    s2 = np.sqrt(2)\n",
    "    movements = [ (1,0, 1.), (0,1, 1.), (-1,0, 1.), (0,-1, 1.),\n",
    "                  (1,1, s2), (-1,1, s2), (-1,-1, s2), (1,-1, s2) ]\n",
    "    n = 8\n",
    "    for experiment in range(100):\n",
    "        # Random start and goal.\n",
    "        sg = rng.integers(0,n,size=(2,2))\n",
    "        start, goal = tuple(sg[0]), tuple(sg[1])\n",
    "        # Random number of obstacles in random places.\n",
    "        obs_idx = rng.integers(0, n, size=(rng.integers(0, n*n), 2))\n",
    "        obstacles = np.zeros((n,n), dtype=np.uint8)\n",
    "        obstacles[obs_idx[:,0], obs_idx[:,1]] = 255\n",
    "        obstacles[start] = 0  # Never on start or goal.\n",
    "        obstacles[goal] = 0\n",
    "\n",
    "        # Call user function.    \n",
    "        path, visited = the_function(start, goal, obstacles, movements)\n",
    "        if path != []:\n",
    "            print(\"Returned path should be empty.\")\n",
    "            return False\n",
    "\n",
    "        # Compute df.\n",
    "        eps = 1e-3\n",
    "        d = dt(obstacles, start)\n",
    "        dg = d[goal]\n",
    "        if dg < np.inf and visited[goal] != 1:\n",
    "            print(\"Goal not in visited\")\n",
    "            return False\n",
    "        inside = d < dg-eps\n",
    "        outside = (d==np.inf) if dg==np.inf else (d > dg+eps)\n",
    "        if not ((visited[inside]==1).all() and (visited[outside]==0).all()):\n",
    "            print(\"Error: for start, goal:\", start, goal, \"and obstacles\\n\",\n",
    "                  obstacles, \"\\nvisited was\\n\", visited,\n",
    "                  \"\\nand distances were\\n\", np.round(d,1))\n",
    "            return False\n",
    "    return True\n",
    "assert test(dijkstra), \"Oh no, it's wrong!\""
   ]
  },
  {
   "cell_type": "markdown",
   "metadata": {
    "deletable": false,
    "editable": false,
    "nbgrader": {
     "cell_type": "markdown",
     "checksum": "ee9c0b0b59eee8a0d34589eb303c1239",
     "grade": false,
     "grade_id": "cell-ccf2af614bc1c190",
     "locked": true,
     "schema_version": 3,
     "solution": false,
     "task": false
    }
   },
   "source": [
    "### Try your algorithm in the interactive viewer!\n",
    "Here is a short manual:\n",
    "- Hold the left mouse button and drag the mouse to set obstacles\n",
    "- Hold the middle or right mouse button and drag the mouse to clear obstacles\n",
    "- Hold shift and click the left mouse button to set the start point\n",
    "- Hold shift and click the middle or right mouse button to set the goal point\n",
    "- Press the Clear button below the canvas to remove all obstacles.\n",
    "\n",
    "When you release the mouse buttons, your `dijkstra()` implementation from above will be called and the visited cells it returns will be drawn in green. This may take a few seconds (depending on the distance between your start and goal), as our implementation is not yet efficient."
   ]
  },
  {
   "cell_type": "code",
   "execution_count": 9,
   "metadata": {
    "deletable": false,
    "editable": false,
    "nbgrader": {
     "cell_type": "code",
     "checksum": "59913f19c30f9837271ffa0e7340be69",
     "grade": false,
     "grade_id": "cell-ca5077a089b2ffae",
     "locked": true,
     "schema_version": 3,
     "solution": false,
     "task": false
    }
   },
   "outputs": [
    {
     "data": {
      "application/vnd.jupyter.widget-view+json": {
       "model_id": "8385ebef5879482abc72fa09b94de2fc",
       "version_major": 2,
       "version_minor": 0
      },
      "text/plain": [
       "AppLayout(children=(HBox(children=(Button(description='Clear', style=ButtonStyle(), tooltip='clear obstacles')…"
      ]
     },
     "metadata": {},
     "output_type": "display_data"
    }
   ],
   "source": [
    "from ipy_ppviewer import PPViewer\n",
    "class MyPPViewer(PPViewer):\n",
    "    def compute(self, x1, y1, t1, x2, y2, t2, obstacles, potential):\n",
    "        return dijkstra((x1,y1), (x2,y2), obstacles, movements)\n",
    "MyPPViewer(200, 150).run()"
   ]
  },
  {
   "cell_type": "markdown",
   "metadata": {
    "deletable": false,
    "editable": false,
    "nbgrader": {
     "cell_type": "markdown",
     "checksum": "8846b66471f8626f3db395c48c14f7d9",
     "grade": false,
     "grade_id": "cell-69c6550d96bfeb37",
     "locked": true,
     "schema_version": 3,
     "solution": false,
     "task": false
    }
   },
   "source": [
    "## The Algorithm of Dijkstra: distance from the start node\n",
    "\n",
    "Next, instead of just marking which nodes are visited, we will instead record the distance of each visited node from the start node. We will use the same array `visited` for this, so the major change in comparison to the previous code will be to store the \"cost from start\" instead of \"1\" when we visit a node. As explained in the video, we will also start our search with a very small positive cost (instead of 0.0), to keep the semantics of \"any node with cost greater than zero has been visited\"."
   ]
  },
  {
   "cell_type": "code",
   "execution_count": 48,
   "metadata": {
    "deletable": false,
    "editable": false,
    "nbgrader": {
     "cell_type": "code",
     "checksum": "c0e42db82b3e8ac344855402724d793a",
     "grade": false,
     "grade_id": "cell-93aa2fd6f839fbb4",
     "locked": true,
     "schema_version": 3,
     "solution": false,
     "task": false
    }
   },
   "outputs": [
    {
     "data": {
      "text/html": [
       "\n",
       "        <iframe\n",
       "            width=\"560\"\n",
       "            height=\"315\"\n",
       "            src=\"//av.tib.eu/player/49041\"\n",
       "            frameborder=\"0\"\n",
       "            allowfullscreen\n",
       "        ></iframe>\n",
       "        "
      ],
      "text/plain": [
       "<IPython.lib.display.IFrame at 0x7efe695b2790>"
      ]
     },
     "execution_count": 48,
     "metadata": {},
     "output_type": "execute_result"
    }
   ],
   "source": [
    "# If you don't see a video below, run this cell.\n",
    "from IPython.display import IFrame\n",
    "IFrame(\"https://www.youtube.com/embed/n_xxEIwVO44\" if \"YouTube\" in globals() else \"//av.tib.eu/player/49041\",\n",
    "       width=560, height=315)"
   ]
  },
  {
   "cell_type": "markdown",
   "metadata": {
    "deletable": false,
    "editable": false,
    "nbgrader": {
     "cell_type": "markdown",
     "checksum": "387e5504481edda042b501f761e410b1",
     "grade": false,
     "grade_id": "cell-1a728f9e5b37e34e",
     "locked": true,
     "schema_version": 3,
     "solution": false,
     "task": false
    }
   },
   "source": [
    "### Programming assignment: modify your previous code so that the distances are returned (5 Points)."
   ]
  },
  {
   "cell_type": "code",
   "execution_count": 49,
   "metadata": {
    "deletable": false,
    "nbgrader": {
     "cell_type": "code",
     "checksum": "a2f5826f98ff5f2348d0eb40ebb35ebd",
     "grade": false,
     "grade_id": "cell-0af26483341c7ea3",
     "locked": false,
     "schema_version": 3,
     "solution": true,
     "task": false
    }
   },
   "outputs": [],
   "source": [
    "# pp_01_b_dijkstra_visited\n",
    "def dijkstra_2(start, goal, obstacles, movements):\n",
    "    \"\"\"Dijkstra's algorithm, second version records cost in 'visited' array.\"\"\"\n",
    "    # In the beginning, the start is the only element in our front.\n",
    "    # The first element is the cost of the path from the start to the point.\n",
    "    # The second element is the position (cell) of the point.\n",
    "    front = [ (0.001, start) ]  # CHANGE 01_b: set the cost to e.g. 0.001\n",
    "\n",
    "    # In the beginning, no cell has been visited.\n",
    "    extents = obstacles.shape\n",
    "    visited = np.zeros(extents, dtype=np.float32)\n",
    "\n",
    "    # While there are elements to investigate in our front.\n",
    "    # YOUR CODE HERE\n",
    "    #raise NotImplementedError()\n",
    "\n",
    "    while front:\n",
    "        # Get smallest item and remove it from front.\n",
    "        element_min = min(front)\n",
    "        front.remove(element_min)\n",
    "        # Check if this has been visited already.\n",
    "        cost, pos = element_min\n",
    "        if visited[pos] > 0:\n",
    "            continue\n",
    "        # Now it is visited. Mark with cost.\n",
    "        # CHANGE 01_b: set visited[pos] to cost instead of 1.\n",
    "        \n",
    "        visited[pos] = cost\n",
    "        # Check if the goal has been reached.\n",
    "        if pos == goal:\n",
    "            break  # Finished!\n",
    "\n",
    "        # Check all neighbors.\n",
    "        for dx, dy, deltacost in movements:\n",
    "            # Determine new position and check bounds.\n",
    "            new_x = pos[0] + dx;\n",
    "            new_y = pos[1] + dy;\n",
    "            if not(new_x >= 0 and new_x < extents[0] and new_y >= 0 and new_y < extents[1]):\n",
    "                continue\n",
    "            # Add to front if: not visited before and no obstacle.\n",
    "            new_pos = (new_x, new_y)\n",
    "            if visited[new_pos] == 0 and obstacles[new_pos] != 255:\n",
    "                front.append((cost + deltacost, new_pos))\n",
    "    return ([], visited)"
   ]
  },
  {
   "cell_type": "markdown",
   "metadata": {
    "deletable": false,
    "editable": false,
    "nbgrader": {
     "cell_type": "markdown",
     "checksum": "7187a7af585be6968f1d643498dfedd5",
     "grade": false,
     "grade_id": "cell-aed7879035ccb13c",
     "locked": true,
     "schema_version": 3,
     "solution": false,
     "task": false
    }
   },
   "source": [
    "First the test. This test is also very similar to the previous one, except that it tests for the correct distances instead of just testing if a node is visited or not."
   ]
  },
  {
   "cell_type": "code",
   "execution_count": 50,
   "metadata": {
    "deletable": false,
    "editable": false,
    "nbgrader": {
     "cell_type": "code",
     "checksum": "cf04f6110f3d562c6823191a38dacf4f",
     "grade": true,
     "grade_id": "cell-3b1433fe53d267a2",
     "locked": true,
     "points": 5,
     "schema_version": 3,
     "solution": false,
     "task": false
    }
   },
   "outputs": [],
   "source": [
    "import numpy as np\n",
    "from scipy.ndimage import minimum_filter\n",
    "from numpy.random import default_rng\n",
    "rng = default_rng()\n",
    "\n",
    "def dt(obstacles, start):\n",
    "    acc = np.full_like(obstacles, np.inf, dtype=float)\n",
    "    acc[start] = 1\n",
    "    m4 = np.array([[0,1,0],[1,0,1],[0,1,0]]).astype(bool)\n",
    "    m4d = np.array([[1,0,1],[0,1,0],[1,0,1]]).astype(bool)\n",
    "    ps2 = 2**(np.sqrt(2))\n",
    "    obsm = obstacles > 0\n",
    "    acc[obsm] = np.inf\n",
    "    accp = np.zeros_like(acc)\n",
    "    while (accp != acc).any():\n",
    "        accp = acc\n",
    "        acc = np.minimum(acc, 2*minimum_filter(acc, footprint=m4))\n",
    "        acc[obsm] = np.inf\n",
    "        acc = np.minimum(acc, ps2*minimum_filter(acc, footprint=m4d))\n",
    "        acc[obsm] = np.inf\n",
    "    return np.log2(acc)\n",
    "\n",
    "def test(the_function):\n",
    "    s2 = np.sqrt(2)\n",
    "    movements = [ (1,0, 1.), (0,1, 1.), (-1,0, 1.), (0,-1, 1.),\n",
    "                  (1,1, s2), (-1,1, s2), (-1,-1, s2), (1,-1, s2) ]\n",
    "    n = 8\n",
    "    for experiment in range(100):\n",
    "        # Random start and goal.\n",
    "        sg = rng.integers(0,n,size=(2,2))\n",
    "        start, goal = tuple(sg[0]), tuple(sg[1])\n",
    "        # Random number of obstacles in random places.\n",
    "        obs_idx = rng.integers(0, n, size=(rng.integers(0, n*n), 2))\n",
    "        obstacles = np.zeros((n,n), dtype=np.uint8)\n",
    "        obstacles[obs_idx[:,0], obs_idx[:,1]] = 255\n",
    "        obstacles[start] = 0  # Never on start or goal.\n",
    "        obstacles[goal] = 0\n",
    "\n",
    "        # Call user function.    \n",
    "        path, visited = the_function(start, goal, obstacles, movements)\n",
    "        if path != []:\n",
    "            print(\"Returned path should be empty.\")\n",
    "            return False\n",
    "        offset = visited[start]\n",
    "        if offset <= 0 or offset >= 1:\n",
    "            print(\"You should start the search with a small positive offset.\")\n",
    "            return False\n",
    "\n",
    "        # Compute df.\n",
    "        eps = 1e-3\n",
    "        d = dt(obstacles, start) + offset\n",
    "        dg = d[goal]\n",
    "        if dg < np.inf and not (dg-eps < visited[goal] < dg+eps):\n",
    "            print(\"Goal has wrong cost.\")\n",
    "            return False\n",
    "        inside = d < dg-eps\n",
    "        outside = (d==np.inf) if dg==np.inf else (d > dg+eps)\n",
    "        if not (np.abs(visited[inside] - d[inside]) < eps).all() or\\\n",
    "           not (visited[outside]==0).all():\n",
    "            print(\"Error: for start, goal:\", start, goal, \"and obstacles\\n\",\n",
    "                  obstacles, \"\\nvisited was\\n\", np.round(visited,1),\n",
    "                  \"\\nand distances were\\n\", np.round(d,1))\n",
    "            return False\n",
    "    return True\n",
    "assert test(dijkstra_2), \"Oh no, it's wrong!\""
   ]
  },
  {
   "cell_type": "markdown",
   "metadata": {
    "deletable": false,
    "editable": false,
    "nbgrader": {
     "cell_type": "markdown",
     "checksum": "ce303ba8d8785cf891ed8dc0005c654b",
     "grade": false,
     "grade_id": "cell-97440f5003c4323a",
     "locked": true,
     "schema_version": 3,
     "solution": false,
     "task": false
    }
   },
   "source": [
    "### Then, have a look!\n",
    "Now after setting start and goal (remember: use shift-left click and shift-middle/right click to set start and goal, respectively), you will see a \"green gradient\" instead of a \"flat green\" for all visited nodes. Also play with setting and removing obstacles!"
   ]
  },
  {
   "cell_type": "code",
   "execution_count": 51,
   "metadata": {
    "deletable": false,
    "editable": false,
    "nbgrader": {
     "cell_type": "code",
     "checksum": "c0a0684f33013a896dbceb42ff49d4a8",
     "grade": false,
     "grade_id": "cell-b6210cb1c796ceb2",
     "locked": true,
     "schema_version": 3,
     "solution": false,
     "task": false
    }
   },
   "outputs": [
    {
     "data": {
      "application/vnd.jupyter.widget-view+json": {
       "model_id": "b7a4bf462a364d72931ecc0ae12aca53",
       "version_major": 2,
       "version_minor": 0
      },
      "text/plain": [
       "AppLayout(children=(HBox(children=(Button(description='Clear', style=ButtonStyle(), tooltip='clear obstacles')…"
      ]
     },
     "metadata": {},
     "output_type": "display_data"
    }
   ],
   "source": [
    "from ipy_ppviewer import PPViewer\n",
    "class MyPPViewer(PPViewer):\n",
    "    def compute(self, x1, y1, t1, x2, y2, t2, obstacles, potential):\n",
    "        return dijkstra_2((x1,y1), (x2,y2), obstacles, movements)\n",
    "MyPPViewer(200, 150).run()"
   ]
  },
  {
   "cell_type": "markdown",
   "metadata": {
    "deletable": false,
    "editable": false,
    "nbgrader": {
     "cell_type": "markdown",
     "checksum": "f08356b8f7fb915139b96e92c7d90b17",
     "grade": false,
     "grade_id": "cell-fe2e886956b377e2",
     "locked": true,
     "schema_version": 3,
     "solution": false,
     "task": false
    }
   },
   "source": [
    "## Speeding up the algorithm of Dijkstra by adding a heap.\n",
    "\n",
    "In this modification, we will keep the functionality, but improve the speed considerably. If you know about the concept of *asymptotic runtime*, and/or [*Big O notation*](https://en.wikipedia.org/wiki/Big_O_notation), our modification will bring us from an $O(n^2)$ algorithm to a $O(n\\cdot \\log n)$ algorithm, or in words, from a quadratic to a quasilinear algorithm."
   ]
  },
  {
   "cell_type": "code",
   "execution_count": 52,
   "metadata": {
    "deletable": false,
    "editable": false,
    "nbgrader": {
     "cell_type": "code",
     "checksum": "6b853035e5c6ffc9ee0f27fbf40678e6",
     "grade": false,
     "grade_id": "cell-4a1122dcf53d6245",
     "locked": true,
     "schema_version": 3,
     "solution": false,
     "task": false
    }
   },
   "outputs": [
    {
     "data": {
      "text/html": [
       "\n",
       "        <iframe\n",
       "            width=\"560\"\n",
       "            height=\"315\"\n",
       "            src=\"//av.tib.eu/player/49042\"\n",
       "            frameborder=\"0\"\n",
       "            allowfullscreen\n",
       "        ></iframe>\n",
       "        "
      ],
      "text/plain": [
       "<IPython.lib.display.IFrame at 0x7efe695b27d0>"
      ]
     },
     "execution_count": 52,
     "metadata": {},
     "output_type": "execute_result"
    }
   ],
   "source": [
    "# If you don't see a video below, run this cell.\n",
    "from IPython.display import IFrame\n",
    "IFrame(\"https://www.youtube.com/embed/FEdid3OXTcw\" if \"YouTube\" in globals() else \"//av.tib.eu/player/49042\",\n",
    "       width=560, height=315)"
   ]
  },
  {
   "cell_type": "markdown",
   "metadata": {
    "deletable": false,
    "editable": false,
    "nbgrader": {
     "cell_type": "markdown",
     "checksum": "8a88f07cf304f9c31f83a78b72775a9a",
     "grade": false,
     "grade_id": "cell-6d31f778c14641fb",
     "locked": true,
     "schema_version": 3,
     "solution": false,
     "task": false
    }
   },
   "source": [
    "### Programming assignment: modify your previous code to use a heap (5 Points)."
   ]
  },
  {
   "cell_type": "code",
   "execution_count": 53,
   "metadata": {
    "deletable": false,
    "nbgrader": {
     "cell_type": "code",
     "checksum": "9b40e90247d957d4b56bf4e1c30d336b",
     "grade": false,
     "grade_id": "cell-242961c2a17a121a",
     "locked": false,
     "schema_version": 3,
     "solution": true,
     "task": false
    }
   },
   "outputs": [],
   "source": [
    "# pp_01_c_dijkstra_heap\n",
    "from heapq import heappush, heappop\n",
    "def dijkstra_3(start, goal, obstacles, movements):\n",
    "    \"\"\"Dijkstra's algorithm. Third version introduces a heap and is faster.\"\"\"\n",
    "    # In the beginning, the start is the only element in our front.\n",
    "    # The first element is the cost of the path from the start to the point.\n",
    "    # The second element is the position (cell) of the point.\n",
    "    front = [ (0.001, start) ]\n",
    "\n",
    "    # In the beginning, no cell has been visited.\n",
    "    extents = obstacles.shape\n",
    "    visited = np.zeros(extents, dtype=np.float32)\n",
    "\n",
    "    # While there are elements to investigate in our front.\n",
    "    # YOUR CODE HERE\n",
    "    #raise NotImplementedError()\n",
    "    while front:\n",
    "        # Get smallest item and remove from front.\n",
    "        # CHANGE 01_c: replace the minimum search and removal of element\n",
    "        #   by a single call to heappop()\n",
    "\n",
    "        element_min = heappop(front)\n",
    "        \n",
    "        cost, pos = element_min\n",
    "        \n",
    "        # Check if this has been visited already.\n",
    "        if visited[pos] > 0:\n",
    "            continue\n",
    "    \n",
    "\n",
    "        # Now it is visited. Mark with cost.\n",
    "        visited[pos] = cost\n",
    "        # Check if the goal has been reached.\n",
    "        if pos == goal:\n",
    "            break  # Finished!\n",
    "\n",
    "        # Check all neighbors.\n",
    "        for dx, dy, deltacost in movements:\n",
    "            # Determine new position and check bounds.\n",
    "            new_x = pos[0] + dx;\n",
    "            new_y = pos[1] + dy;\n",
    "            if not(new_x >= 0 and new_x < extents[0] and new_y >= 0 and new_y < extents[1]):\n",
    "                continue\n",
    "            # Add to front if: not visited before and no obstacle.\n",
    "            new_pos = (new_x, new_y)\n",
    "            # CHANGE 01_c: instead of calling append() on the list, use\n",
    "            #   heappush(). This will move the new tuple to the correct\n",
    "            #   location in the heap.\n",
    "            if visited[new_pos] == 0 and obstacles[new_pos] != 255:\n",
    "                heappush(front, (cost+deltacost, new_pos))\n",
    "    return ([], visited)"
   ]
  },
  {
   "cell_type": "markdown",
   "metadata": {
    "deletable": false,
    "editable": false,
    "nbgrader": {
     "cell_type": "markdown",
     "checksum": "63bfe6cad94292da5d714acb5bb91dc3",
     "grade": false,
     "grade_id": "cell-b89b9ee3ce0a1287",
     "locked": true,
     "schema_version": 3,
     "solution": false,
     "task": false
    }
   },
   "source": [
    "First, the test."
   ]
  },
  {
   "cell_type": "code",
   "execution_count": 54,
   "metadata": {
    "deletable": false,
    "editable": false,
    "nbgrader": {
     "cell_type": "code",
     "checksum": "e194801cdc46b86db8bfae7d8f3204ad",
     "grade": true,
     "grade_id": "cell-a7b5241b9d2fde28",
     "locked": true,
     "points": 5,
     "schema_version": 3,
     "solution": false,
     "task": false
    }
   },
   "outputs": [],
   "source": [
    "import numpy as np\n",
    "from scipy.ndimage import minimum_filter\n",
    "from numpy.random import default_rng\n",
    "rng = default_rng()\n",
    "\n",
    "def dt(obstacles, start):\n",
    "    acc = np.full_like(obstacles, np.inf, dtype=float)\n",
    "    acc[start] = 1\n",
    "    m4 = np.array([[0,1,0],[1,0,1],[0,1,0]]).astype(bool)\n",
    "    m4d = np.array([[1,0,1],[0,1,0],[1,0,1]]).astype(bool)\n",
    "    ps2 = 2**(np.sqrt(2))\n",
    "    obsm = obstacles > 0\n",
    "    acc[obsm] = np.inf\n",
    "    accp = np.zeros_like(acc)\n",
    "    while (accp != acc).any():\n",
    "        accp = acc\n",
    "        acc = np.minimum(acc, 2*minimum_filter(acc, footprint=m4))\n",
    "        acc[obsm] = np.inf\n",
    "        acc = np.minimum(acc, ps2*minimum_filter(acc, footprint=m4d))\n",
    "        acc[obsm] = np.inf\n",
    "    return np.log2(acc)\n",
    "\n",
    "def test(the_function):\n",
    "    s2 = np.sqrt(2)\n",
    "    movements = [ (1,0, 1.), (0,1, 1.), (-1,0, 1.), (0,-1, 1.),\n",
    "                  (1,1, s2), (-1,1, s2), (-1,-1, s2), (1,-1, s2) ]\n",
    "    n = 8\n",
    "    for experiment in range(100):\n",
    "        # Random start and goal.\n",
    "        sg = rng.integers(0,n,size=(2,2))\n",
    "        start, goal = tuple(sg[0]), tuple(sg[1])\n",
    "        # Random number of obstacles in random places.\n",
    "        obs_idx = rng.integers(0, n, size=(rng.integers(0, n*n), 2))\n",
    "        obstacles = np.zeros((n,n), dtype=np.uint8)\n",
    "        obstacles[obs_idx[:,0], obs_idx[:,1]] = 255\n",
    "        obstacles[start] = 0  # Never on start or goal.\n",
    "        obstacles[goal] = 0\n",
    "\n",
    "        # Call user function.    \n",
    "        path, visited = the_function(start, goal, obstacles, movements)\n",
    "        if path != []:\n",
    "            print(\"Returned path should be empty.\")\n",
    "            return False\n",
    "        offset = visited[start]\n",
    "        if offset <= 0 or offset >= 1:\n",
    "            print(\"You should start the search with a small positive offset.\")\n",
    "            return False\n",
    "\n",
    "        # Compute df.\n",
    "        eps = 1e-3\n",
    "        d = dt(obstacles, start) + offset\n",
    "        dg = d[goal]\n",
    "        if dg < np.inf and not (dg-eps < visited[goal] < dg+eps):\n",
    "            print(\"Goal has wrong cost.\")\n",
    "            return False\n",
    "        inside = d < dg-eps\n",
    "        outside = (d==np.inf) if dg==np.inf else (d > dg+eps)\n",
    "        if not (np.abs(visited[inside] - d[inside]) < eps).all() or\\\n",
    "           not (visited[outside]==0).all():\n",
    "            print(\"Error: for start, goal:\", start, goal, \"and obstacles\\n\",\n",
    "                  obstacles, \"\\nvisited was\\n\", np.round(visited,1),\n",
    "                  \"\\nand distances were\\n\", np.round(d,1))\n",
    "            return False\n",
    "    return True\n",
    "assert test(dijkstra_3), \"Oh no, it's wrong!\""
   ]
  },
  {
   "cell_type": "markdown",
   "metadata": {
    "deletable": false,
    "editable": false,
    "nbgrader": {
     "cell_type": "markdown",
     "checksum": "409e403016c10a32efb0635d79354067",
     "grade": false,
     "grade_id": "cell-8eeddab3209af8c4",
     "locked": true,
     "schema_version": 3,
     "solution": false,
     "task": false
    }
   },
   "source": [
    "### Try it out interactively!\n",
    "You should notice that the solution now runs considerably faster."
   ]
  },
  {
   "cell_type": "code",
   "execution_count": 55,
   "metadata": {
    "deletable": false,
    "editable": false,
    "nbgrader": {
     "cell_type": "code",
     "checksum": "3b132cf183875e000647f10893ea0acf",
     "grade": false,
     "grade_id": "cell-15ba60876a631e25",
     "locked": true,
     "schema_version": 3,
     "solution": false,
     "task": false
    }
   },
   "outputs": [
    {
     "data": {
      "application/vnd.jupyter.widget-view+json": {
       "model_id": "8de5acd67902483184791284d28c1551",
       "version_major": 2,
       "version_minor": 0
      },
      "text/plain": [
       "AppLayout(children=(HBox(children=(Button(description='Clear', style=ButtonStyle(), tooltip='clear obstacles')…"
      ]
     },
     "metadata": {},
     "output_type": "display_data"
    }
   ],
   "source": [
    "from ipy_ppviewer import PPViewer\n",
    "class MyPPViewer(PPViewer):\n",
    "    def compute(self, x1, y1, t1, x2, y2, t2, obstacles, potential):\n",
    "        return dijkstra_3((x1,y1), (x2,y2), obstacles, movements)\n",
    "MyPPViewer(200, 150).run()"
   ]
  },
  {
   "cell_type": "markdown",
   "metadata": {
    "deletable": false,
    "editable": false,
    "nbgrader": {
     "cell_type": "markdown",
     "checksum": "0a70b0e42eaae4214e0e4d1472070e9c",
     "grade": false,
     "grade_id": "cell-9665aa46de73683d",
     "locked": true,
     "schema_version": 3,
     "solution": false,
     "task": false
    }
   },
   "source": [
    "## Reconstructing the path\n",
    "So far, we found out the shortest distance to the goal, but we did not figure out *how to get from start to goal*. As we will see, this requires only minor modifications."
   ]
  },
  {
   "cell_type": "code",
   "execution_count": 56,
   "metadata": {
    "deletable": false,
    "editable": false,
    "nbgrader": {
     "cell_type": "code",
     "checksum": "5fa5c20acea83419a42f2637cf59bc5c",
     "grade": false,
     "grade_id": "cell-530af7285a8029c0",
     "locked": true,
     "schema_version": 3,
     "solution": false,
     "task": false
    }
   },
   "outputs": [
    {
     "data": {
      "text/html": [
       "\n",
       "        <iframe\n",
       "            width=\"560\"\n",
       "            height=\"315\"\n",
       "            src=\"//av.tib.eu/player/49043\"\n",
       "            frameborder=\"0\"\n",
       "            allowfullscreen\n",
       "        ></iframe>\n",
       "        "
      ],
      "text/plain": [
       "<IPython.lib.display.IFrame at 0x7efe69b95610>"
      ]
     },
     "execution_count": 56,
     "metadata": {},
     "output_type": "execute_result"
    }
   ],
   "source": [
    "# If you don't see a video below, run this cell.\n",
    "from IPython.display import IFrame\n",
    "IFrame(\"https://www.youtube.com/embed/sVSV2lOq6UM\" if \"YouTube\" in globals() else \"//av.tib.eu/player/49043\",\n",
    "       width=560, height=315)"
   ]
  },
  {
   "cell_type": "markdown",
   "metadata": {
    "deletable": false,
    "editable": false,
    "nbgrader": {
     "cell_type": "markdown",
     "checksum": "3d918df0afc6770bb19193cd26077d6f",
     "grade": false,
     "grade_id": "cell-839517b8a7de9c66",
     "locked": true,
     "schema_version": 3,
     "solution": false,
     "task": false
    }
   },
   "source": [
    "### Programming assignment: reconstruct the path (5 Points)."
   ]
  },
  {
   "cell_type": "code",
   "execution_count": 57,
   "metadata": {
    "deletable": false,
    "nbgrader": {
     "cell_type": "code",
     "checksum": "26c114240beb3ddf7a7f9d5b603aead6",
     "grade": false,
     "grade_id": "cell-c618c7e03ec6b374",
     "locked": false,
     "schema_version": 3,
     "solution": true,
     "task": false
    }
   },
   "outputs": [],
   "source": [
    "# pp_01_d_dijkstra_path\n",
    "def dijkstra_4(start, goal, obstacles, movements):\n",
    "    \"\"\"Dijkstra's algorithm. Fourth version also returns optimal path.\"\"\"\n",
    "    # In the beginning, the start is the only element in our front.\n",
    "    # The first element is the cost of the path from the start to the point.\n",
    "    # The second element is the position (cell) of the point.\n",
    "    # The third component is the position we came from when entering the tuple\n",
    "    #   to the front.\n",
    "    front = [ (0.001, start,None) ]  # CHANGE 01_d: Add None to this tuple.\n",
    "\n",
    "    # In the beginning, no cell has been visited.\n",
    "    extents = obstacles.shape\n",
    "    visited = np.zeros(extents, dtype=np.float32)\n",
    "\n",
    "    # Also, we use a dictionary to remember where we came from.\n",
    "    came_from = {}  # CHANGE\n",
    "\n",
    "    # While there are elements to investigate in our front.\n",
    "    # YOUR CODE HERE\n",
    "    #raise NotImplementedError()\n",
    "\n",
    "    while front:\n",
    "        # Get smallest item and remove from front.\n",
    "        element_min = heappop(front)\n",
    "        # Check if this has been visited already.\n",
    "        cost, pos, previous = element_min  # CHANGE 01_d: add 'previous' (as shown).\n",
    "        if visited[pos] > 0:\n",
    "            continue\n",
    "        # Now it is visited. Mark with cost.\n",
    "        visited[pos] = cost\n",
    "        # Also remember that we came from previous when we marked pos.\n",
    "        # CHANGE 01_d: enter 'previous' (value) into the 'came_from' dictionary\n",
    "        #   at index (key) 'pos'.\n",
    "        came_from[pos] = previous \n",
    "        # Check if the goal has been reached.\n",
    "        if pos == goal:\n",
    "            break  # Finished!\n",
    "\n",
    "        # Check all neighbors.\n",
    "        for dx, dy, deltacost in movements:\n",
    "            # Determine new position and check bounds.\n",
    "            new_x = pos[0] + dx;\n",
    "            new_y = pos[1] + dy;\n",
    "            if not(new_x >= 0 and new_x < extents[0] and new_y >= 0 and new_y < extents[1]):\n",
    "                continue\n",
    "            # Add to front if: not visited before and no obstacle.\n",
    "            new_pos = (new_x, new_y)\n",
    "            # CHANGE 01_d: When push'ing the new tuple to the heap, make\n",
    "            #   sure it is a 3-tuple, with the last component of the tuple\n",
    "            #   being the position 'we came from' (which is 'pos').\n",
    "            if visited[new_pos] == 0 and obstacles[new_pos] != 255:\n",
    "                heappush(front, (cost+deltacost, new_pos, pos))\n",
    "    # CHANGE 01_d: Make sure to include the following code, which 'unwinds'\n",
    "    #   the path from goal to start, using the came_from dictionary.\n",
    "    #   Make sure to include the (modified!) return statement, otherwise\n",
    "    #   the path will not show up in the visualization.\n",
    "\n",
    "    # Reconstruct path, starting from goal.\n",
    "    path = []\n",
    "    if pos == goal:  # If we reached the goal, unwind backwards.\n",
    "        while pos:\n",
    "            path.append(pos)\n",
    "            pos = came_from[pos]\n",
    "        path.reverse()  # Reverse so that path is from start to goal.\n",
    "\n",
    "    return (path, visited)"
   ]
  },
  {
   "cell_type": "markdown",
   "metadata": {
    "deletable": false,
    "editable": false,
    "nbgrader": {
     "cell_type": "markdown",
     "checksum": "748963991c691caca3136bd590c8fb8e",
     "grade": false,
     "grade_id": "cell-3b1df393005a6769",
     "locked": true,
     "schema_version": 3,
     "solution": false,
     "task": false
    }
   },
   "source": [
    "As usual, first the test..."
   ]
  },
  {
   "cell_type": "code",
   "execution_count": 58,
   "metadata": {
    "deletable": false,
    "editable": false,
    "nbgrader": {
     "cell_type": "code",
     "checksum": "056ae5751c7a04a2c7dddc7ee5f1fb2c",
     "grade": true,
     "grade_id": "cell-f1af73dfa9c3a174",
     "locked": true,
     "points": 5,
     "schema_version": 3,
     "solution": false,
     "task": false
    }
   },
   "outputs": [],
   "source": [
    "import numpy as np\n",
    "from scipy.ndimage import minimum_filter\n",
    "from numpy.random import default_rng\n",
    "rng = default_rng()\n",
    "\n",
    "def dt(obstacles, start):\n",
    "    acc = np.full_like(obstacles, np.inf, dtype=float)\n",
    "    acc[start] = 1\n",
    "    m4 = np.array([[0,1,0],[1,0,1],[0,1,0]]).astype(bool)\n",
    "    m4d = np.array([[1,0,1],[0,1,0],[1,0,1]]).astype(bool)\n",
    "    ps2 = 2**(np.sqrt(2))\n",
    "    obsm = obstacles > 0\n",
    "    acc[obsm] = np.inf\n",
    "    accp = np.zeros_like(acc)\n",
    "    while (accp != acc).any():\n",
    "        accp = acc\n",
    "        acc = np.minimum(acc, 2*minimum_filter(acc, footprint=m4))\n",
    "        acc[obsm] = np.inf\n",
    "        acc = np.minimum(acc, ps2*minimum_filter(acc, footprint=m4d))\n",
    "        acc[obsm] = np.inf\n",
    "    return np.log2(acc)\n",
    "\n",
    "def test(the_function):\n",
    "    s2 = np.sqrt(2)\n",
    "    movements = [ (1,0, 1.), (0,1, 1.), (-1,0, 1.), (0,-1, 1.),\n",
    "                  (1,1, s2), (-1,1, s2), (-1,-1, s2), (1,-1, s2) ]\n",
    "    n = 8\n",
    "    for experiment in range(100):\n",
    "        # Random start and goal.\n",
    "        sg = rng.integers(0,n,size=(2,2))\n",
    "        start, goal = tuple(sg[0]), tuple(sg[1])\n",
    "        # Random number of obstacles in random places.\n",
    "        obs_idx = rng.integers(0, n, size=(rng.integers(0, n*n), 2))\n",
    "        obstacles = np.zeros((n,n), dtype=np.uint8)\n",
    "        obstacles[obs_idx[:,0], obs_idx[:,1]] = 255\n",
    "        obstacles[start] = 0  # Never on start or goal.\n",
    "        obstacles[goal] = 0\n",
    "\n",
    "        # Call user function.    \n",
    "        path, visited = the_function(start, goal, obstacles, movements)\n",
    "        offset = visited[start]\n",
    "        if offset <= 0 or offset >= 1:\n",
    "            print(\"You should start the search with a small positive offset.\")\n",
    "            return False\n",
    "\n",
    "        # Compute df.\n",
    "        eps = 1e-3\n",
    "        d = dt(obstacles, start) + offset\n",
    "        dg = d[goal]\n",
    "        if dg < np.inf and not (dg-eps < visited[goal] < dg+eps):\n",
    "            print(\"Goal has wrong cost.\")\n",
    "            return False\n",
    "        inside = d < dg-eps\n",
    "        outside = (d==np.inf) if dg==np.inf else (d > dg+eps)\n",
    "        if not (np.abs(visited[inside] - d[inside]) < eps).all() or\\\n",
    "           not (visited[outside]==0).all():\n",
    "            print(\"Error: for start, goal:\", start, goal, \"and obstacles\\n\",\n",
    "                  obstacles, \"\\nvisited was\\n\", np.round(visited,1),\n",
    "                  \"\\nand distances were\\n\", np.round(d,1))\n",
    "            return False\n",
    "\n",
    "        # Some path checks.\n",
    "        if dg < np.inf:\n",
    "            if tuple(path[0]) != start or\\\n",
    "               tuple(path[-1]) != goal:\n",
    "                print(\"Path start or goal is wrong.\")\n",
    "                return False\n",
    "            # Check that path has monotonously increasing cost.\n",
    "            costs = [d[p] for p in path]\n",
    "            if costs != sorted(costs):\n",
    "                print(\"Path is wrong - should have increasing cost.\")\n",
    "                return False\n",
    "            # Check that path proceeds in steps of one.\n",
    "            if len(path) > 1:\n",
    "                steps = [ (p[0],p[1],q[0],q[1]) for p, q in zip(path, path[1:])]\n",
    "                if max(abs(t[0]-t[2]) for t in steps) > 1 or\\\n",
    "                   max(abs(t[1]-t[3]) for t in steps) > 1:\n",
    "                    print(\"Path should have only +/-1 steps in x and y.\")\n",
    "                    return False\n",
    "    return True\n",
    "assert test(dijkstra_4), \"Oh no, it's wrong!\""
   ]
  },
  {
   "cell_type": "markdown",
   "metadata": {
    "deletable": false,
    "editable": false,
    "nbgrader": {
     "cell_type": "markdown",
     "checksum": "b4f911a8d7827d8dde9603dc1bb51813",
     "grade": false,
     "grade_id": "cell-b683d3cd50b65f9e",
     "locked": true,
     "schema_version": 3,
     "solution": false,
     "task": false
    }
   },
   "source": [
    "### Try it out... play with adding obstacles and watch how the path changes!"
   ]
  },
  {
   "cell_type": "code",
   "execution_count": 59,
   "metadata": {
    "deletable": false,
    "editable": false,
    "nbgrader": {
     "cell_type": "code",
     "checksum": "8efde344b21aa4d9c0e42469e0182055",
     "grade": false,
     "grade_id": "cell-ecdebb5b4b5ee6e8",
     "locked": true,
     "schema_version": 3,
     "solution": false,
     "task": false
    }
   },
   "outputs": [
    {
     "data": {
      "application/vnd.jupyter.widget-view+json": {
       "model_id": "703d2949652d442587b2e85115a81c11",
       "version_major": 2,
       "version_minor": 0
      },
      "text/plain": [
       "AppLayout(children=(HBox(children=(Button(description='Clear', style=ButtonStyle(), tooltip='clear obstacles')…"
      ]
     },
     "metadata": {},
     "output_type": "display_data"
    }
   ],
   "source": [
    "from ipy_ppviewer import PPViewer\n",
    "class MyPPViewer(PPViewer):\n",
    "    def compute(self, x1, y1, t1, x2, y2, t2, obstacles, potential):\n",
    "        return dijkstra_4((x1,y1), (x2,y2), obstacles, movements)\n",
    "MyPPViewer(200, 150).run()"
   ]
  },
  {
   "cell_type": "markdown",
   "metadata": {
    "deletable": false,
    "editable": false,
    "nbgrader": {
     "cell_type": "markdown",
     "checksum": "3e5d697b4002e26950d861a9e3a4061f",
     "grade": false,
     "grade_id": "cell-19625c7f5d4aa66f",
     "locked": true,
     "schema_version": 3,
     "solution": false,
     "task": false
    }
   },
   "source": [
    "## The cost function, and a greedy path search algorithm"
   ]
  },
  {
   "cell_type": "code",
   "execution_count": 60,
   "metadata": {
    "deletable": false,
    "editable": false,
    "nbgrader": {
     "cell_type": "code",
     "checksum": "7e0f312f08f5014b79566607069c6926",
     "grade": false,
     "grade_id": "cell-cb37e66a45deb8cd",
     "locked": true,
     "schema_version": 3,
     "solution": false,
     "task": false
    }
   },
   "outputs": [
    {
     "data": {
      "text/html": [
       "\n",
       "        <iframe\n",
       "            width=\"560\"\n",
       "            height=\"315\"\n",
       "            src=\"//av.tib.eu/player/49044\"\n",
       "            frameborder=\"0\"\n",
       "            allowfullscreen\n",
       "        ></iframe>\n",
       "        "
      ],
      "text/plain": [
       "<IPython.lib.display.IFrame at 0x7efe695b2b50>"
      ]
     },
     "execution_count": 60,
     "metadata": {},
     "output_type": "execute_result"
    }
   ],
   "source": [
    "# If you don't see a video below, run this cell.\n",
    "from IPython.display import IFrame\n",
    "IFrame(\"https://www.youtube.com/embed/Lq6XC9rWRDs\" if \"YouTube\" in globals() else \"//av.tib.eu/player/49044\",\n",
    "       width=560, height=315)"
   ]
  },
  {
   "cell_type": "markdown",
   "metadata": {
    "deletable": false,
    "editable": false,
    "nbgrader": {
     "cell_type": "markdown",
     "checksum": "79f05dc1cb6ff3c6ba97f079c8987a5e",
     "grade": false,
     "grade_id": "cell-ed67bee516375726",
     "locked": true,
     "schema_version": 3,
     "solution": false,
     "task": false
    }
   },
   "source": [
    "### Quiz: Does the *greedy* algorithm, described in the video, provide optimal results? (2 Points)\n",
    "- A: Its speed is optimal.\n",
    "- B: It may not find the path to the goal.\n",
    "- C: There may be a shorter path.\n",
    "- D: There is always a shorter path."
   ]
  },
  {
   "cell_type": "code",
   "execution_count": 23,
   "metadata": {
    "deletable": false,
    "nbgrader": {
     "cell_type": "code",
     "checksum": "aaf034cea69af95e09e6cb0d606dd38c",
     "grade": false,
     "grade_id": "cell-376af5a16e545a95",
     "locked": false,
     "schema_version": 3,
     "solution": true,
     "task": false
    }
   },
   "outputs": [],
   "source": [
    "the_greedy_fulfills = \"C\"\n",
    "# YOUR CODE HERE\n",
    "#raise NotImplementedError()"
   ]
  },
  {
   "cell_type": "code",
   "execution_count": 24,
   "metadata": {
    "deletable": false,
    "editable": false,
    "nbgrader": {
     "cell_type": "code",
     "checksum": "babcde24a4e44c0700cbee58ca7b1576",
     "grade": true,
     "grade_id": "cell-6bb6725da10316a3",
     "locked": true,
     "points": 2,
     "schema_version": 3,
     "solution": false,
     "task": false
    }
   },
   "outputs": [],
   "source": [
    "from hashlib import shake_128\n",
    "def public_string_test(the_answer_string, reference):\n",
    "    m = shake_128()\n",
    "    m.update(the_answer_string.encode())\n",
    "    return m.hexdigest(4) == reference\n",
    "assert public_string_test(\"greedy=\"+the_greedy_fulfills.strip().lower(), 'dcef8344'), \"Oh no, your answer is wrong!\""
   ]
  },
  {
   "cell_type": "markdown",
   "metadata": {
    "deletable": false,
    "editable": false,
    "nbgrader": {
     "cell_type": "markdown",
     "checksum": "ebe3129faa96eea6085afe4c2b5e8871",
     "grade": false,
     "grade_id": "cell-8619241fdd5ba8a7",
     "locked": true,
     "schema_version": 3,
     "solution": false,
     "task": false
    }
   },
   "source": [
    "## The (famous) A* algorithm\n",
    "The A* algorithm (pronounced \"A-star\") is widely used, since it is faster than Dijkstra's original algorithm. It reduces the number of unnecessarily visited nodes, by \"walking towards the goal\", or \"walking less in the wrong direction\". To achieve this, it needs to integrate some \"information about the goal\" into the algorithm. As we will see, all there is to do is to cleverly modify the cost function of our previous algorithm, so that it does not only contain the cost from the start to the node, but also an estimate of the remaining cost to the goal. That is, the A* algorithm is nothing else than Dijkstra's algorithm, with a modified cost function."
   ]
  },
  {
   "cell_type": "code",
   "execution_count": 61,
   "metadata": {
    "deletable": false,
    "editable": false,
    "nbgrader": {
     "cell_type": "code",
     "checksum": "d2636898fb8197fd30a5a39ccee8a30b",
     "grade": false,
     "grade_id": "cell-28d77ad435e8e74a",
     "locked": true,
     "schema_version": 3,
     "solution": false,
     "task": false
    }
   },
   "outputs": [
    {
     "data": {
      "text/html": [
       "\n",
       "        <iframe\n",
       "            width=\"560\"\n",
       "            height=\"315\"\n",
       "            src=\"//av.tib.eu/player/49045\"\n",
       "            frameborder=\"0\"\n",
       "            allowfullscreen\n",
       "        ></iframe>\n",
       "        "
      ],
      "text/plain": [
       "<IPython.lib.display.IFrame at 0x7efe6a0e2b10>"
      ]
     },
     "execution_count": 61,
     "metadata": {},
     "output_type": "execute_result"
    }
   ],
   "source": [
    "# If you don't see a video below, run this cell.\n",
    "from IPython.display import IFrame\n",
    "IFrame(\"https://www.youtube.com/embed/oMR-wIu38_s\" if \"YouTube\" in globals() else \"//av.tib.eu/player/49045\",\n",
    "       width=560, height=315)"
   ]
  },
  {
   "cell_type": "markdown",
   "metadata": {
    "deletable": false,
    "editable": false,
    "nbgrader": {
     "cell_type": "markdown",
     "checksum": "57ed4cb8ee571f7c6a3567d8a62713ee",
     "grade": false,
     "grade_id": "cell-11f49a83434c4b1c",
     "locked": true,
     "schema_version": 3,
     "solution": false,
     "task": false
    }
   },
   "source": [
    "### Programming assignment: modify the algorithm so that it performs A* search (10 Points)."
   ]
  },
  {
   "cell_type": "code",
   "execution_count": 62,
   "metadata": {
    "deletable": false,
    "nbgrader": {
     "cell_type": "code",
     "checksum": "73c04818693c080ee0532d869ad33181",
     "grade": false,
     "grade_id": "cell-b7372a4f92d4bd4b",
     "locked": false,
     "schema_version": 3,
     "solution": true,
     "task": false
    }
   },
   "outputs": [],
   "source": [
    "# pp_01_e_astar\n",
    "def distance(p, q):\n",
    "    \"\"\"Helper function to compute distance between two points.\"\"\"\n",
    "    return np.sqrt((p[0]-q[0])**2 + (p[1]-q[1])**2)\n",
    "\n",
    "def astar(start, goal, obstacles, movements):\n",
    "    \"\"\"A* algorithm.\"\"\"\n",
    "    # In the beginning, the start is the only element in our front.\n",
    "    # NOW, the first element is the total cost through the point, which is\n",
    "    #   the cost from start to point plus the estimated cost to the goal.\n",
    "    # The second element is the cost of the path from the start to the point.\n",
    "    # The third element is the position (cell) of the point.\n",
    "    # The fourth component is the position we came from when entering the tuple\n",
    "    #   to the front.\n",
    "    # CHANGE 01_e: add the total cost of the start node as FIRST ELEMENT to\n",
    "    #   the tuple.\n",
    "    front = [ (0,0.001, start, None) ]\n",
    "\n",
    "    # In the beginning, no cell has been visited.\n",
    "    extents = obstacles.shape\n",
    "    visited = np.zeros(extents, dtype=np.float32)\n",
    "\n",
    "    # Also, we use a dictionary to remember where we came from.\n",
    "    came_from = {}\n",
    "\n",
    "    # While there are elements to investigate in our front.\n",
    "    # YOUR CODE HERE\n",
    "    #raise NotImplementedError()\n",
    "    while front:\n",
    "        # Get smallest item and remove from front.\n",
    "        element_min = heappop(front)\n",
    "        # Check if this has been visited already.\n",
    "        # CHANGE 01_e: use the following line as shown.\n",
    "        total_cost, cost, pos, previous = element_min\n",
    "        if visited[pos] > 0:\n",
    "            continue\n",
    "        # Now it has been visited. Mark with cost.\n",
    "        visited[pos] = cost\n",
    "        # Also remember that we came from previous when we marked pos.\n",
    "        came_from[pos] = previous \n",
    "        # Check if the goal has been reached.\n",
    "        if pos == goal:\n",
    "            break  # Finished!\n",
    "\n",
    "        # Check all neighbors.\n",
    "        for dx, dy, deltacost in movements:\n",
    "            # Determine new position and check bounds.\n",
    "            new_x = pos[0] + dx;\n",
    "            new_y = pos[1] + dy;\n",
    "            if not(new_x >= 0 and new_x < extents[0] and new_y >= 0 and new_y < extents[1]):\n",
    "                continue\n",
    "            # Add to front if: not visited before and no obstacle.\n",
    "            new_pos = (new_x, new_y)\n",
    "            # CHANGE 01_e: When push'ing the new tuple to the heap,\n",
    "            #   this now has to be a 4-tuple:\n",
    "            #   (new_total_cost, new_cost, new_pos, pos)\n",
    "            #   where new_cost is the cost from start to new_pos,\n",
    "            #   and new_total_cost is new_cost plus the estimated cost\n",
    "            #   from new_pos to goal.\n",
    "            if visited[new_pos] == 0 and obstacles[new_pos] != 255:\n",
    "                new_cost = cost+deltacost\n",
    "                new_total_cost = new_cost+distance(new_pos, goal)\n",
    "                heappush(front, (new_total_cost,new_cost, new_pos, pos))\n",
    "    # Reconstruct path, starting from goal.\n",
    "    path = []\n",
    "    if pos == goal:  # If we reached the goal, unwind backwards.\n",
    "        while pos:\n",
    "            path.append(pos)\n",
    "            pos = came_from[pos]\n",
    "        path.reverse()  # Reverse so that path is from start to goal.\n",
    "\n",
    "    return (path, visited)"
   ]
  },
  {
   "cell_type": "markdown",
   "metadata": {
    "deletable": false,
    "editable": false,
    "nbgrader": {
     "cell_type": "markdown",
     "checksum": "b090402106994a145b0981295856f025",
     "grade": false,
     "grade_id": "cell-dcf7c7bb4dd731a5",
     "locked": true,
     "schema_version": 3,
     "solution": false,
     "task": false
    }
   },
   "source": [
    "First the test..."
   ]
  },
  {
   "cell_type": "code",
   "execution_count": 63,
   "metadata": {
    "deletable": false,
    "editable": false,
    "nbgrader": {
     "cell_type": "code",
     "checksum": "4bb0780087585d94f87b277aea24297b",
     "grade": true,
     "grade_id": "cell-2c3cea44c18468b0",
     "locked": true,
     "points": 10,
     "schema_version": 3,
     "solution": false,
     "task": false
    }
   },
   "outputs": [],
   "source": [
    "import numpy as np\n",
    "from scipy.ndimage import minimum_filter\n",
    "from numpy.random import default_rng\n",
    "rng = default_rng()\n",
    "\n",
    "def dt(obstacles, start):\n",
    "    acc = np.full_like(obstacles, np.inf, dtype=float)\n",
    "    acc[start] = 1\n",
    "    m4 = np.array([[0,1,0],[1,0,1],[0,1,0]]).astype(bool)\n",
    "    m4d = np.array([[1,0,1],[0,1,0],[1,0,1]]).astype(bool)\n",
    "    ps2 = 2**(np.sqrt(2))\n",
    "    obsm = obstacles > 0\n",
    "    acc[obsm] = np.inf\n",
    "    accp = np.zeros_like(acc)\n",
    "    while (accp != acc).any():\n",
    "        accp = acc\n",
    "        acc = np.minimum(acc, 2*minimum_filter(acc, footprint=m4))\n",
    "        acc[obsm] = np.inf\n",
    "        acc = np.minimum(acc, ps2*minimum_filter(acc, footprint=m4d))\n",
    "        acc[obsm] = np.inf\n",
    "    return np.log2(acc)\n",
    "\n",
    "def test(the_function):\n",
    "    s2 = np.sqrt(2)\n",
    "    movements = [ (1,0, 1.), (0,1, 1.), (-1,0, 1.), (0,-1, 1.),\n",
    "                  (1,1, s2), (-1,1, s2), (-1,-1, s2), (1,-1, s2) ]\n",
    "    n = 8\n",
    "    for experiment in range(100):\n",
    "        # Random start and goal.\n",
    "        sg = rng.integers(0,n,size=(2,2))\n",
    "        start, goal = tuple(sg[0]), tuple(sg[1])\n",
    "        # Random number of obstacles in random places.\n",
    "        obs_idx = rng.integers(0, n, size=(rng.integers(0, n*n), 2))\n",
    "        obstacles = np.zeros((n,n), dtype=np.uint8)\n",
    "        obstacles[obs_idx[:,0], obs_idx[:,1]] = 255\n",
    "        obstacles[start] = 0  # Never on start or goal.\n",
    "        obstacles[goal] = 0\n",
    "\n",
    "        # Call user function.    \n",
    "        path, visited = the_function(start, goal, obstacles, movements)\n",
    "        offset = visited[start]\n",
    "        if offset <= 0 or offset >= 1:\n",
    "            print(\"You should start the search with a small positive offset.\")\n",
    "            return False\n",
    "\n",
    "        # Compute df.\n",
    "        eps = 1e-3\n",
    "        d = dt(obstacles, start) + offset\n",
    "        dg = d[goal]\n",
    "        if dg < np.inf and not (dg-eps < visited[goal] < dg+eps):\n",
    "            print(\"Goal has wrong cost.\")\n",
    "            return False\n",
    "        xg, yg = np.meshgrid(np.arange(n)-goal[1], np.arange(n)-goal[0])\n",
    "        d2 = d + np.sqrt(xg*xg+yg*yg)\n",
    "        inside = d2 < dg-eps\n",
    "        outside = (d2==np.inf) if dg==np.inf else (d2 > dg+eps)\n",
    "        if not (np.abs(visited[inside] - d[inside]) < eps).all() or\\\n",
    "           not (visited[outside]==0).all():\n",
    "            print(\"Error: for start, goal:\", start, goal, \"and obstacles\\n\",\n",
    "                  obstacles, \"\\nvisited was\\n\", np.round(visited,1),\n",
    "                  \"\\nand distances were\\n\", np.round(d,1))\n",
    "            return False\n",
    "\n",
    "        # Some path checks.\n",
    "        if dg < np.inf:\n",
    "            if tuple(path[0]) != start or\\\n",
    "               tuple(path[-1]) != goal:\n",
    "                print(\"Path start or goal is wrong.\")\n",
    "                return False\n",
    "            # Check that path has monotonously increasing cost.\n",
    "            costs = [d[p] for p in path]\n",
    "            if costs != sorted(costs):\n",
    "                print(\"Path is wrong - should have increasing cost.\")\n",
    "                return False\n",
    "            # Check that path proceeds in steps of one.\n",
    "            if len(path) > 1:\n",
    "                steps = [ (p[0],p[1],q[0],q[1]) for p, q in zip(path, path[1:])]\n",
    "                if max(abs(t[0]-t[2]) for t in steps) > 1 or\\\n",
    "                   max(abs(t[1]-t[3]) for t in steps) > 1:\n",
    "                    print(\"Path should have only +/-1 steps in x and y.\")\n",
    "                    return False\n",
    "    return True\n",
    "assert test(astar), \"Oh no, it's wrong!\""
   ]
  },
  {
   "cell_type": "markdown",
   "metadata": {
    "deletable": false,
    "editable": false,
    "nbgrader": {
     "cell_type": "markdown",
     "checksum": "5077009fa5acc020c9f1fc60f21f12a4",
     "grade": false,
     "grade_id": "cell-032cc725b8525d81",
     "locked": true,
     "schema_version": 3,
     "solution": false,
     "task": false
    }
   },
   "source": [
    "### Try out the A* algorithm!\n",
    "You should notice:\n",
    "- It visits far less nodes, especially, it omits the nodes far away from the goal.\n",
    "- It is much faster."
   ]
  },
  {
   "cell_type": "code",
   "execution_count": 64,
   "metadata": {
    "deletable": false,
    "editable": false,
    "nbgrader": {
     "cell_type": "code",
     "checksum": "dc27b45eca228272f05f92ce575895f8",
     "grade": false,
     "grade_id": "cell-6d8e46505c529278",
     "locked": true,
     "schema_version": 3,
     "solution": false,
     "task": false
    }
   },
   "outputs": [
    {
     "data": {
      "application/vnd.jupyter.widget-view+json": {
       "model_id": "bd0dc20dbbec444b82b86a073e675a2c",
       "version_major": 2,
       "version_minor": 0
      },
      "text/plain": [
       "AppLayout(children=(HBox(children=(Button(description='Clear', style=ButtonStyle(), tooltip='clear obstacles')…"
      ]
     },
     "metadata": {},
     "output_type": "display_data"
    }
   ],
   "source": [
    "from ipy_ppviewer import PPViewer\n",
    "class MyPPViewer(PPViewer):\n",
    "    def compute(self, x1, y1, t1, x2, y2, t2, obstacles, potential):\n",
    "        return astar((x1,y1), (x2,y2), obstacles, movements)\n",
    "MyPPViewer(200, 150).run()"
   ]
  },
  {
   "cell_type": "markdown",
   "metadata": {
    "deletable": false,
    "editable": false,
    "nbgrader": {
     "cell_type": "markdown",
     "checksum": "f4f7182a719922e85e72e7bdd5b4cbd5",
     "grade": false,
     "grade_id": "cell-06f4521e4ec7fa3f",
     "locked": true,
     "schema_version": 3,
     "solution": false,
     "task": false
    }
   },
   "source": [
    "## A* with an added potential function.\n",
    "This is our first attempt to get a more \"realisitc\" solution to our path. We notice that in our previous solution, the path will often go very close along the obstacles. This is of course correct, given that the cost function minimizes the path cost only and does not take \"safety envelopes\" of obstacles into account. However, in reality, we would like to have a trade-off between the shortest path and the distance to obstacles, as explained in the following video."
   ]
  },
  {
   "cell_type": "code",
   "execution_count": 65,
   "metadata": {
    "deletable": false,
    "editable": false,
    "nbgrader": {
     "cell_type": "code",
     "checksum": "df6833efa87055280c969708f6b62299",
     "grade": false,
     "grade_id": "cell-602e130317428950",
     "locked": true,
     "schema_version": 3,
     "solution": false,
     "task": false
    }
   },
   "outputs": [
    {
     "data": {
      "text/html": [
       "\n",
       "        <iframe\n",
       "            width=\"560\"\n",
       "            height=\"315\"\n",
       "            src=\"//av.tib.eu/player/49046\"\n",
       "            frameborder=\"0\"\n",
       "            allowfullscreen\n",
       "        ></iframe>\n",
       "        "
      ],
      "text/plain": [
       "<IPython.lib.display.IFrame at 0x7efe69b7c4d0>"
      ]
     },
     "execution_count": 65,
     "metadata": {},
     "output_type": "execute_result"
    }
   ],
   "source": [
    "# If you don't see a video below, run this cell.\n",
    "from IPython.display import IFrame\n",
    "IFrame(\"https://www.youtube.com/embed/nQtmUH3UCi4\" if \"YouTube\" in globals() else \"//av.tib.eu/player/49046\",\n",
    "       width=560, height=315)"
   ]
  },
  {
   "cell_type": "markdown",
   "metadata": {
    "deletable": false,
    "editable": false,
    "nbgrader": {
     "cell_type": "markdown",
     "checksum": "118c86c0b2f5770e322a5233e9ee8ab2",
     "grade": false,
     "grade_id": "cell-7ff1d32f900b353d",
     "locked": true,
     "schema_version": 3,
     "solution": false,
     "task": false
    }
   },
   "source": [
    "### Programming assignment: adding the potential function (5 Points)."
   ]
  },
  {
   "cell_type": "code",
   "execution_count": 43,
   "metadata": {
    "deletable": false,
    "nbgrader": {
     "cell_type": "code",
     "checksum": "7a8aa1ce477c0b597d383a0ac57f5f73",
     "grade": false,
     "grade_id": "cell-21db18321461b3c1",
     "locked": false,
     "schema_version": 3,
     "solution": true,
     "task": false
    }
   },
   "outputs": [],
   "source": [
    "# pp_01_f_astar_potential_function\n",
    "def astar_2(start, goal, obstacles, movements):\n",
    "    \"\"\"A* algorithm.\"\"\"\n",
    "    # In the beginning, the start is the only element in our front.\n",
    "    # The first element is the cost of the path from the start to the point.\n",
    "    # The second element is the position (cell) of the point.\n",
    "    front = [ (distance(start, goal), 0.001, start, None) ]\n",
    "    #front = [ (start) ]\n",
    "    # In the beginning, no cell has been visited.\n",
    "    extents = obstacles.shape\n",
    "    visited = np.zeros(extents, dtype=np.float32)\n",
    "\n",
    "    # Also, we use a dictionary to remember where we came from.\n",
    "    came_from = {}\n",
    "\n",
    "    # While there are elements to investigate in our front.\n",
    "    # YOUR CODE HERE\n",
    "    #raise NotImplementedError()\n",
    "    while front:\n",
    "        # Get smallest item and remove from front.\n",
    "        element_min = heappop(front)\n",
    "        # Check if this has been visited already.\n",
    "        total_cost, cost, pos, previous = element_min\n",
    "        if visited[pos] > 0:\n",
    "            continue\n",
    "        # Now it has been visited. Mark with cost.\n",
    "        visited[pos] = cost\n",
    "        # Also remember that we came from previous when we marked pos.\n",
    "        came_from[pos] = previous \n",
    "        # Check if the goal has been reached.\n",
    "        if pos == goal:\n",
    "            break  # Finished!\n",
    "\n",
    "        # Check all neighbors.\n",
    "        for dx, dy, deltacost in movements:\n",
    "            # Determine new position and check bounds.\n",
    "            new_x = pos[0] + dx;\n",
    "            new_y = pos[1] + dy;\n",
    "            if not(new_x >= 0 and new_x < extents[0] and new_y >= 0 and new_y < extents[1]):\n",
    "                continue\n",
    "            # Add to front if: not visited before and no obstacle.\n",
    "            new_pos = (new_x, new_y)\n",
    "            # CHANGE 01_f: add the 'obstacle cost' to new_cost AND\n",
    "            #   new_total_cost. As obstacle cost, use:\n",
    "            #   obstacles[new_pos] / 64.\n",
    "            #   The divider 64 determines the tradeoff between 'avoiding\n",
    "            #   obstacles' and 'driving longer distances'. You may experiment\n",
    "            #   with other values, but make sure you set it back to 64 for\n",
    "            #   the grader.\n",
    "            # Please check again that you do not enter a tuple into\n",
    "            # the heap if it has been visited already or its obstacles[]\n",
    "            # value is 255 (check for '==255', not for '> 0').\n",
    "            if visited[new_pos] == 0 and obstacles[new_pos] != 255:\n",
    "                new_cost = cost+deltacost + obstacles[new_pos]/64\n",
    "                new_total_cost = new_cost+distance(new_pos, goal) \n",
    "                heappush(front, (new_total_cost, new_cost, new_pos, pos))\n",
    "                \n",
    "    # Reconstruct path, starting from goal.\n",
    "    path = []\n",
    "    if pos == goal:  # If we reached the goal, unwind backwards.\n",
    "        while pos:\n",
    "            path.append(pos)\n",
    "            pos = came_from[pos]\n",
    "        path.reverse()  # Reverse so that path is from start to goal.\n",
    "\n",
    "    return (path, visited)"
   ]
  },
  {
   "cell_type": "markdown",
   "metadata": {
    "deletable": false,
    "editable": false,
    "nbgrader": {
     "cell_type": "markdown",
     "checksum": "98bff95d485902e862516edd74232806",
     "grade": false,
     "grade_id": "cell-81bb5195c4740b63",
     "locked": true,
     "schema_version": 3,
     "solution": false,
     "task": false
    }
   },
   "source": [
    "First, the test..."
   ]
  },
  {
   "cell_type": "code",
   "execution_count": 66,
   "metadata": {
    "deletable": false,
    "editable": false,
    "nbgrader": {
     "cell_type": "code",
     "checksum": "df7e53d7c5eeb5a62115afaa1c2edcb2",
     "grade": true,
     "grade_id": "cell-02c2fffab1079dcb",
     "locked": true,
     "points": 5,
     "schema_version": 3,
     "solution": false,
     "task": false
    }
   },
   "outputs": [],
   "source": [
    "import numpy as np\n",
    "from scipy.ndimage import minimum_filter\n",
    "from scipy.ndimage.morphology import distance_transform_edt\n",
    "from numpy.random import default_rng\n",
    "rng = default_rng()\n",
    "\n",
    "def dt(obstacles, potential, start):\n",
    "    acc = np.full_like(obstacles, np.inf, dtype=float)\n",
    "    acc[start] = 1\n",
    "    m4 = np.array([[0,1,0],[1,0,1],[0,1,0]]).astype(bool)\n",
    "    m4d = np.array([[1,0,1],[0,1,0],[1,0,1]]).astype(bool)\n",
    "    ps2, pot2 = 2**(np.sqrt(2)), 2**(potential/64)\n",
    "    obsm = obstacles > 0\n",
    "    acc[obsm] = np.inf\n",
    "    accp = np.zeros_like(acc)\n",
    "    while (accp != acc).any():\n",
    "        accp = acc\n",
    "        acc = np.minimum(acc, 2*minimum_filter(acc, footprint=m4)*pot2)\n",
    "        acc[obsm] = np.inf\n",
    "        acc = np.minimum(acc, ps2*minimum_filter(acc, footprint=m4d)*pot2)\n",
    "        acc[obsm] = np.inf\n",
    "    return np.log2(acc)\n",
    "\n",
    "def test(the_function):\n",
    "    s2 = np.sqrt(2)\n",
    "    movements = [ (1,0, 1.), (0,1, 1.), (-1,0, 1.), (0,-1, 1.),\n",
    "                  (1,1, s2), (-1,1, s2), (-1,-1, s2), (1,-1, s2) ]\n",
    "    n = 16\n",
    "    for experiment in range(100):\n",
    "        # Random start and goal.\n",
    "        sg = rng.integers(0,n,size=(2,2))\n",
    "        start, goal = tuple(sg[0]), tuple(sg[1])\n",
    "        # Random number of obstacles in random places.\n",
    "        obs_idx = rng.integers(0, n, size=(rng.integers(0, n), 2))\n",
    "        obstacles = np.zeros((n,n), dtype=np.uint8)\n",
    "        obstacles[obs_idx[:,0], obs_idx[:,1]] = 255\n",
    "        obstacles[start] = 0  # Never on start or goal.\n",
    "        obstacles[goal] = 0\n",
    "        # Add potential.\n",
    "        dt_edt = distance_transform_edt(255-obstacles)\n",
    "        potential = np.maximum(255.0 - dt_edt*16, 0).astype(np.uint8)\\\n",
    "                  - obstacles\n",
    "        # Call user function.    \n",
    "        path, visited = the_function(start, goal, obstacles+potential,\n",
    "                                     movements)\n",
    "        offset = visited[start]\n",
    "        if offset <= 0 or offset >= 1:\n",
    "            print(\"You should start the search with a small positive offset.\")\n",
    "            return False\n",
    "        # Compute df. This time, include potential.\n",
    "        eps = 1e-3\n",
    "        d = dt(obstacles, potential, start) + offset\n",
    "        dg = d[goal]\n",
    "        if dg < np.inf and not (dg-eps < visited[goal] < dg+eps):\n",
    "            print(\"Goal has wrong cost.\")\n",
    "            return False\n",
    "        xg, yg = np.meshgrid(np.arange(n)-goal[1], np.arange(n)-goal[0])\n",
    "        d2 = d + np.sqrt(xg*xg+yg*yg)\n",
    "        inside = d2 < dg-eps\n",
    "        outside = (d2==np.inf) if dg==np.inf else (d2 > dg+eps)\n",
    "        if not (np.abs(visited[inside] - d[inside]) < eps).all() or\\\n",
    "           not (visited[outside]==0).all():\n",
    "            print(\"Error: for start, goal:\", start, goal, \"and obstacles\\n\",\n",
    "                  obstacles, \"\\nvisited was\\n\", np.round(visited,1),\n",
    "                  \"\\nand distances were\\n\", np.round(d,1))\n",
    "            return False\n",
    "\n",
    "        # Some path checks.\n",
    "        if dg < np.inf:\n",
    "            if tuple(path[0]) != start or\\\n",
    "               tuple(path[-1]) != goal:\n",
    "                print(\"Path start or goal is wrong.\")\n",
    "                return False\n",
    "            # Check that path has monotonously increasing cost.\n",
    "            costs = [d[p] for p in path]\n",
    "            if costs != sorted(costs):\n",
    "                print(\"Path is wrong - should have increasing cost.\")\n",
    "                return False\n",
    "            # Check that path proceeds in steps of one.\n",
    "            if len(path) > 1:\n",
    "                steps = [ (p[0],p[1],q[0],q[1]) for p, q in zip(path, path[1:])]\n",
    "                if max(abs(t[0]-t[2]) for t in steps) > 1 or\\\n",
    "                   max(abs(t[1]-t[3]) for t in steps) > 1:\n",
    "                    print(\"Path should have only +/-1 steps in x and y.\")\n",
    "                    return False\n",
    "    return True\n",
    "assert test(astar_2), \"Oh no, it's wrong!\""
   ]
  },
  {
   "cell_type": "markdown",
   "metadata": {
    "deletable": false,
    "editable": false,
    "nbgrader": {
     "cell_type": "markdown",
     "checksum": "f55ac53a2081d96da45d4378f36646a7",
     "grade": false,
     "grade_id": "cell-236a70900d6e8d60",
     "locked": true,
     "schema_version": 3,
     "solution": false,
     "task": false
    }
   },
   "source": [
    "### Then, again, try it out interactively!\n",
    "Try to invent some \"parking lot\" examples on your own!"
   ]
  },
  {
   "cell_type": "code",
   "execution_count": 67,
   "metadata": {
    "deletable": false,
    "editable": false,
    "nbgrader": {
     "cell_type": "code",
     "checksum": "c027189505c19e4eaa3e4f3c0200858a",
     "grade": false,
     "grade_id": "cell-e2387c1304a81e3b",
     "locked": true,
     "schema_version": 3,
     "solution": false,
     "task": false
    }
   },
   "outputs": [
    {
     "data": {
      "application/vnd.jupyter.widget-view+json": {
       "model_id": "ad08a3a974e245caba1c787b7277b8b6",
       "version_major": 2,
       "version_minor": 0
      },
      "text/plain": [
       "AppLayout(children=(HBox(children=(Button(description='Clear', style=ButtonStyle(), tooltip='clear obstacles')…"
      ]
     },
     "metadata": {},
     "output_type": "display_data"
    }
   ],
   "source": [
    "from ipy_ppviewer import PPViewer\n",
    "class MyPPViewer(PPViewer):\n",
    "    def compute(self, x1, y1, t1, x2, y2, t2, obstacles, potential):\n",
    "        return astar_2((x1,y1), (x2,y2), obstacles+potential, movements)\n",
    "MyPPViewer(200, 150, enable_potential_field=True).run()"
   ]
  },
  {
   "cell_type": "markdown",
   "metadata": {
    "deletable": false,
    "editable": false,
    "nbgrader": {
     "cell_type": "markdown",
     "checksum": "76d0cdb8b3bbb5799b403e2fbb0398ad",
     "grade": false,
     "grade_id": "cell-1f9cdb0e4c757d8c",
     "locked": true,
     "schema_version": 3,
     "solution": false,
     "task": false
    }
   },
   "source": [
    "# Search in kinematic space\n",
    "So far, we have searched in a grid of cells. This can be useful for robots (like the one we had in the earlier units) which are able to turn on the spot. However, imagine a normal car. It can only move straight or along a circle, whose radius is determined by the steering wheel, and the radius cannot be smaller than a given minimum radius, determined by the construction (and specified in the car's user manual).\n",
    "\n",
    "In this last part of the unit, we will explore an algorithm that searches in *kinematic space*, so that the generated path would be suitable to control the steering wheel of a car."
   ]
  },
  {
   "cell_type": "code",
   "execution_count": 68,
   "metadata": {
    "deletable": false,
    "editable": false,
    "nbgrader": {
     "cell_type": "code",
     "checksum": "9e26e3484345eed40d41a2b8b6a6c854",
     "grade": false,
     "grade_id": "cell-1495480c36724af6",
     "locked": true,
     "schema_version": 3,
     "solution": false,
     "task": false
    }
   },
   "outputs": [
    {
     "data": {
      "text/html": [
       "\n",
       "        <iframe\n",
       "            width=\"560\"\n",
       "            height=\"315\"\n",
       "            src=\"//av.tib.eu/player/49047\"\n",
       "            frameborder=\"0\"\n",
       "            allowfullscreen\n",
       "        ></iframe>\n",
       "        "
      ],
      "text/plain": [
       "<IPython.lib.display.IFrame at 0x7efe6a078dd0>"
      ]
     },
     "execution_count": 68,
     "metadata": {},
     "output_type": "execute_result"
    }
   ],
   "source": [
    "# If you don't see a video below, run this cell.\n",
    "from IPython.display import IFrame\n",
    "IFrame(\"https://www.youtube.com/embed/XNZkiDOVsNk\" if \"YouTube\" in globals() else \"//av.tib.eu/player/49047\",\n",
    "       width=560, height=315)"
   ]
  },
  {
   "cell_type": "markdown",
   "metadata": {
    "deletable": false,
    "editable": false,
    "nbgrader": {
     "cell_type": "markdown",
     "checksum": "ca118f3f478a55811c55b1bc141c8e49",
     "grade": false,
     "grade_id": "cell-12d7d087a4610039",
     "locked": true,
     "schema_version": 3,
     "solution": false,
     "task": false
    }
   },
   "source": [
    "### Quiz: How can we get our algorithm faster? (2 Points)\n",
    "Our algorithm is slow when the distance between the start and goal is large, especially, for some orientations of the goal pose. What would be the proper solution if we want to apply our algorithm to (much) larger datasets?\n",
    "- A: We need a faster processor.\n",
    "- B: We need a computer with more memory.\n",
    "- C: We need a faster hard disk.\n",
    "- D: None of the above solutions will help."
   ]
  },
  {
   "cell_type": "code",
   "execution_count": 69,
   "metadata": {
    "deletable": false,
    "nbgrader": {
     "cell_type": "code",
     "checksum": "633c8be8fd2f13c7bd96eb0e0c99dfe6",
     "grade": false,
     "grade_id": "cell-248438af26953edf",
     "locked": false,
     "schema_version": 3,
     "solution": true,
     "task": false
    }
   },
   "outputs": [],
   "source": [
    "what_we_should_do = \"D\"\n",
    "# YOUR CODE HERE\n",
    "#raise NotImplementedError()"
   ]
  },
  {
   "cell_type": "code",
   "execution_count": 70,
   "metadata": {
    "deletable": false,
    "editable": false,
    "nbgrader": {
     "cell_type": "code",
     "checksum": "82a8678a3abda3726124e795d87ff201",
     "grade": true,
     "grade_id": "cell-bfb4846e6805c825",
     "locked": true,
     "points": 2,
     "schema_version": 3,
     "solution": false,
     "task": false
    }
   },
   "outputs": [],
   "source": [
    "from hashlib import shake_128\n",
    "def public_string_test(the_answer_string, reference):\n",
    "    m = shake_128()\n",
    "    m.update(the_answer_string.encode())\n",
    "    return m.hexdigest(4) == reference\n",
    "assert public_string_test(\"do\"+what_we_should_do.strip().lower(), '464329be'), \"Oh no, your answer is wrong!\""
   ]
  },
  {
   "cell_type": "markdown",
   "metadata": {
    "deletable": false,
    "editable": false,
    "nbgrader": {
     "cell_type": "markdown",
     "checksum": "da168e3734f165d7fff8601282eb43f6",
     "grade": false,
     "grade_id": "cell-3956dd2a04115f0f",
     "locked": true,
     "schema_version": 3,
     "solution": false,
     "task": false
    }
   },
   "source": [
    "### Run the following cells to play a bit with the \"kinematic statespace routing\".\n",
    "Note that this program is provided, it is not a programming assignment -- so you can start playing right away!"
   ]
  },
  {
   "cell_type": "code",
   "execution_count": 71,
   "metadata": {},
   "outputs": [],
   "source": [
    "# pp_02_a_car_statespace\n",
    "# --------------------------------------------------------------------------\n",
    "# Helper class for curved segments.\n",
    "# --------------------------------------------------------------------------\n",
    "class CurveSegment:\n",
    "    @staticmethod\n",
    "    def end_pose(start_pose, curvature, length):\n",
    "        \"\"\"Returns end pose, given start pose, curvature and length.\"\"\"\n",
    "        x, y, theta = start_pose\n",
    "        if curvature == 0.0:\n",
    "            # Linear movement.\n",
    "            x, y = x + length * np.cos(theta), y + length * np.sin(theta)\n",
    "            return (x, y, theta)\n",
    "        else:\n",
    "            # Curve segment of radius 1/curvature.\n",
    "            tx, ty, radius = np.cos(theta), np.sin(theta), 1.0/curvature\n",
    "            xc, yc = x - radius * ty, y + radius * tx  # Center of circle.\n",
    "            angle = length / radius\n",
    "            cosa, sina = np.cos(angle), np.sin(angle)\n",
    "            nx = xc + radius * (cosa * ty + sina * tx)\n",
    "            ny = yc + radius * (sina * ty - cosa * tx)\n",
    "            ntheta = (theta + angle + np.pi) % (2*np.pi) - np.pi\n",
    "            return (nx, ny, ntheta)\n",
    "\n",
    "    @staticmethod\n",
    "    def segment_points(start_pose, curvature, length, delta_length):\n",
    "        \"\"\"Return points of segment, at delta_length intervals.\"\"\"\n",
    "        l = 0.0\n",
    "        delta_length = np.copysign(delta_length, length)\n",
    "        points = []\n",
    "        while abs(l) < abs(length):\n",
    "            points.append(CurveSegment.end_pose(start_pose, curvature, l)[0:2])\n",
    "            l += delta_length\n",
    "        return points\n",
    "\n",
    "# --------------------------------------------------------------------------\n",
    "# Exploration of car's kinematic state space.\n",
    "# --------------------------------------------------------------------------\n",
    "\n",
    "# Allowed movements. These are given as tuples: (curvature, length).\n",
    "kinematic_movements = [(1.0/10, 5.0), (0.0, 5.0), (-1.0/10, 5.0)]\n",
    "\n",
    "# Helper functions.\n",
    "def states_close(p, q):\n",
    "    \"\"\"Checks if two poses (x, y, heading) are the same within a tolerance.\"\"\"\n",
    "    d_angle = abs((p[2]-q[2]+np.pi) % (2*np.pi) - np.pi)\n",
    "    # For the sake of simplicity, tolerances are hardcoded here:\n",
    "    # 15 degrees for the heading angle, 2.0 for the position.\n",
    "    return d_angle < np.radians(15.) and distance(p, q) <= 2.0\n",
    "\n",
    "def explore_statespace(start_pose, goal_pose, obstacles, movements):\n",
    "    \"\"\"Try to find a sequence of curved segments from start to goal.\"\"\"\n",
    "\n",
    "    # Init front: the only element is the start pose.\n",
    "    # Each tuple contains:\n",
    "    # (total_cost, cost, pose, previous_pose, move_index).\n",
    "    front = [ (distance(start_pose, goal_pose), 0.0001, start_pose,\n",
    "               None, None) ]\n",
    "\n",
    "    # In the beginning, no cell has been visited.\n",
    "    extents = obstacles.shape\n",
    "    visited_cells = np.zeros(extents, dtype=np.float32)\n",
    "\n",
    "    # Also, no states have been generated.\n",
    "    generated_states = {}\n",
    "\n",
    "    while front:\n",
    "        # Stop search if the front gets too large.\n",
    "        if len(front) > 500000:\n",
    "            print(\"Timeout.\")\n",
    "            break\n",
    "\n",
    "        # Pop smallest item from heap.\n",
    "        total_cost, cost, pose, previous_pose, move = heappop(front)\n",
    "\n",
    "        # Mark visited_cell which encloses this pose.\n",
    "        visited_cells[int(pose[0]), int(pose[1])] = cost\n",
    "\n",
    "        # Enter into visited states, also use this to remember where we\n",
    "        # came from and which move we used.\n",
    "        generated_states[pose] = (previous_pose, move)\n",
    "\n",
    "        # Check if we have (approximately) reached the goal.\n",
    "        if states_close(pose, goal_pose):\n",
    "            break  # Finished!\n",
    "\n",
    "        # Check all possible movements.\n",
    "        for i in range(len(movements)):\n",
    "            curvature, length = movements[i]\n",
    "\n",
    "            # Determine new pose and check bounds.\n",
    "            new_pose = CurveSegment.end_pose(pose, curvature, length)\n",
    "            if not (0 <= new_pose[0] < extents[0] and \\\n",
    "                    0 <= new_pose[1] < extents[1]):\n",
    "                continue\n",
    "\n",
    "            # Add to front if there is no obstacle.\n",
    "            if not obstacles[(int(new_pose[0]), int(new_pose[1]))] == 255:\n",
    "                new_cost = cost + abs(length)\n",
    "                total_cost = new_cost + distance(new_pose, goal_pose)\n",
    "                heappush(front, (total_cost, new_cost, new_pose, pose, i))\n",
    "\n",
    "    # Reconstruct path, starting from goal.\n",
    "    if states_close(pose, goal_pose):\n",
    "        path = []\n",
    "        path.append(pose[0:2])\n",
    "        pose, move = generated_states[pose]\n",
    "        while pose:\n",
    "            points = CurveSegment.segment_points(pose,\n",
    "                movements[move][0], movements[move][1], 2.0)\n",
    "            path.extend(reversed(points))\n",
    "            pose, move = generated_states[pose]\n",
    "        path.reverse()\n",
    "    else:\n",
    "        path = []\n",
    "\n",
    "    return path, visited_cells"
   ]
  },
  {
   "cell_type": "markdown",
   "metadata": {
    "deletable": false,
    "editable": false,
    "nbgrader": {
     "cell_type": "markdown",
     "checksum": "b964c2d9657388933765c2030751be42",
     "grade": false,
     "grade_id": "cell-64f25ffd4a61a7af",
     "locked": true,
     "schema_version": 3,
     "solution": false,
     "task": false
    }
   },
   "source": [
    "### Run the interactive viewer!\n",
    "As mentioned in the video, the user interface for setting the start and goal point has been extended, as now, the algorithm takes *poses* (position and heading), not just points. To set a pose, proceed exactly as before, but drag the mouse around to set the heading. That is, **to set the start point, hold shift, then also click and hold the left mouse button and drag the mouse around**. You will then see the small heading indicator following your mouse location. For the goal point, do the same using the middle or right mouse button."
   ]
  },
  {
   "cell_type": "code",
   "execution_count": 72,
   "metadata": {
    "deletable": false,
    "editable": false,
    "nbgrader": {
     "cell_type": "code",
     "checksum": "07de0551569a95654fb72d8b9f1c0082",
     "grade": false,
     "grade_id": "cell-88f792bee92739c7",
     "locked": true,
     "schema_version": 3,
     "solution": false,
     "task": false
    }
   },
   "outputs": [
    {
     "data": {
      "application/vnd.jupyter.widget-view+json": {
       "model_id": "abe81d98948b4fdc9c91e8b5c5158863",
       "version_major": 2,
       "version_minor": 0
      },
      "text/plain": [
       "AppLayout(children=(HBox(children=(Button(description='Clear', style=ButtonStyle(), tooltip='clear obstacles')…"
      ]
     },
     "metadata": {},
     "output_type": "display_data"
    }
   ],
   "source": [
    "from ipy_ppviewer import PPViewer\n",
    "class MyPPViewer(PPViewer):\n",
    "    def compute(self, x1, y1, t1, x2, y2, t2, obstacles, potential):\n",
    "        return explore_statespace((x1,y1,t1), (x2,y2,t2), obstacles, kinematic_movements)\n",
    "MyPPViewer(100, 75, scale_factor=5, draw_start_goal_heading=True).run()"
   ]
  },
  {
   "cell_type": "markdown",
   "metadata": {
    "deletable": false,
    "editable": false,
    "nbgrader": {
     "cell_type": "markdown",
     "checksum": "afd4fed7559e274ee9920a98b621e4f1",
     "grade": false,
     "grade_id": "cell-9836c765eae2a28a",
     "locked": true,
     "schema_version": 3,
     "solution": false,
     "task": false
    }
   },
   "source": [
    "## A* in kinematic state space\n",
    "Now in this final programming assignment, we will use the kinematic state space search, as before. However, we will mark the states (poses) we have already visited, and thus prevent the algorithm from exploring them again. This is similar to what we did in the A* algorithm above. As a result, we will get an algorithm of polynomial instead of exponential time complexity. Since there is an \"infinite\" number of continuous poses, we will discretize them in order to memorize visited poses. Discretization is done by the `index = pose_index(pose)` helper function below."
   ]
  },
  {
   "cell_type": "code",
   "execution_count": 73,
   "metadata": {
    "deletable": false,
    "editable": false,
    "nbgrader": {
     "cell_type": "code",
     "checksum": "23b308e91a16f40e01bfbbfc6ab80b0f",
     "grade": false,
     "grade_id": "cell-d1dd92bc3ae96c5c",
     "locked": true,
     "schema_version": 3,
     "solution": false,
     "task": false
    }
   },
   "outputs": [
    {
     "data": {
      "text/html": [
       "\n",
       "        <iframe\n",
       "            width=\"560\"\n",
       "            height=\"315\"\n",
       "            src=\"//av.tib.eu/player/49048\"\n",
       "            frameborder=\"0\"\n",
       "            allowfullscreen\n",
       "        ></iframe>\n",
       "        "
      ],
      "text/plain": [
       "<IPython.lib.display.IFrame at 0x7efe69d50a50>"
      ]
     },
     "execution_count": 73,
     "metadata": {},
     "output_type": "execute_result"
    }
   ],
   "source": [
    "# If you don't see a video below, run this cell.\n",
    "from IPython.display import IFrame\n",
    "IFrame(\"https://www.youtube.com/embed/rnf4t00uSmk\" if \"YouTube\" in globals() else \"//av.tib.eu/player/49048\",\n",
    "       width=560, height=315)"
   ]
  },
  {
   "cell_type": "markdown",
   "metadata": {
    "deletable": false,
    "editable": false,
    "nbgrader": {
     "cell_type": "markdown",
     "checksum": "87175b2ec215bf51469a28d6cc02f75f",
     "grade": false,
     "grade_id": "cell-17a630038236c060",
     "locked": true,
     "schema_version": 3,
     "solution": false,
     "task": false
    }
   },
   "source": [
    "### Final programming assignment: mark the poses we have already explored (5 Points)."
   ]
  },
  {
   "cell_type": "code",
   "execution_count": 75,
   "metadata": {
    "deletable": false,
    "nbgrader": {
     "cell_type": "code",
     "checksum": "dc9406c71ca8831e95b1ee0dfb87c1e0",
     "grade": false,
     "grade_id": "cell-4ba2b8dbfdcedba4",
     "locked": false,
     "schema_version": 3,
     "solution": true,
     "task": false
    }
   },
   "outputs": [],
   "source": [
    "# pp_02_b_car_statespace_astar\n",
    "# Allowed movements. These are given as tuples: (curvature, length).\n",
    "# The list contains forward and backward movements.\n",
    "# Use [0:3] for forward movements only.\n",
    "kinematic_movements = [(1.0/10, 5.0), (0.0, 5.0), (-1.0/10, 5.0),\n",
    "                       (1.0/10, -5.0), (0.0, -5.0), (-1.0/10, -5.0)]\n",
    "\n",
    "# Helper functions.\n",
    "def pose_index(pose):\n",
    "    \"\"\"Given a pose, returns a discrete version (a triple index).\"\"\"\n",
    "    # Again, raster sizes are hardcoded here for simplicity.\n",
    "    pos_raster = 1.0\n",
    "    heading_raster = np.radians(10.)\n",
    "    xi = int(np.floor(pose[0] / pos_raster))\n",
    "    yi = int(np.floor(pose[1] / pos_raster))\n",
    "    ti = int(np.floor(pose[2] / heading_raster))\n",
    "    return (xi, yi, ti)\n",
    "\n",
    "def astar_statespace(start_pose, goal_pose, obstacles, movements):\n",
    "    \"\"\"Try to find a sequence of curve segments from start to goal.\"\"\"\n",
    "\n",
    "    # Init front: the only element is the start pose.\n",
    "    # Each tuple contains:\n",
    "    # (total_cost, cost, pose, previous_pose, move_index).\n",
    "    front = [ (distance(start_pose, goal_pose), 0.0001, start_pose,\n",
    "               None, None) ]\n",
    "\n",
    "    # In the beginning, no cell has been visited.\n",
    "    extents = obstacles.shape\n",
    "    visited_cells = np.zeros(extents, dtype=np.float32)\n",
    "\n",
    "    # Also, no states have been generated.\n",
    "    generated_states = {}\n",
    "\n",
    "    # YOUR CODE HERE\n",
    "    #raise NotImplementedError()\n",
    "    while front:\n",
    "        # Stop search if the front gets too large.\n",
    "        if len(front) > 500000:\n",
    "            print(\"Timeout.\")\n",
    "            break\n",
    "\n",
    "        # Pop smallest item from heap.\n",
    "        total_cost, cost, pose, previous_pose, move = heappop(front)\n",
    "\n",
    "        # Compute discrete index.\n",
    "        # CHANGE 02_b: compute a discrete pose index pose_idx from pose,\n",
    "        #   using the function pose_index() above.\n",
    "        pose_idx = pose_index(pose)\n",
    "        # Check if this has been visited already.\n",
    "        # CHANGE 02_b: check if pose_index is in generated_states already,\n",
    "        #   and if so, skip the rest of the loop. (This is the point where\n",
    "        #   we prevent exponential growth.)\n",
    "        if pose_idx in generated_states:\n",
    "            continue\n",
    "        # Mark visited_cell which encloses this pose.\n",
    "        visited_cells[int(pose[0]), int(pose[1])] = cost\n",
    "\n",
    "        # Enter into visited states, also use this to remember where we\n",
    "        # came from and which move we used.\n",
    "        # CHANGE 02_b: Change the following line so that the index is the\n",
    "        #   discrete pose instead of the continuous pose.\n",
    "        generated_states[pose_idx] = (previous_pose, move)\n",
    "\n",
    "        # Check if we have (approximately) reached the goal.\n",
    "        if states_close(pose, goal_pose):\n",
    "            break  # Finished!\n",
    "\n",
    "        # Check all possible movements.\n",
    "        for i in range(len(movements)):\n",
    "            curvature, length = movements[i]\n",
    "\n",
    "            # Determine new pose and check bounds.\n",
    "            new_pose = CurveSegment.end_pose(pose, curvature, length)\n",
    "            if not (0 <= new_pose[0] < extents[0] and \\\n",
    "                    0 <= new_pose[1] < extents[1]):\n",
    "                continue\n",
    "\n",
    "            # Add to front if there is no obstacle.\n",
    "            if not obstacles[(int(new_pose[0]), int(new_pose[1]))] == 255:\n",
    "                new_cost = cost + abs(length)\n",
    "                total_cost = new_cost + distance(new_pose, goal_pose)\n",
    "                heappush(front, (total_cost, new_cost, new_pose, pose, i))\n",
    "\n",
    "    # Reconstruct path, starting from goal.\n",
    "    # (Take this part of the code as is. Note it is different from the\n",
    "    #  pp_02_a code.)\n",
    "    if states_close(pose, goal_pose):\n",
    "        path = []\n",
    "        path.append(pose[0:2])\n",
    "        pose, move = generated_states[pose_index(pose)]\n",
    "        while pose:\n",
    "            points = CurveSegment.segment_points(pose,\n",
    "                movements[move][0], movements[move][1], 2.0)\n",
    "            path.extend(reversed(points))\n",
    "            pose, move = generated_states[pose_index(pose)]\n",
    "        path.reverse()\n",
    "    else:\n",
    "        path = []\n",
    "\n",
    "    return path, visited_cells"
   ]
  },
  {
   "cell_type": "markdown",
   "metadata": {
    "deletable": false,
    "editable": false,
    "nbgrader": {
     "cell_type": "markdown",
     "checksum": "044d162d485731056f0a5fcb0f031e30",
     "grade": false,
     "grade_id": "cell-2ca428ff0bd66a56",
     "locked": true,
     "schema_version": 3,
     "solution": false,
     "task": false
    }
   },
   "source": [
    "As usual, the test. If you get \"Timeout.\" here, you did not successfully suppress the exploration of already visited nodes."
   ]
  },
  {
   "cell_type": "code",
   "execution_count": 76,
   "metadata": {
    "deletable": false,
    "editable": false,
    "nbgrader": {
     "cell_type": "code",
     "checksum": "ac9ccaf8dbf3d31a523f4e88b49ac681",
     "grade": true,
     "grade_id": "cell-c22c874fa3efabc8",
     "locked": true,
     "points": 5,
     "schema_version": 3,
     "solution": false,
     "task": false
    }
   },
   "outputs": [],
   "source": [
    "import numpy as np\n",
    "\n",
    "def test(the_function):\n",
    "    move = [(1.0/10, 5.0), (0.0, 5.0), (-1.0/10, 5.0)]\n",
    "\n",
    "    arena = (100, 100)\n",
    "    obstacles = np.zeros(arena, dtype=np.uint8)\n",
    "    angles = [ i*np.pi/2 - np.pi for i in range(4) ]\n",
    "    path_lengths = []\n",
    "    for start_heading in angles:\n",
    "        start = (arena[0]//4, arena[1]//4, start_heading)\n",
    "        for goal_heading in angles:\n",
    "            goal = ((arena[0]*3)//4, (arena[1]*3)//4, goal_heading)\n",
    "            path, visited = the_function(start, goal, obstacles, move)\n",
    "            path_lengths.append(len(path))\n",
    "    return path_lengths == [70,61,55,58,61,70,58,55,55,55,46,46,55,55,46,46]\n",
    "\n",
    "assert test(astar_statespace), \"Oh no, it's wrong!\""
   ]
  },
  {
   "cell_type": "markdown",
   "metadata": {
    "deletable": false,
    "editable": false,
    "nbgrader": {
     "cell_type": "markdown",
     "checksum": "996ad1c9007fe5c2ec55e40378bf8f3e",
     "grade": false,
     "grade_id": "cell-547274dc0c4c5617",
     "locked": true,
     "schema_version": 3,
     "solution": false,
     "task": false
    }
   },
   "source": [
    "### Finally: explore the kinematic state space routing interactively!\n",
    "Try different start and goal headings, setting obstacles, and enabling the `Backward` button!\n",
    "\n",
    "Note: If at some point the path seems \"to go through an obstacle\", then the obstacle is simply \"too thin\". This happens since in our statespace exploration, we consider moves of length 5, so that \"walls\" can be crossed if they are less wide."
   ]
  },
  {
   "cell_type": "code",
   "execution_count": 78,
   "metadata": {
    "deletable": false,
    "editable": false,
    "nbgrader": {
     "cell_type": "code",
     "checksum": "d797709b3d5ed445f7cd13ccaaa38afc",
     "grade": false,
     "grade_id": "cell-42fe44dad91b2231",
     "locked": true,
     "schema_version": 3,
     "solution": false,
     "task": false
    }
   },
   "outputs": [
    {
     "data": {
      "application/vnd.jupyter.widget-view+json": {
       "model_id": "14233581251b485ab881a31fb64989f7",
       "version_major": 2,
       "version_minor": 0
      },
      "text/plain": [
       "AppLayout(children=(HBox(children=(Button(description='Clear', style=ButtonStyle(), tooltip='clear obstacles')…"
      ]
     },
     "metadata": {},
     "output_type": "display_data"
    }
   ],
   "source": [
    "from ipy_ppviewer import PPViewer\n",
    "class MyPPViewer(PPViewer):\n",
    "    def compute(self, x1, y1, t1, x2, y2, t2, obstacles, potential):\n",
    "        move = kinematic_movements if self.option_button_state() else kinematic_movements[0:3]\n",
    "        return astar_statespace((x1,y1,t1), (x2,y2,t2), obstacles, move)\n",
    "MyPPViewer(100, 75, scale_factor=5, draw_start_goal_heading=True, option_button_name=\"Backward\").run()"
   ]
  },
  {
   "cell_type": "markdown",
   "metadata": {
    "deletable": false,
    "editable": false,
    "nbgrader": {
     "cell_type": "markdown",
     "checksum": "881883c127e6b6ad7dfdea92f7a206e8",
     "grade": false,
     "grade_id": "cell-930157ed0f22ca75",
     "locked": true,
     "schema_version": 3,
     "solution": false,
     "task": false
    }
   },
   "source": [
    "# Conclusions & congratulations!"
   ]
  },
  {
   "cell_type": "code",
   "execution_count": 42,
   "metadata": {
    "deletable": false,
    "editable": false,
    "nbgrader": {
     "cell_type": "code",
     "checksum": "7b29b05054f8be9e7e2b40997283a10f",
     "grade": false,
     "grade_id": "cell-61c5d12311c575d4",
     "locked": true,
     "schema_version": 3,
     "solution": false,
     "task": false
    }
   },
   "outputs": [
    {
     "data": {
      "text/html": [
       "\n",
       "        <iframe\n",
       "            width=\"560\"\n",
       "            height=\"315\"\n",
       "            src=\"//av.tib.eu/player/49049\"\n",
       "            frameborder=\"0\"\n",
       "            allowfullscreen\n",
       "        ></iframe>\n",
       "        "
      ],
      "text/plain": [
       "<IPython.lib.display.IFrame at 0x7efe6a7ff750>"
      ]
     },
     "execution_count": 42,
     "metadata": {},
     "output_type": "execute_result"
    }
   ],
   "source": [
    "# If you don't see a video below, run this cell.\n",
    "from IPython.display import IFrame\n",
    "IFrame(\"https://www.youtube.com/embed/JFtZnMu6PDQ\" if \"YouTube\" in globals() else \"//av.tib.eu/player/49049\",\n",
    "       width=560, height=315)"
   ]
  }
 ],
 "metadata": {
  "copyright": "(c) Claus Brenner 2021",
  "kernelspec": {
   "display_name": "Python 3",
   "language": "python",
   "name": "python3"
  },
  "language_info": {
   "codemirror_mode": {
    "name": "ipython",
    "version": 3
   },
   "file_extension": ".py",
   "mimetype": "text/x-python",
   "name": "python",
   "nbconvert_exporter": "python",
   "pygments_lexer": "ipython3",
   "version": "3.7.8"
  }
 },
 "nbformat": 4,
 "nbformat_minor": 4
}
